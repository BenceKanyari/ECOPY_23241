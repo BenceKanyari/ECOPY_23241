{
 "cells": [
  {
   "cell_type": "markdown",
   "source": [
    "# Lista feladatok"
   ],
   "metadata": {
    "collapsed": false
   },
   "id": "bfa98d17c32c9644"
  },
  {
   "cell_type": "code",
   "execution_count": 41,
   "outputs": [],
   "source": [
    "# 1., Hozzon létre egy listát a következő elemekkel a Subscript operátor segítségével: 17, 18, 3.14, a, alma"
   ],
   "metadata": {
    "collapsed": false,
    "ExecuteTime": {
     "end_time": "2023-09-15T09:40:30.896503Z",
     "start_time": "2023-09-15T09:40:30.008606Z"
    }
   },
   "id": "initial_id"
  },
  {
   "cell_type": "code",
   "execution_count": 42,
   "outputs": [],
   "source": [
    "mylist = [17, 18, 3.14, 'a', 'alma']"
   ],
   "metadata": {
    "collapsed": false,
    "ExecuteTime": {
     "end_time": "2023-09-15T09:40:30.897640Z",
     "start_time": "2023-09-15T09:40:30.010537Z"
    }
   },
   "id": "9e6bb1295f6a1c41"
  },
  {
   "cell_type": "code",
   "execution_count": 43,
   "outputs": [],
   "source": [
    "# 2., Hozzon létre egy listát a list() függvény alkalmazásával: 1, 2, 3, 4, 5, 6, 7, 8, 9, 10"
   ],
   "metadata": {
    "collapsed": false,
    "ExecuteTime": {
     "end_time": "2023-09-15T09:40:30.897731Z",
     "start_time": "2023-09-15T09:40:30.011901Z"
    }
   },
   "id": "1a0427c3806a075e"
  },
  {
   "cell_type": "code",
   "execution_count": 3,
   "outputs": [],
   "source": [
    "my_list = list(range(1, 11))"
   ],
   "metadata": {
    "collapsed": false,
    "ExecuteTime": {
     "end_time": "2023-09-15T20:57:11.007550Z",
     "start_time": "2023-09-15T20:57:10.969684Z"
    }
   },
   "id": "af29f62bec3fe845"
  },
  {
   "cell_type": "code",
   "execution_count": 45,
   "outputs": [],
   "source": [
    "# 3., Adja vissza a lista 1. indexén lévő elemét"
   ],
   "metadata": {
    "collapsed": false,
    "ExecuteTime": {
     "end_time": "2023-09-15T09:40:30.965021Z",
     "start_time": "2023-09-15T09:40:30.015395Z"
    }
   },
   "id": "87a48bdd04adc666"
  },
  {
   "cell_type": "code",
   "execution_count": 46,
   "outputs": [
    {
     "name": "stdout",
     "output_type": "stream",
     "text": [
      "1\n"
     ]
    }
   ],
   "source": [
    "elso_elem = my_list[0]\n",
    "print(elso_elem)"
   ],
   "metadata": {
    "collapsed": false,
    "ExecuteTime": {
     "end_time": "2023-09-15T09:40:30.965205Z",
     "start_time": "2023-09-15T09:40:30.016688Z"
    }
   },
   "id": "f7b55ce66eaa1477"
  },
  {
   "cell_type": "code",
   "execution_count": 47,
   "outputs": [],
   "source": [
    "# 4., Adja vissza a lista 1 elemét"
   ],
   "metadata": {
    "collapsed": false,
    "ExecuteTime": {
     "end_time": "2023-09-15T09:40:30.965350Z",
     "start_time": "2023-09-15T09:40:30.018615Z"
    }
   },
   "id": "cb4dee7d4c8dae1c"
  },
  {
   "cell_type": "code",
   "execution_count": 48,
   "outputs": [
    {
     "name": "stdout",
     "output_type": "stream",
     "text": [
      "2\n",
      "0\n"
     ]
    }
   ],
   "source": [
    "masodik_elem = my_list[1]\n",
    "print(masodik_elem)\n",
    "keresett_elem = my_list.index(1)\n",
    "print(keresett_elem)"
   ],
   "metadata": {
    "collapsed": false,
    "ExecuteTime": {
     "end_time": "2023-09-15T09:40:30.965536Z",
     "start_time": "2023-09-15T09:40:30.019728Z"
    }
   },
   "id": "b1682229162f49ec"
  },
  {
   "cell_type": "code",
   "execution_count": 49,
   "outputs": [],
   "source": [
    "# 5., Adja vissza a lista legnagyobb elemét"
   ],
   "metadata": {
    "collapsed": false,
    "ExecuteTime": {
     "end_time": "2023-09-15T09:40:30.965599Z",
     "start_time": "2023-09-15T09:40:30.021212Z"
    }
   },
   "id": "c988bd6fd6137bd1"
  },
  {
   "cell_type": "code",
   "execution_count": 50,
   "outputs": [
    {
     "name": "stdout",
     "output_type": "stream",
     "text": [
      "10\n"
     ]
    }
   ],
   "source": [
    "legnagyobb_elem = max(my_list)\n",
    "print(legnagyobb_elem)"
   ],
   "metadata": {
    "collapsed": false,
    "ExecuteTime": {
     "end_time": "2023-09-15T09:40:30.965770Z",
     "start_time": "2023-09-15T09:40:30.022143Z"
    }
   },
   "id": "2c94a4cc8ec5936d"
  },
  {
   "cell_type": "code",
   "execution_count": 51,
   "outputs": [],
   "source": [
    "# 6. Adja vissza a lista legnagyobb elemének az indexét"
   ],
   "metadata": {
    "collapsed": false,
    "ExecuteTime": {
     "end_time": "2023-09-15T09:40:30.982411Z",
     "start_time": "2023-09-15T09:40:30.023730Z"
    }
   },
   "id": "f2d0f6303be357d0"
  },
  {
   "cell_type": "code",
   "execution_count": 52,
   "outputs": [
    {
     "name": "stdout",
     "output_type": "stream",
     "text": [
      "9\n"
     ]
    }
   ],
   "source": [
    "legnagyobb_elem_index = my_list.index(legnagyobb_elem)\n",
    "print(legnagyobb_elem_index)"
   ],
   "metadata": {
    "collapsed": false,
    "ExecuteTime": {
     "end_time": "2023-09-15T09:40:30.982628Z",
     "start_time": "2023-09-15T09:40:30.025231Z"
    }
   },
   "id": "d3c2f3d961fd0a72"
  },
  {
   "cell_type": "code",
   "execution_count": 53,
   "outputs": [],
   "source": [
    "# 7., Írjon egy függvényt ami megvizsgálja, hogy a listában létezik-e egy adott elem\n",
    "# függvény név: contains_value\n",
    "# bemeneti paraméterek: input_list, element \n",
    "# kimeneti típus: bool "
   ],
   "metadata": {
    "collapsed": false,
    "ExecuteTime": {
     "end_time": "2023-09-15T09:40:30.982694Z",
     "start_time": "2023-09-15T09:40:30.026984Z"
    }
   },
   "id": "75d189cb06cb410"
  },
  {
   "cell_type": "code",
   "execution_count": 54,
   "outputs": [],
   "source": [
    "def contains_value(input_list, element):\n",
    "    return element in input_list"
   ],
   "metadata": {
    "collapsed": false,
    "ExecuteTime": {
     "end_time": "2023-09-15T09:40:30.982763Z",
     "start_time": "2023-09-15T09:40:30.032543Z"
    }
   },
   "id": "2874f3f5f7334f7a"
  },
  {
   "cell_type": "code",
   "execution_count": 55,
   "outputs": [
    {
     "name": "stdout",
     "output_type": "stream",
     "text": [
      "True\n"
     ]
    }
   ],
   "source": [
    "keresett_elem = 3\n",
    "talalat = contains_value(my_list, keresett_elem)\n",
    "print(talalat) "
   ],
   "metadata": {
    "collapsed": false,
    "ExecuteTime": {
     "end_time": "2023-09-15T09:40:30.982928Z",
     "start_time": "2023-09-15T09:40:30.034454Z"
    }
   },
   "id": "a1550da6b798fb6d"
  },
  {
   "cell_type": "code",
   "execution_count": 56,
   "outputs": [],
   "source": [
    "# 8., Írjon egy függvényt ami megvizsgálja, hogy hány elem található a listában.\n",
    "# függvény név: number_of_elements_in_list\n",
    "# bemeneti paraméterek: input_list \n",
    "# kimeneti típus: int "
   ],
   "metadata": {
    "collapsed": false,
    "ExecuteTime": {
     "end_time": "2023-09-15T09:40:30.982989Z",
     "start_time": "2023-09-15T09:40:30.037196Z"
    }
   },
   "id": "4ff7a5a8e77c3570"
  },
  {
   "cell_type": "code",
   "execution_count": 57,
   "outputs": [],
   "source": [
    "def number_of_elements_in_list(input_list):\n",
    "    return len(input_list)"
   ],
   "metadata": {
    "collapsed": false,
    "ExecuteTime": {
     "end_time": "2023-09-15T09:40:30.983045Z",
     "start_time": "2023-09-15T09:40:30.039296Z"
    }
   },
   "id": "9c77237804758b96"
  },
  {
   "cell_type": "code",
   "execution_count": 58,
   "outputs": [
    {
     "name": "stdout",
     "output_type": "stream",
     "text": [
      "10\n"
     ]
    }
   ],
   "source": [
    "elemek_szama = number_of_elements_in_list(my_list)\n",
    "print(elemek_szama)"
   ],
   "metadata": {
    "collapsed": false,
    "ExecuteTime": {
     "end_time": "2023-09-15T09:40:30.983167Z",
     "start_time": "2023-09-15T09:40:30.041282Z"
    }
   },
   "id": "bed569e50734a02c"
  },
  {
   "cell_type": "code",
   "execution_count": 59,
   "outputs": [],
   "source": [
    "# 9., Írjon egy függvényt ami törli az összes elemet a listából\n",
    "# függvény név: remove_every_element_from_list\n",
    "# bemeneti paraméterek: input_list \n",
    "# kimeneti típus: None "
   ],
   "metadata": {
    "collapsed": false,
    "ExecuteTime": {
     "end_time": "2023-09-15T09:40:30.983229Z",
     "start_time": "2023-09-15T09:40:30.043478Z"
    }
   },
   "id": "e00fdbc3454b3e0"
  },
  {
   "cell_type": "code",
   "execution_count": 60,
   "outputs": [],
   "source": [
    "def remove_every_element_from_list(input_list):\n",
    "    input_list.clear()"
   ],
   "metadata": {
    "collapsed": false,
    "ExecuteTime": {
     "end_time": "2023-09-15T09:40:30.983294Z",
     "start_time": "2023-09-15T09:40:30.045636Z"
    }
   },
   "id": "86ea2864ab680a75"
  },
  {
   "cell_type": "code",
   "execution_count": 61,
   "outputs": [
    {
     "name": "stdout",
     "output_type": "stream",
     "text": [
      "[]\n"
     ]
    }
   ],
   "source": [
    "remove_every_element_from_list(my_list)\n",
    "print(my_list)\n",
    "my_list = list(range(1, 11))"
   ],
   "metadata": {
    "collapsed": false,
    "ExecuteTime": {
     "end_time": "2023-09-15T09:40:30.983409Z",
     "start_time": "2023-09-15T09:40:30.048314Z"
    }
   },
   "id": "fd4fb9107a1c62e6"
  },
  {
   "cell_type": "code",
   "execution_count": 62,
   "outputs": [],
   "source": [
    "# 10., Írjon egy függvényt ami fordított sorrendben adja vissza a lista összes elemét\n",
    "# függvény név: reverse_list\n",
    "# bemeneti paraméterek: input_list \n",
    "# kimeneti típus: List "
   ],
   "metadata": {
    "collapsed": false,
    "ExecuteTime": {
     "end_time": "2023-09-15T09:40:30.983469Z",
     "start_time": "2023-09-15T09:40:30.050319Z"
    }
   },
   "id": "4b93b2aa868093d7"
  },
  {
   "cell_type": "code",
   "execution_count": 6,
   "outputs": [],
   "source": [
    "def reverse_list(input_list):\n",
    "    return input_list[::-1]"
   ],
   "metadata": {
    "collapsed": false,
    "ExecuteTime": {
     "end_time": "2023-09-16T10:29:35.829261Z",
     "start_time": "2023-09-16T10:29:35.795096Z"
    }
   },
   "id": "b3573ccabce315f6"
  },
  {
   "cell_type": "code",
   "execution_count": 20,
   "outputs": [
    {
     "name": "stdout",
     "output_type": "stream",
     "text": [
      "[10, 9, 8, 7, 6, 5, 4, 3, 2, 1]\n",
      "[10, 9, 8, 7, 6, 5, 4, 3, 2, 1]\n"
     ]
    }
   ],
   "source": [
    "forditott_lista = reverse_list(my_list)\n",
    "print(forditott_lista)"
   ],
   "metadata": {
    "collapsed": false,
    "ExecuteTime": {
     "end_time": "2023-09-16T10:34:23.050154Z",
     "start_time": "2023-09-16T10:34:23.012604Z"
    }
   },
   "id": "793b21ca395bae46"
  },
  {
   "cell_type": "code",
   "execution_count": 65,
   "outputs": [],
   "source": [
    "# 11., Írjon egy függvényt ami vissza adja a bemeneti lista páratlan elemeit\n",
    "# függvény név: odds_from_list\n",
    "# bemeneti paraméterek: input_list \n",
    "# kimeneti típus: List "
   ],
   "metadata": {
    "collapsed": false,
    "ExecuteTime": {
     "end_time": "2023-09-15T09:40:30.983684Z",
     "start_time": "2023-09-15T09:40:30.056668Z"
    }
   },
   "id": "fd4a515bb1e95737"
  },
  {
   "cell_type": "code",
   "execution_count": 66,
   "outputs": [],
   "source": [
    "def odds_from_list(input_list):\n",
    "    odd_elements = [x for x in input_list if x % 2 != 0]\n",
    "    return odd_elements"
   ],
   "metadata": {
    "collapsed": false,
    "ExecuteTime": {
     "end_time": "2023-09-15T09:40:30.983736Z",
     "start_time": "2023-09-15T09:40:30.059296Z"
    }
   },
   "id": "57a11fda6b893fe3"
  },
  {
   "cell_type": "code",
   "execution_count": 67,
   "outputs": [
    {
     "name": "stdout",
     "output_type": "stream",
     "text": [
      "[1, 3, 5, 7, 9]\n"
     ]
    }
   ],
   "source": [
    "paratlan_elemek = odds_from_list(my_list)\n",
    "print(paratlan_elemek)"
   ],
   "metadata": {
    "collapsed": false,
    "ExecuteTime": {
     "end_time": "2023-09-15T09:40:30.983852Z",
     "start_time": "2023-09-15T09:40:30.061414Z"
    }
   },
   "id": "9f20b2394c40484b"
  },
  {
   "cell_type": "code",
   "execution_count": 68,
   "outputs": [],
   "source": [
    "# 12., Írjon egy függvényt ami megszámolja a bemeneti lista páratlan elemeit\n",
    "# függvény név: number_of_odds_in_list\n",
    "# bemeneti paraméterek: input_list \n",
    "# kimeneti típus: int "
   ],
   "metadata": {
    "collapsed": false,
    "ExecuteTime": {
     "end_time": "2023-09-15T09:40:30.983908Z",
     "start_time": "2023-09-15T09:40:30.063441Z"
    }
   },
   "id": "28290ea181d27115"
  },
  {
   "cell_type": "code",
   "execution_count": 69,
   "outputs": [],
   "source": [
    "def number_of_odds_in_list(input_list):\n",
    "    odd_count = sum(1 for x in input_list if x % 2 != 0)\n",
    "    return odd_count"
   ],
   "metadata": {
    "collapsed": false,
    "ExecuteTime": {
     "end_time": "2023-09-15T09:40:30.983961Z",
     "start_time": "2023-09-15T09:40:30.065663Z"
    }
   },
   "id": "279b237c1175983"
  },
  {
   "cell_type": "code",
   "execution_count": 70,
   "outputs": [
    {
     "name": "stdout",
     "output_type": "stream",
     "text": [
      "5\n"
     ]
    }
   ],
   "source": [
    "paratlan_elemek_szama = number_of_odds_in_list(my_list)\n",
    "print(paratlan_elemek_szama) "
   ],
   "metadata": {
    "collapsed": false,
    "ExecuteTime": {
     "end_time": "2023-09-15T09:40:30.984064Z",
     "start_time": "2023-09-15T09:40:30.067641Z"
    }
   },
   "id": "9cf78a5e1fa0aa59"
  },
  {
   "cell_type": "code",
   "execution_count": 71,
   "outputs": [],
   "source": [
    "# 13., Írjon egy függvényt ami visszaadja, hogy a bemeneti listának van-e páratlan eleme\n",
    "# függvény név: contains_odd\n",
    "# bemeneti paraméterek: input_list \n",
    "# kimeneti típus: bool "
   ],
   "metadata": {
    "collapsed": false,
    "ExecuteTime": {
     "end_time": "2023-09-15T09:40:30.984115Z",
     "start_time": "2023-09-15T09:40:30.070063Z"
    }
   },
   "id": "337fe85c1df2c4d4"
  },
  {
   "cell_type": "code",
   "execution_count": 72,
   "outputs": [],
   "source": [
    "def contains_odd(input_list):\n",
    "    for element in input_list:\n",
    "        if element % 2 != 0:\n",
    "            return True\n",
    "    return False"
   ],
   "metadata": {
    "collapsed": false,
    "ExecuteTime": {
     "end_time": "2023-09-15T09:40:30.984168Z",
     "start_time": "2023-09-15T09:40:30.072413Z"
    }
   },
   "id": "a0fc68adef56fd06"
  },
  {
   "cell_type": "code",
   "execution_count": 73,
   "outputs": [
    {
     "name": "stdout",
     "output_type": "stream",
     "text": [
      "True\n"
     ]
    }
   ],
   "source": [
    "tartalmaz_paratlant = contains_odd(my_list)\n",
    "print(tartalmaz_paratlant)"
   ],
   "metadata": {
    "collapsed": false,
    "ExecuteTime": {
     "end_time": "2023-09-15T09:40:30.984284Z",
     "start_time": "2023-09-15T09:40:30.074250Z"
    }
   },
   "id": "aef3c724f03cb646"
  },
  {
   "cell_type": "code",
   "execution_count": 74,
   "outputs": [],
   "source": [
    "# 14., Írjon egy függvényt ami visszaadja a 2. legnagyobb elemet listában \n",
    "# függvény név: second_largest_in_list\n",
    "# bemeneti paraméterek: input_list \n",
    "# kimeneti típus: int "
   ],
   "metadata": {
    "collapsed": false,
    "ExecuteTime": {
     "end_time": "2023-09-15T09:40:30.984338Z",
     "start_time": "2023-09-15T09:40:30.076850Z"
    }
   },
   "id": "fb1703151c29792"
  },
  {
   "cell_type": "code",
   "execution_count": 75,
   "outputs": [],
   "source": [
    "def second_largest_in_list(input_list):\n",
    "    if len(input_list) < 2:\n",
    "        raise ValueError(\"The list does not contain at least two items\")\n",
    "    \n",
    "    sorted_list = sorted(input_list, reverse=True)\n",
    "    return sorted_list[1]"
   ],
   "metadata": {
    "collapsed": false,
    "ExecuteTime": {
     "end_time": "2023-09-15T09:40:30.984392Z",
     "start_time": "2023-09-15T09:40:30.079495Z"
    }
   },
   "id": "15ed7bf088bf47cf"
  },
  {
   "cell_type": "code",
   "execution_count": 76,
   "outputs": [
    {
     "name": "stdout",
     "output_type": "stream",
     "text": [
      "9\n"
     ]
    }
   ],
   "source": [
    "masodik_legnagyobb = second_largest_in_list(my_list)\n",
    "print(masodik_legnagyobb) "
   ],
   "metadata": {
    "collapsed": false,
    "ExecuteTime": {
     "end_time": "2023-09-15T09:40:30.984501Z",
     "start_time": "2023-09-15T09:40:30.081682Z"
    }
   },
   "id": "496288a1070b52d6"
  },
  {
   "cell_type": "code",
   "execution_count": 77,
   "outputs": [],
   "source": [
    "# 15., Írjon egy függvényt ami kiszámítja a lista elemek összegét \n",
    "# függvény név: sum_of_elements_in_list\n",
    "# bemeneti paraméterek: input_list \n",
    "# kimeneti típus: float "
   ],
   "metadata": {
    "collapsed": false,
    "ExecuteTime": {
     "end_time": "2023-09-15T09:40:30.984866Z",
     "start_time": "2023-09-15T09:40:30.083326Z"
    }
   },
   "id": "63ccbb5d3bb44ccd"
  },
  {
   "cell_type": "code",
   "execution_count": 78,
   "outputs": [],
   "source": [
    "def sum_of_elements_in_list(input_list):\n",
    "    return float(sum(input_list))"
   ],
   "metadata": {
    "collapsed": false,
    "ExecuteTime": {
     "end_time": "2023-09-15T09:40:30.984918Z",
     "start_time": "2023-09-15T09:40:30.087782Z"
    }
   },
   "id": "24c9f32b0be09452"
  },
  {
   "cell_type": "code",
   "execution_count": 79,
   "outputs": [
    {
     "name": "stdout",
     "output_type": "stream",
     "text": [
      "55.0\n"
     ]
    }
   ],
   "source": [
    "osszeg = sum_of_elements_in_list(my_list)\n",
    "print(osszeg) "
   ],
   "metadata": {
    "collapsed": false,
    "ExecuteTime": {
     "end_time": "2023-09-15T09:40:30.985030Z",
     "start_time": "2023-09-15T09:40:30.089736Z"
    }
   },
   "id": "4f4d84e216c131b7"
  },
  {
   "cell_type": "code",
   "execution_count": 80,
   "outputs": [],
   "source": [
    "# 16., Írjon egy függvényt ami kiszámítja a lista elemek kumulált összegét\n",
    "# függvény név: cumsum_list\n",
    "# bemeneti paraméterek: input_list \n",
    "# kimeneti típus: List "
   ],
   "metadata": {
    "collapsed": false,
    "ExecuteTime": {
     "end_time": "2023-09-15T09:40:30.985086Z",
     "start_time": "2023-09-15T09:40:30.091964Z"
    }
   },
   "id": "783928cacc8f343e"
  },
  {
   "cell_type": "code",
   "execution_count": 81,
   "outputs": [],
   "source": [
    "def cumsum_list(input_list):\n",
    "    cumsum = []\n",
    "    current_sum = 0\n",
    "    \n",
    "    for element in input_list:\n",
    "        current_sum += element\n",
    "        cumsum.append(current_sum)\n",
    "    \n",
    "    return cumsum"
   ],
   "metadata": {
    "collapsed": false,
    "ExecuteTime": {
     "end_time": "2023-09-15T09:40:30.985156Z",
     "start_time": "2023-09-15T09:40:30.099841Z"
    }
   },
   "id": "82eb965beced99b4"
  },
  {
   "cell_type": "code",
   "execution_count": 82,
   "outputs": [
    {
     "name": "stdout",
     "output_type": "stream",
     "text": [
      "[1, 3, 6, 10, 15, 21, 28, 36, 45, 55]\n"
     ]
    }
   ],
   "source": [
    "kumulalt_osszeg = cumsum_list(my_list)\n",
    "print(kumulalt_osszeg)"
   ],
   "metadata": {
    "collapsed": false,
    "ExecuteTime": {
     "end_time": "2023-09-15T09:40:30.985262Z",
     "start_time": "2023-09-15T09:40:30.102312Z"
    }
   },
   "id": "3e40d3bc6c266a25"
  },
  {
   "cell_type": "code",
   "execution_count": 83,
   "outputs": [],
   "source": [
    "# 17., Írjon egy függvényt ami kiszámítja 2 lista elemenként vett összegét\n",
    "# függvény név: element_wise_sum\n",
    "# bemeneti paraméterek: input_list1, input_list2 \n",
    "# kimeneti típus: List "
   ],
   "metadata": {
    "collapsed": false,
    "ExecuteTime": {
     "end_time": "2023-09-15T09:40:30.985316Z",
     "start_time": "2023-09-15T09:40:30.104531Z"
    }
   },
   "id": "1520ae4325fd9565"
  },
  {
   "cell_type": "code",
   "execution_count": 84,
   "outputs": [],
   "source": [
    "def element_wise_sum(input_list1, input_list2):\n",
    "    if len(input_list1) != len(input_list2):\n",
    "        raise ValueError(\"The two lists are not the same length\")\n",
    "    \n",
    "    result = [x + y for x, y in zip(input_list1, input_list2)]\n",
    "    return result"
   ],
   "metadata": {
    "collapsed": false,
    "ExecuteTime": {
     "end_time": "2023-09-15T09:40:30.985368Z",
     "start_time": "2023-09-15T09:40:30.109785Z"
    }
   },
   "id": "68f45914d66fee0f"
  },
  {
   "cell_type": "code",
   "execution_count": 85,
   "outputs": [
    {
     "name": "stdout",
     "output_type": "stream",
     "text": [
      "[6, 6, 6, 6, 6]\n"
     ]
    }
   ],
   "source": [
    "list1 = [1, 2, 3, 4, 5]\n",
    "list2 = [5, 4, 3, 2, 1]\n",
    "osszeg_lista = element_wise_sum(list1, list2)\n",
    "print(osszeg_lista)"
   ],
   "metadata": {
    "collapsed": false,
    "ExecuteTime": {
     "end_time": "2023-09-15T09:40:30.985476Z",
     "start_time": "2023-09-15T09:40:30.112723Z"
    }
   },
   "id": "8587e0ed68288c5b"
  },
  {
   "cell_type": "code",
   "execution_count": 86,
   "outputs": [],
   "source": [
    "# 18., Írjon egy függvényt ami visszaadja egy lista, 2 tetszőleges index között vett rész listáját\n",
    "# függvény név: subset_of_list\n",
    "# bemeneti paraméterek: input_list, start_index, end_index\n",
    "# kimeneti típus: List "
   ],
   "metadata": {
    "collapsed": false,
    "ExecuteTime": {
     "end_time": "2023-09-15T09:40:30.985529Z",
     "start_time": "2023-09-15T09:40:30.114579Z"
    }
   },
   "id": "950494bcdf89e3d9"
  },
  {
   "cell_type": "code",
   "execution_count": 87,
   "outputs": [],
   "source": [
    "def subset_of_list(input_list, start_index, end_index):\n",
    "    if start_index < 0 or end_index >= len(input_list) or start_index > end_index:\n",
    "        raise ValueError(\"Invalid indices\")\n",
    "\n",
    "    subset = input_list[start_index:end_index + 1]\n",
    "    return subset"
   ],
   "metadata": {
    "collapsed": false,
    "ExecuteTime": {
     "end_time": "2023-09-15T09:40:30.985580Z",
     "start_time": "2023-09-15T09:40:30.116858Z"
    }
   },
   "id": "720d5fe404eacb35"
  },
  {
   "cell_type": "code",
   "execution_count": 88,
   "outputs": [
    {
     "name": "stdout",
     "output_type": "stream",
     "text": [
      "[3, 4, 5, 6]\n"
     ]
    }
   ],
   "source": [
    "kezdo_index = 2\n",
    "vegi_index = 5\n",
    "reszlista = subset_of_list(my_list, kezdo_index, vegi_index)\n",
    "print(reszlista)"
   ],
   "metadata": {
    "collapsed": false,
    "ExecuteTime": {
     "end_time": "2023-09-15T09:40:30.985693Z",
     "start_time": "2023-09-15T09:40:30.118326Z"
    }
   },
   "id": "2e1456a04608edeb"
  },
  {
   "cell_type": "code",
   "execution_count": 89,
   "outputs": [],
   "source": [
    "# 19., Írjon egy függvényt ami visszaadja egy lista minden n-edik elemét listaként\n",
    "# függvény név: every_nth\n",
    "# bemeneti paraméterek: input_list, step_size\n",
    "# kimeneti típus: List "
   ],
   "metadata": {
    "collapsed": false,
    "ExecuteTime": {
     "end_time": "2023-09-15T09:40:30.985749Z",
     "start_time": "2023-09-15T09:40:30.120927Z"
    }
   },
   "id": "b9ce22f42af9fa7c"
  },
  {
   "cell_type": "code",
   "execution_count": 90,
   "outputs": [],
   "source": [
    "def every_nth(input_list, step_size):\n",
    "    if step_size < 1:\n",
    "        raise ValueError(\"Invalid step spacing\")\n",
    "    \n",
    "    result = input_list[::step_size]\n",
    "    return result"
   ],
   "metadata": {
    "collapsed": false,
    "ExecuteTime": {
     "end_time": "2023-09-15T09:40:30.985801Z",
     "start_time": "2023-09-15T09:40:30.124040Z"
    }
   },
   "id": "975736f2becc9bac"
  },
  {
   "cell_type": "code",
   "execution_count": 91,
   "outputs": [
    {
     "name": "stdout",
     "output_type": "stream",
     "text": [
      "[1, 4, 7, 10]\n"
     ]
    }
   ],
   "source": [
    "lepeskoz = 3\n",
    "n_elemek = every_nth(my_list, lepeskoz)\n",
    "print(n_elemek)"
   ],
   "metadata": {
    "collapsed": false,
    "ExecuteTime": {
     "end_time": "2023-09-15T09:40:30.985907Z",
     "start_time": "2023-09-15T09:40:30.125902Z"
    }
   },
   "id": "357370587272fc81"
  },
  {
   "cell_type": "code",
   "execution_count": 92,
   "outputs": [],
   "source": [
    "# 20., Írjon egy függvényt ami eldönti, hogy a lista minden eleme egyedi-e\n",
    "# függvény név: only_unique_in_list\n",
    "# bemeneti paraméterek: input_list\n",
    "# kimeneti típus: bool "
   ],
   "metadata": {
    "collapsed": false,
    "ExecuteTime": {
     "end_time": "2023-09-15T09:40:30.985960Z",
     "start_time": "2023-09-15T09:40:30.128083Z"
    }
   },
   "id": "5816b89192f934a1"
  },
  {
   "cell_type": "code",
   "execution_count": 93,
   "outputs": [],
   "source": [
    "def only_unique_in_list(input_list):\n",
    "    unique_set = set(input_list)\n",
    "    return len(unique_set) == len(input_list)\n"
   ],
   "metadata": {
    "collapsed": false,
    "ExecuteTime": {
     "end_time": "2023-09-15T09:40:30.986011Z",
     "start_time": "2023-09-15T09:40:30.130224Z"
    }
   },
   "id": "4e2768e426b188ac"
  },
  {
   "cell_type": "code",
   "execution_count": 94,
   "outputs": [
    {
     "name": "stdout",
     "output_type": "stream",
     "text": [
      "True\n",
      "False\n"
     ]
    }
   ],
   "source": [
    "my_list1 = [1, 2, 3, 4, 5, 6]\n",
    "my_list2 = [1, 2, 2, 3, 4, 5]\n",
    "\n",
    "minden_elem_egyedi1 = only_unique_in_list(my_list1)\n",
    "minden_elem_egyedi2 = only_unique_in_list(my_list2)\n",
    "\n",
    "print(minden_elem_egyedi1)\n",
    "print(minden_elem_egyedi2)"
   ],
   "metadata": {
    "collapsed": false,
    "ExecuteTime": {
     "end_time": "2023-09-15T09:40:30.986113Z",
     "start_time": "2023-09-15T09:40:30.132573Z"
    }
   },
   "id": "7bca392945d6a984"
  },
  {
   "cell_type": "code",
   "execution_count": 95,
   "outputs": [],
   "source": [
    "# 21., Írjon egy függvényt amely eltávolítja a duplikált lista elemeket\n",
    "# függvény név: keep_unique\n",
    "# bemeneti paraméterek: input_list\n",
    "# kimeneti típus: List "
   ],
   "metadata": {
    "collapsed": false,
    "ExecuteTime": {
     "end_time": "2023-09-15T09:40:30.986166Z",
     "start_time": "2023-09-15T09:40:30.134765Z"
    }
   },
   "id": "d080dd3e1679efbf"
  },
  {
   "cell_type": "code",
   "execution_count": 96,
   "outputs": [],
   "source": [
    "def keep_unique(input_list):\n",
    "    unique_list = []\n",
    "    for item in input_list:\n",
    "        if item not in unique_list:\n",
    "            unique_list.append(item)\n",
    "    return unique_list"
   ],
   "metadata": {
    "collapsed": false,
    "ExecuteTime": {
     "end_time": "2023-09-15T09:40:30.986233Z",
     "start_time": "2023-09-15T09:40:30.137160Z"
    }
   },
   "id": "8a5037c82a3caa8b"
  },
  {
   "cell_type": "code",
   "execution_count": 97,
   "outputs": [
    {
     "name": "stdout",
     "output_type": "stream",
     "text": [
      "[1, 2, 3, 4, 5, 6, 7, 8, 9, 10]\n"
     ]
    }
   ],
   "source": [
    "egyedi_elemek = keep_unique(my_list)\n",
    "print(egyedi_elemek)"
   ],
   "metadata": {
    "collapsed": false,
    "ExecuteTime": {
     "end_time": "2023-09-15T09:40:30.986334Z",
     "start_time": "2023-09-15T09:40:30.138505Z"
    }
   },
   "id": "db73e363987f797d"
  },
  {
   "cell_type": "code",
   "execution_count": 98,
   "outputs": [],
   "source": [
    "# 22., Írjon egy függvényt amely kicserél 2 tetszőleges elemet a listában\n",
    "# függvény név: swap\n",
    "# bemeneti paraméterek: input_list, first_index, second_index\n",
    "# kimeneti típus: List "
   ],
   "metadata": {
    "collapsed": false,
    "ExecuteTime": {
     "end_time": "2023-09-15T09:40:30.986405Z",
     "start_time": "2023-09-15T09:40:30.141748Z"
    }
   },
   "id": "1d09675d10a71250"
  },
  {
   "cell_type": "code",
   "execution_count": 99,
   "outputs": [],
   "source": [
    "def swap(input_list, first_index, second_index):\n",
    "    if (\n",
    "        first_index < 0\n",
    "        or second_index < 0\n",
    "        or first_index >= len(input_list)\n",
    "        or second_index >= len(input_list)\n",
    "    ):\n",
    "        raise ValueError(\"Invalid indices\")\n",
    "\n",
    "    modified_list = input_list.copy()\n",
    "    modified_list[first_index], modified_list[second_index] = (\n",
    "        modified_list[second_index],\n",
    "        modified_list[first_index],\n",
    "    )\n",
    "    return modified_list"
   ],
   "metadata": {
    "collapsed": false,
    "ExecuteTime": {
     "end_time": "2023-09-15T09:40:30.986455Z",
     "start_time": "2023-09-15T09:40:30.144223Z"
    }
   },
   "id": "f1974f9bba783dfa"
  },
  {
   "cell_type": "code",
   "execution_count": 100,
   "outputs": [
    {
     "name": "stdout",
     "output_type": "stream",
     "text": [
      "[1, 4, 3, 2, 5]\n"
     ]
    }
   ],
   "source": [
    "my_list = [1, 2, 3, 4, 5]\n",
    "elso_index = 1\n",
    "masodik_index = 3\n",
    "modositott_lista = swap(my_list, elso_index, masodik_index)\n",
    "print(modositott_lista)"
   ],
   "metadata": {
    "collapsed": false,
    "ExecuteTime": {
     "end_time": "2023-09-15T09:40:30.986557Z",
     "start_time": "2023-09-15T09:40:30.146535Z"
    }
   },
   "id": "3888481f29688d3"
  },
  {
   "cell_type": "code",
   "execution_count": 101,
   "outputs": [],
   "source": [
    "# 23., Írjon egy függvényt amely töröl egy megadott elemet a listából\n",
    "# függvény név: remove_element_by_value\n",
    "# bemeneti paraméterek: input_list, value_to_remove\n",
    "# kimeneti típus: List "
   ],
   "metadata": {
    "collapsed": false,
    "ExecuteTime": {
     "end_time": "2023-09-15T09:40:30.986606Z",
     "start_time": "2023-09-15T09:40:30.148451Z"
    }
   },
   "id": "3b05357ab0198b4c"
  },
  {
   "cell_type": "code",
   "execution_count": 102,
   "outputs": [],
   "source": [
    "def remove_element_by_value(input_list, value_to_remove):\n",
    "    modified_list = [x for x in input_list if x != value_to_remove]\n",
    "    return modified_list"
   ],
   "metadata": {
    "collapsed": false,
    "ExecuteTime": {
     "end_time": "2023-09-15T09:40:30.986660Z",
     "start_time": "2023-09-15T09:40:30.150707Z"
    }
   },
   "id": "314e2102c6069b73"
  },
  {
   "cell_type": "code",
   "execution_count": 103,
   "outputs": [
    {
     "name": "stdout",
     "output_type": "stream",
     "text": [
      "[1, 2, 4, 5, 6, 7]\n"
     ]
    }
   ],
   "source": [
    "my_list = [1, 2, 3, 4, 5, 3, 6, 7]\n",
    "ertek_torles = 3\n",
    "lista_torles_utan = remove_element_by_value(my_list, ertek_torles)\n",
    "print(lista_torles_utan)"
   ],
   "metadata": {
    "collapsed": false,
    "ExecuteTime": {
     "end_time": "2023-09-15T09:40:30.986767Z",
     "start_time": "2023-09-15T09:40:30.153112Z"
    }
   },
   "id": "1fba323e1abf8ad1"
  },
  {
   "cell_type": "code",
   "execution_count": 104,
   "outputs": [],
   "source": [
    "# 24., Írjon egy függvényt amely töröl egy megadott indexű elemet a listából\n",
    "# függvény név: remove_element_by_index\n",
    "# bemeneti paraméterek: input_list, index\n",
    "# kimeneti típus: List "
   ],
   "metadata": {
    "collapsed": false,
    "ExecuteTime": {
     "end_time": "2023-09-15T09:40:30.986827Z",
     "start_time": "2023-09-15T09:40:30.155263Z"
    }
   },
   "id": "cfaf6d5695fb31df"
  },
  {
   "cell_type": "code",
   "execution_count": 105,
   "outputs": [],
   "source": [
    "def remove_element_by_index(input_list, index):\n",
    "    if index < 0 or index >= len(input_list):\n",
    "        raise ValueError(\"Invalid indices\")\n",
    "\n",
    "    modified_list = input_list[:index] + input_list[index + 1:]\n",
    "    return modified_list"
   ],
   "metadata": {
    "collapsed": false,
    "ExecuteTime": {
     "end_time": "2023-09-15T09:40:30.986879Z",
     "start_time": "2023-09-15T09:40:30.157816Z"
    }
   },
   "id": "8f166f1039503820"
  },
  {
   "cell_type": "code",
   "execution_count": 106,
   "outputs": [
    {
     "name": "stdout",
     "output_type": "stream",
     "text": [
      "[1, 2, 4, 5, 6]\n"
     ]
    }
   ],
   "source": [
    "my_list = [1, 2, 3, 4, 5, 6]\n",
    "torlendo_index = 2\n",
    "lista_torles_utan = remove_element_by_index(my_list, torlendo_index)\n",
    "print(lista_torles_utan)"
   ],
   "metadata": {
    "collapsed": false,
    "ExecuteTime": {
     "end_time": "2023-09-15T09:40:30.986982Z",
     "start_time": "2023-09-15T09:40:30.160107Z"
    }
   },
   "id": "2ead7a0b538aef49"
  },
  {
   "cell_type": "code",
   "execution_count": 107,
   "outputs": [],
   "source": [
    "# 25., Írjon egy függvényt amely egy tetszőleges számmal megszorozza a lista összes elemét\n",
    "# függvény név: multiply_every_element\n",
    "# bemeneti paraméterek: input_list, multiplier\n",
    "# kimeneti típus: List "
   ],
   "metadata": {
    "collapsed": false,
    "ExecuteTime": {
     "end_time": "2023-09-15T09:40:30.987032Z",
     "start_time": "2023-09-15T09:40:30.162083Z"
    }
   },
   "id": "f752e1dbb5e38b88"
  },
  {
   "cell_type": "code",
   "execution_count": 108,
   "outputs": [],
   "source": [
    "def multiply_every_element(input_list, multiplier):\n",
    "    modified_list = [x * multiplier for x in input_list]\n",
    "    return modified_list"
   ],
   "metadata": {
    "collapsed": false,
    "ExecuteTime": {
     "end_time": "2023-09-15T09:40:30.987080Z",
     "start_time": "2023-09-15T09:40:30.164176Z"
    }
   },
   "id": "eff0e4599ddbb8fb"
  },
  {
   "cell_type": "code",
   "execution_count": 109,
   "outputs": [
    {
     "name": "stdout",
     "output_type": "stream",
     "text": [
      "[2, 4, 6, 8, 10]\n"
     ]
    }
   ],
   "source": [
    "my_list = [1, 2, 3, 4, 5]\n",
    "szorzok = 2\n",
    "szorzott_lista = multiply_every_element(my_list, szorzok)\n",
    "print(szorzott_lista)"
   ],
   "metadata": {
    "collapsed": false,
    "ExecuteTime": {
     "end_time": "2023-09-15T09:40:30.987179Z",
     "start_time": "2023-09-15T09:40:30.166434Z"
    }
   },
   "id": "670a1f660c7ae800"
  },
  {
   "cell_type": "markdown",
   "source": [
    "# Dictionary feladatok"
   ],
   "metadata": {
    "collapsed": false
   },
   "id": "c7bfcf6fbed3ecf"
  },
  {
   "cell_type": "code",
   "execution_count": 110,
   "outputs": [],
   "source": [
    "# 1. Hozz létre egy dictionary-t (dict.) amelyhez a két kulcs 'a' és 'b' és a hozzájuk tartozó értékek rendre 9 és [12, 'c']"
   ],
   "metadata": {
    "collapsed": false,
    "ExecuteTime": {
     "end_time": "2023-09-15T09:40:30.987240Z",
     "start_time": "2023-09-15T09:40:30.193118Z"
    }
   },
   "id": "ea486b7b2097d8c0"
  },
  {
   "cell_type": "code",
   "execution_count": 51,
   "outputs": [],
   "source": [],
   "metadata": {
    "collapsed": false,
    "ExecuteTime": {
     "end_time": "2023-09-16T14:38:02.201569Z",
     "start_time": "2023-09-16T14:38:02.143405Z"
    }
   },
   "id": "fa44cb21eee22ee3"
  },
  {
   "cell_type": "code",
   "execution_count": 52,
   "outputs": [],
   "source": [
    "# 2. Kérd le az előző dictionary 'a' kulcsán lévő értéket"
   ],
   "metadata": {
    "collapsed": false,
    "ExecuteTime": {
     "end_time": "2023-09-16T14:38:02.942988Z",
     "start_time": "2023-09-16T14:38:02.899162Z"
    }
   },
   "id": "8f38c2ba17f46ab3"
  },
  {
   "cell_type": "code",
   "execution_count": 53,
   "outputs": [
    {
     "data": {
      "text/plain": "9"
     },
     "execution_count": 53,
     "metadata": {},
     "output_type": "execute_result"
    }
   ],
   "source": [],
   "metadata": {
    "collapsed": false,
    "ExecuteTime": {
     "end_time": "2023-09-16T14:38:03.416137Z",
     "start_time": "2023-09-16T14:38:03.393176Z"
    }
   },
   "id": "ae105a95dca05249"
  },
  {
   "cell_type": "code",
   "execution_count": 112,
   "outputs": [],
   "source": [
    "# 3. Kérd le az előző dictionary 'd' kulcsán lévő értéket olyan módon, hogy ne hibát kapj, hanem Null legyen a visszatérési érték"
   ],
   "metadata": {
    "collapsed": false,
    "ExecuteTime": {
     "end_time": "2023-09-15T09:40:30.987432Z",
     "start_time": "2023-09-15T09:40:30.200660Z"
    }
   },
   "id": "d64af3034dbf0bc2"
  },
  {
   "cell_type": "code",
   "execution_count": 27,
   "outputs": [
    {
     "name": "stdout",
     "output_type": "stream",
     "text": [
      "None\n"
     ]
    }
   ],
   "source": [],
   "metadata": {
    "collapsed": false,
    "ExecuteTime": {
     "end_time": "2023-09-16T11:49:46.826476Z",
     "start_time": "2023-09-16T11:49:46.787508Z"
    }
   },
   "id": "9153fd4f597d5633"
  },
  {
   "cell_type": "code",
   "execution_count": 113,
   "outputs": [],
   "source": [
    "# 4., Írjon egy függvényt amely töröl egy megadott kulcsú elemet a dict.-ből\n",
    "# függvény név: remove_key\n",
    "# bemeneti paraméterek: input_dict, key\n",
    "# kimeneti típus: Dict "
   ],
   "metadata": {
    "collapsed": false,
    "ExecuteTime": {
     "end_time": "2023-09-15T09:40:30.987539Z",
     "start_time": "2023-09-15T09:40:30.205015Z"
    }
   },
   "id": "8d0730f02cbd74ae"
  },
  {
   "cell_type": "code",
   "execution_count": 28,
   "outputs": [],
   "source": [],
   "metadata": {
    "collapsed": false,
    "ExecuteTime": {
     "end_time": "2023-09-16T14:10:54.958544Z",
     "start_time": "2023-09-16T14:10:54.919795Z"
    }
   },
   "id": "16025be7289f3fe1"
  },
  {
   "cell_type": "code",
   "execution_count": 30,
   "outputs": [
    {
     "name": "stdout",
     "output_type": "stream",
     "text": [
      "{'b': [12, 'c']}\n"
     ]
    }
   ],
   "source": [],
   "metadata": {
    "collapsed": false,
    "ExecuteTime": {
     "end_time": "2023-09-16T14:11:07.722391Z",
     "start_time": "2023-09-16T14:11:07.684077Z"
    }
   },
   "id": "1adaa6cfaf92ce4b"
  },
  {
   "cell_type": "code",
   "execution_count": 114,
   "outputs": [],
   "source": [
    "# 5., Írjon egy függvényt amely a sorba rendezi a kulcs-érték párokat a kulcs értéke szerint egy dictionary-ben\n",
    "# függvény név: sort_by_key\n",
    "# bemeneti paraméterek: input_dict\n",
    "# kimeneti típus: Dict "
   ],
   "metadata": {
    "collapsed": false,
    "ExecuteTime": {
     "end_time": "2023-09-15T09:40:30.987690Z",
     "start_time": "2023-09-15T09:40:30.209966Z"
    }
   },
   "id": "4289ee61b660cf03"
  },
  {
   "cell_type": "code",
   "execution_count": 32,
   "outputs": [],
   "source": [],
   "metadata": {
    "collapsed": false,
    "ExecuteTime": {
     "end_time": "2023-09-16T14:13:35.421915Z",
     "start_time": "2023-09-16T14:13:35.373892Z"
    }
   },
   "id": "4144b46e7390123b"
  },
  {
   "cell_type": "code",
   "execution_count": 37,
   "outputs": [
    {
     "name": "stdout",
     "output_type": "stream",
     "text": [
      "{'b': [12, 'c'], 'd': 9}\n"
     ]
    }
   ],
   "source": [],
   "metadata": {
    "collapsed": false,
    "ExecuteTime": {
     "end_time": "2023-09-16T14:16:19.538243Z",
     "start_time": "2023-09-16T14:16:19.499784Z"
    }
   },
   "id": "f03264405968e0fa"
  },
  {
   "cell_type": "code",
   "execution_count": 115,
   "outputs": [],
   "source": [
    "# 6., Írjon egy függvényt amely összeadja a dict.-ben található összes értéket\n",
    "# függvény név: sum_in_dict\n",
    "# bemeneti paraméterek: input_dict\n",
    "# kimeneti típus: float "
   ],
   "metadata": {
    "collapsed": false,
    "ExecuteTime": {
     "end_time": "2023-09-15T09:40:30.987853Z",
     "start_time": "2023-09-15T09:40:30.219761Z"
    }
   },
   "id": "7f38190f627e8631"
  },
  {
   "cell_type": "code",
   "execution_count": 38,
   "outputs": [],
   "source": [],
   "metadata": {
    "collapsed": false,
    "ExecuteTime": {
     "end_time": "2023-09-16T14:17:34.849873Z",
     "start_time": "2023-09-16T14:17:34.805275Z"
    }
   },
   "id": "15175be34ef8a9d9"
  },
  {
   "cell_type": "code",
   "execution_count": 39,
   "outputs": [
    {
     "name": "stdout",
     "output_type": "stream",
     "text": [
      "10.5\n"
     ]
    }
   ],
   "source": [],
   "metadata": {
    "collapsed": false,
    "ExecuteTime": {
     "end_time": "2023-09-16T14:17:35.529705Z",
     "start_time": "2023-09-16T14:17:35.490761Z"
    }
   },
   "id": "b55c7574f7c47365"
  },
  {
   "cell_type": "code",
   "execution_count": 116,
   "outputs": [],
   "source": [
    "# 7., Írjon egy függvényt amely összekapcsol 2 dictionary-t 1 dict.-ben\n",
    "# függvény név: merge_two_dicts\n",
    "# bemeneti paraméterek: input_dict1, input_dict2\n",
    "# kimeneti típus: Dict "
   ],
   "metadata": {
    "collapsed": false,
    "ExecuteTime": {
     "end_time": "2023-09-15T09:40:31.008188Z",
     "start_time": "2023-09-15T09:40:30.231338Z"
    }
   },
   "id": "129ac5fb35728b79"
  },
  {
   "cell_type": "code",
   "execution_count": 40,
   "outputs": [],
   "source": [],
   "metadata": {
    "collapsed": false,
    "ExecuteTime": {
     "end_time": "2023-09-16T14:20:23.391853Z",
     "start_time": "2023-09-16T14:20:23.358255Z"
    }
   },
   "id": "1d1cb11d826ad1ad"
  },
  {
   "cell_type": "code",
   "execution_count": 41,
   "outputs": [
    {
     "name": "stdout",
     "output_type": "stream",
     "text": [
      "{'a': 1, 'b': 3, 'c': 4}\n"
     ]
    }
   ],
   "source": [],
   "metadata": {
    "collapsed": false,
    "ExecuteTime": {
     "end_time": "2023-09-16T14:20:23.916584Z",
     "start_time": "2023-09-16T14:20:23.890790Z"
    }
   },
   "id": "6f6c6cc073780800"
  },
  {
   "cell_type": "code",
   "execution_count": 117,
   "outputs": [],
   "source": [
    "# 8., Írjon egy függvényt amely összekapcsol n dictionary-t 1 dict.-ben\n",
    "# függvény név: merge_dicts\n",
    "# bemeneti paraméterek: *dicts\n",
    "# kimeneti típus: Dict "
   ],
   "metadata": {
    "collapsed": false,
    "ExecuteTime": {
     "end_time": "2023-09-15T09:40:31.011778Z",
     "start_time": "2023-09-15T09:40:30.240538Z"
    }
   },
   "id": "2d6e28936e1fc7f6"
  },
  {
   "cell_type": "code",
   "execution_count": 42,
   "outputs": [],
   "source": [],
   "metadata": {
    "collapsed": false,
    "ExecuteTime": {
     "end_time": "2023-09-16T14:21:31.552695Z",
     "start_time": "2023-09-16T14:21:31.505875Z"
    }
   },
   "id": "3d4f59def68ff61b"
  },
  {
   "cell_type": "code",
   "execution_count": 43,
   "outputs": [
    {
     "name": "stdout",
     "output_type": "stream",
     "text": [
      "{'a': 1, 'b': 3, 'c': 4, 'd': 5, 'e': 6}\n"
     ]
    }
   ],
   "source": [],
   "metadata": {
    "collapsed": false,
    "ExecuteTime": {
     "end_time": "2023-09-16T14:21:32.831990Z",
     "start_time": "2023-09-16T14:21:32.780794Z"
    }
   },
   "id": "e1dd09df21776128"
  },
  {
   "cell_type": "code",
   "execution_count": 118,
   "outputs": [],
   "source": [
    "# 9., Írjon egy függvényt amely a bemeneti, pozitív egész számokat tartalmazó listát kiválogatja páros és páratlan számokra, és visszaad egy olyan dictionary-t, amelyben a kulcs az 'even' és 'odd', az értékek, pedig a listák.\n",
    "# függvény név: sort_list_by_parity\n",
    "# bemeneti paraméterek: input_list\n",
    "# kimeneti típus: Dict "
   ],
   "metadata": {
    "collapsed": false,
    "ExecuteTime": {
     "end_time": "2023-09-15T09:40:31.011973Z",
     "start_time": "2023-09-15T09:40:30.250764Z"
    }
   },
   "id": "31c2ef51ea259d5d"
  },
  {
   "cell_type": "code",
   "execution_count": 44,
   "outputs": [],
   "source": [],
   "metadata": {
    "collapsed": false,
    "ExecuteTime": {
     "end_time": "2023-09-16T14:23:17.337127Z",
     "start_time": "2023-09-16T14:23:17.290706Z"
    }
   },
   "id": "85abb76721ac4860"
  },
  {
   "cell_type": "code",
   "execution_count": 45,
   "outputs": [
    {
     "name": "stdout",
     "output_type": "stream",
     "text": [
      "{'even': [2, 4, 6], 'odd': [1, 3, 5]}\n"
     ]
    }
   ],
   "source": [],
   "metadata": {
    "collapsed": false,
    "ExecuteTime": {
     "end_time": "2023-09-16T14:23:20.014509Z",
     "start_time": "2023-09-16T14:23:19.964217Z"
    }
   },
   "id": "eafbeb79effb4e1e"
  },
  {
   "cell_type": "code",
   "execution_count": 119,
   "outputs": [],
   "source": [
    "# 10., Írjon egy függvényt amely a bemenetként kapott dictionary értékeinél található listák átlagait adja vissza egy új dictionary-be. {\"some_key\":[1,2,3,4],\"another_key\":[1,2,3,4],....} -> {\"some_key\":mean_of_values,\"another_key\":mean_of_values,....}\n",
    "# függvény név: mean_by_key_value\n",
    "# bemeneti paraméterek: input_dict\n",
    "# kimeneti típus: Dict "
   ],
   "metadata": {
    "collapsed": false,
    "ExecuteTime": {
     "end_time": "2023-09-15T09:40:31.012133Z",
     "start_time": "2023-09-15T09:40:30.260141Z"
    }
   },
   "id": "b7d17d821c18b94e"
  },
  {
   "cell_type": "code",
   "execution_count": 46,
   "outputs": [],
   "source": [],
   "metadata": {
    "collapsed": false,
    "ExecuteTime": {
     "end_time": "2023-09-16T14:25:18.008512Z",
     "start_time": "2023-09-16T14:25:17.981236Z"
    }
   },
   "id": "3f297655c29e1e6"
  },
  {
   "cell_type": "code",
   "execution_count": 47,
   "outputs": [
    {
     "name": "stdout",
     "output_type": "stream",
     "text": [
      "{'somekey': 2.5, 'another_key': 2.5, 'empty_key': None}\n"
     ]
    }
   ],
   "source": [],
   "metadata": {
    "collapsed": false,
    "ExecuteTime": {
     "end_time": "2023-09-16T14:25:19.516674Z",
     "start_time": "2023-09-16T14:25:19.463751Z"
    }
   },
   "id": "f2728aad103eea86"
  },
  {
   "cell_type": "code",
   "execution_count": 120,
   "outputs": [],
   "source": [
    "# 11., Írjon egy függvényt amely a bemeneti lista értékeinek előállítja a gyakoriságát\n",
    "# függvény név: count_frequency\n",
    "# bemeneti paraméterek: input_list\n",
    "# kimeneti típus: Dict "
   ],
   "metadata": {
    "collapsed": false,
    "ExecuteTime": {
     "end_time": "2023-09-15T09:40:31.012292Z",
     "start_time": "2023-09-15T09:40:30.269777Z"
    }
   },
   "id": "4408607c342665b"
  },
  {
   "cell_type": "code",
   "execution_count": 48,
   "outputs": [],
   "source": [],
   "metadata": {
    "collapsed": false,
    "ExecuteTime": {
     "end_time": "2023-09-16T14:27:05.359895Z",
     "start_time": "2023-09-16T14:27:05.324748Z"
    }
   },
   "id": "c190bbd919048c7c"
  },
  {
   "cell_type": "code",
   "execution_count": 50,
   "outputs": [
    {
     "name": "stdout",
     "output_type": "stream",
     "text": [
      "{1: 1, 2: 2, 3: 3, 4: 4}\n"
     ]
    }
   ],
   "source": [],
   "metadata": {
    "collapsed": false,
    "ExecuteTime": {
     "end_time": "2023-09-16T14:27:34.193964Z",
     "start_time": "2023-09-16T14:27:34.155715Z"
    }
   },
   "id": "3cf3e1d2e4b6bd48"
  },
  {
   "cell_type": "markdown",
   "source": [
    "### A heti feladatok függvény definícióit helyezze el a src/utils module-on belül a builtin_wrappers.py nevű fájlba."
   ],
   "metadata": {
    "collapsed": false
   },
   "id": "4642e9fa7740d8ec"
  }
 ],
 "metadata": {
  "kernelspec": {
   "display_name": "Python 3",
   "language": "python",
   "name": "python3"
  },
  "language_info": {
   "codemirror_mode": {
    "name": "ipython",
    "version": 2
   },
   "file_extension": ".py",
   "mimetype": "text/x-python",
   "name": "python",
   "nbconvert_exporter": "python",
   "pygments_lexer": "ipython2",
   "version": "2.7.6"
  }
 },
 "nbformat": 4,
 "nbformat_minor": 5
}
