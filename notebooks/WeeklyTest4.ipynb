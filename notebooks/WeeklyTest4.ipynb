{
 "cells": [
  {
   "cell_type": "markdown",
   "id": "de9d9737616514b8",
   "metadata": {
    "collapsed": false
   },
   "source": [
    "## Az eredményeket mentsd a src/weekly modul-ba weekly_test_4.py néven"
   ]
  },
  {
   "cell_type": "markdown",
   "id": "a9789db8f0fbd7ec",
   "metadata": {
    "collapsed": false
   },
   "source": [
    "#### Használható modulok: pandas, typing, matplotlib, random, src.distributions, src.weekly"
   ]
  },
  {
   "cell_type": "code",
   "execution_count": 1,
   "id": "dfea6e648868022e",
   "metadata": {
    "collapsed": false,
    "ExecuteTime": {
     "end_time": "2023-10-11T17:17:26.052493Z",
     "start_time": "2023-10-11T17:17:19.020204Z"
    }
   },
   "outputs": [],
   "source": [
    "import pandas\n",
    "import pandas as pd\n",
    "from typing import List, Dict\n",
    "import matplotlib\n",
    "import matplotlib.pyplot as plt "
   ]
  },
  {
   "cell_type": "code",
   "execution_count": null,
   "id": "9d26aec7b4e97407",
   "metadata": {
    "collapsed": false
   },
   "outputs": [],
   "source": [
    "\"\"\"\n",
    "1., Olvasd be a data mappa Euro_2012_stats_TEAM.csv nevű fájlját egy dataframe-be. A betöltött adatokat az euro12 alatt tárolja. A következő feladatokban a kiinduló fájlt ne írd felül.\n",
    "\"\"\""
   ]
  },
  {
   "cell_type": "code",
   "execution_count": 8,
   "id": "f1945d927f8109c4",
   "metadata": {
    "collapsed": false,
    "ExecuteTime": {
     "end_time": "2023-10-11T17:20:09.916112Z",
     "start_time": "2023-10-11T17:20:09.875015Z"
    }
   },
   "outputs": [
    {
     "name": "stdout",
     "output_type": "stream",
     "text": [
      "<class 'pandas.core.frame.DataFrame'>\n",
      "RangeIndex: 16 entries, 0 to 15\n",
      "Data columns (total 35 columns):\n",
      " #   Column                      Non-Null Count  Dtype  \n",
      "---  ------                      --------------  -----  \n",
      " 0   Team                        16 non-null     object \n",
      " 1   Goals                       16 non-null     int64  \n",
      " 2   Shots on target             16 non-null     int64  \n",
      " 3   Shots off target            16 non-null     int64  \n",
      " 4   Shooting Accuracy           16 non-null     object \n",
      " 5   % Goals-to-shots            16 non-null     object \n",
      " 6   Total shots (inc. Blocked)  16 non-null     int64  \n",
      " 7   Hit Woodwork                16 non-null     int64  \n",
      " 8   Penalty goals               16 non-null     int64  \n",
      " 9   Penalties not scored        16 non-null     int64  \n",
      " 10  Headed goals                16 non-null     int64  \n",
      " 11  Passes                      16 non-null     int64  \n",
      " 12  Passes completed            16 non-null     int64  \n",
      " 13  Passing Accuracy            16 non-null     object \n",
      " 14  Touches                     16 non-null     int64  \n",
      " 15  Crosses                     16 non-null     int64  \n",
      " 16  Dribbles                    16 non-null     int64  \n",
      " 17  Corners Taken               16 non-null     int64  \n",
      " 18  Tackles                     16 non-null     int64  \n",
      " 19  Clearances                  16 non-null     int64  \n",
      " 20  Interceptions               16 non-null     int64  \n",
      " 21  Clearances off line         15 non-null     float64\n",
      " 22  Clean Sheets                16 non-null     int64  \n",
      " 23  Blocks                      16 non-null     int64  \n",
      " 24  Goals conceded              16 non-null     int64  \n",
      " 25  Saves made                  16 non-null     int64  \n",
      " 26  Saves-to-shots ratio        16 non-null     object \n",
      " 27  Fouls Won                   16 non-null     int64  \n",
      " 28  Fouls Conceded              16 non-null     int64  \n",
      " 29  Offsides                    16 non-null     int64  \n",
      " 30  Yellow Cards                16 non-null     int64  \n",
      " 31  Red Cards                   16 non-null     int64  \n",
      " 32  Subs on                     16 non-null     int64  \n",
      " 33  Subs off                    16 non-null     int64  \n",
      " 34  Players Used                16 non-null     int64  \n",
      "dtypes: float64(1), int64(29), object(5)\n",
      "memory usage: 4.5+ KB\n",
      "None\n",
      "             Team  Goals  Shots on target  Shots off target Shooting Accuracy  \\\n",
      "0         Croatia      4               13                12             51.9%   \n",
      "1  Czech Republic      4               13                18             41.9%   \n",
      "2         Denmark      4               10                10             50.0%   \n",
      "3         England      5               11                18             50.0%   \n",
      "4          France      3               22                24             37.9%   \n",
      "\n",
      "  % Goals-to-shots  Total shots (inc. Blocked)  Hit Woodwork  Penalty goals  \\\n",
      "0            16.0%                          32             0              0   \n",
      "1            12.9%                          39             0              0   \n",
      "2            20.0%                          27             1              0   \n",
      "3            17.2%                          40             0              0   \n",
      "4             6.5%                          65             1              0   \n",
      "\n",
      "   Penalties not scored  ...  Saves made  Saves-to-shots ratio  Fouls Won  \\\n",
      "0                     0  ...          13                 81.3%         41   \n",
      "1                     0  ...           9                 60.1%         53   \n",
      "2                     0  ...          10                 66.7%         25   \n",
      "3                     0  ...          22                 88.1%         43   \n",
      "4                     0  ...           6                 54.6%         36   \n",
      "\n",
      "  Fouls Conceded  Offsides  Yellow Cards  Red Cards  Subs on  Subs off  \\\n",
      "0             62         2             9          0        9         9   \n",
      "1             73         8             7          0       11        11   \n",
      "2             38         8             4          0        7         7   \n",
      "3             45         6             5          0       11        11   \n",
      "4             51         5             6          0       11        11   \n",
      "\n",
      "   Players Used  \n",
      "0            16  \n",
      "1            19  \n",
      "2            15  \n",
      "3            16  \n",
      "4            19  \n",
      "\n",
      "[5 rows x 35 columns]\n"
     ]
    }
   ],
   "source": [
    "euro12 = pd.read_csv('../data/Euro_2012_stats_TEAM.csv')\n",
    "print(euro12.info())\n",
    "print(euro12.head())"
   ]
  },
  {
   "cell_type": "code",
   "execution_count": null,
   "id": "b79c977da040d844",
   "metadata": {
    "collapsed": false
   },
   "outputs": [],
   "source": [
    "\"\"\"\n",
    "2., Készíts egy függvényt, ami megmondja, hogy hány csapat indult az Európa Bajnokságon\n",
    "\n",
    "függvény név: number_of_participants\n",
    "bemenet: input_df\n",
    "kimeneti típus: int\n",
    "\"\"\""
   ]
  },
  {
   "cell_type": "markdown",
   "id": "c304a64416ee9b65",
   "metadata": {
    "collapsed": false
   },
   "source": []
  },
  {
   "cell_type": "code",
   "execution_count": 20,
   "id": "505baa2089524304",
   "metadata": {
    "collapsed": false,
    "ExecuteTime": {
     "end_time": "2023-10-11T17:25:10.322320Z",
     "start_time": "2023-10-11T17:25:10.290438Z"
    }
   },
   "outputs": [],
   "source": [
    "def number_of_participants(input_df):\n",
    "    new_df = input_df.copy()\n",
    "    return new_df['Team'].unique().shape[0]"
   ]
  },
  {
   "cell_type": "code",
   "execution_count": 21,
   "id": "9d190eb6f3a482b6",
   "metadata": {
    "collapsed": false,
    "ExecuteTime": {
     "end_time": "2023-10-11T17:25:11.405576Z",
     "start_time": "2023-10-11T17:25:11.380168Z"
    }
   },
   "outputs": [
    {
     "data": {
      "text/plain": "16"
     },
     "execution_count": 21,
     "metadata": {},
     "output_type": "execute_result"
    }
   ],
   "source": [
    "number_of_participants(euro12)"
   ]
  },
  {
   "cell_type": "code",
   "execution_count": null,
   "id": "dd10fafbf699543d",
   "metadata": {
    "collapsed": false
   },
   "outputs": [],
   "source": [
    "\"\"\"\n",
    "3., Készíts egy függvényt, ami visszadja a csapatokat és az áltatuk lőtt gólokat.\n",
    "\n",
    "függvény név: goals\n",
    "bemenet: input_df\n",
    "kimeneti típus: pandas.core.frame.DataFrame\n",
    "\"\"\""
   ]
  },
  {
   "cell_type": "code",
   "execution_count": 28,
   "id": "a58cb336d2bac95d",
   "metadata": {
    "collapsed": false,
    "ExecuteTime": {
     "end_time": "2023-10-11T17:28:15.193606Z",
     "start_time": "2023-10-11T17:28:15.170096Z"
    }
   },
   "outputs": [],
   "source": [
    "def goals(input_df):\n",
    "    new_df = input_df.copy()\n",
    "    return new_df[['Team','Goals']]"
   ]
  },
  {
   "cell_type": "code",
   "execution_count": 34,
   "id": "47f914b529be356b",
   "metadata": {
    "collapsed": false,
    "ExecuteTime": {
     "end_time": "2023-10-11T17:31:47.205551Z",
     "start_time": "2023-10-11T17:31:47.183400Z"
    }
   },
   "outputs": [],
   "source": [
    "goals_df = goals(euro12)"
   ]
  },
  {
   "cell_type": "code",
   "execution_count": null,
   "id": "a35053917db8723e",
   "metadata": {
    "collapsed": false
   },
   "outputs": [],
   "source": [
    "\"\"\"\n",
    "4., Készíts egy függvényt, ami sorba rendezi az országokat a lőtt gólok száma alapján csökkenő sorrendben. Használd az előző  függvény eredményét.\n",
    "\n",
    "függvény név: sorted_by_goal\n",
    "bemenet: input_df\n",
    "kimeneti típus: pandas.core.frame.DataFrame\n",
    "\n",
    "\"\"\""
   ]
  },
  {
   "cell_type": "code",
   "execution_count": 38,
   "id": "5c764033a4ca200b",
   "metadata": {
    "collapsed": false,
    "ExecuteTime": {
     "end_time": "2023-10-11T17:32:05.991300Z",
     "start_time": "2023-10-11T17:32:05.970071Z"
    }
   },
   "outputs": [],
   "source": [
    "def sorted_by_goal(input_df):\n",
    "    new_df = input_df.copy()\n",
    "    return new_df.sort_values(by='Goals', ascending=False)\n",
    "    "
   ]
  },
  {
   "cell_type": "code",
   "execution_count": 39,
   "id": "a10e9e934b2a98b8",
   "metadata": {
    "collapsed": false,
    "ExecuteTime": {
     "end_time": "2023-10-11T17:32:06.810650Z",
     "start_time": "2023-10-11T17:32:06.800517Z"
    }
   },
   "outputs": [
    {
     "data": {
      "text/plain": "                   Team  Goals\n13                Spain     12\n5               Germany     10\n7                 Italy      6\n10             Portugal      6\n3               England      5\n6                Greece      5\n12               Russia      5\n14               Sweden      5\n0               Croatia      4\n1        Czech Republic      4\n2               Denmark      4\n4                France      3\n8           Netherlands      2\n9                Poland      2\n15              Ukraine      2\n11  Republic of Ireland      1",
      "text/html": "<div>\n<style scoped>\n    .dataframe tbody tr th:only-of-type {\n        vertical-align: middle;\n    }\n\n    .dataframe tbody tr th {\n        vertical-align: top;\n    }\n\n    .dataframe thead th {\n        text-align: right;\n    }\n</style>\n<table border=\"1\" class=\"dataframe\">\n  <thead>\n    <tr style=\"text-align: right;\">\n      <th></th>\n      <th>Team</th>\n      <th>Goals</th>\n    </tr>\n  </thead>\n  <tbody>\n    <tr>\n      <th>13</th>\n      <td>Spain</td>\n      <td>12</td>\n    </tr>\n    <tr>\n      <th>5</th>\n      <td>Germany</td>\n      <td>10</td>\n    </tr>\n    <tr>\n      <th>7</th>\n      <td>Italy</td>\n      <td>6</td>\n    </tr>\n    <tr>\n      <th>10</th>\n      <td>Portugal</td>\n      <td>6</td>\n    </tr>\n    <tr>\n      <th>3</th>\n      <td>England</td>\n      <td>5</td>\n    </tr>\n    <tr>\n      <th>6</th>\n      <td>Greece</td>\n      <td>5</td>\n    </tr>\n    <tr>\n      <th>12</th>\n      <td>Russia</td>\n      <td>5</td>\n    </tr>\n    <tr>\n      <th>14</th>\n      <td>Sweden</td>\n      <td>5</td>\n    </tr>\n    <tr>\n      <th>0</th>\n      <td>Croatia</td>\n      <td>4</td>\n    </tr>\n    <tr>\n      <th>1</th>\n      <td>Czech Republic</td>\n      <td>4</td>\n    </tr>\n    <tr>\n      <th>2</th>\n      <td>Denmark</td>\n      <td>4</td>\n    </tr>\n    <tr>\n      <th>4</th>\n      <td>France</td>\n      <td>3</td>\n    </tr>\n    <tr>\n      <th>8</th>\n      <td>Netherlands</td>\n      <td>2</td>\n    </tr>\n    <tr>\n      <th>9</th>\n      <td>Poland</td>\n      <td>2</td>\n    </tr>\n    <tr>\n      <th>15</th>\n      <td>Ukraine</td>\n      <td>2</td>\n    </tr>\n    <tr>\n      <th>11</th>\n      <td>Republic of Ireland</td>\n      <td>1</td>\n    </tr>\n  </tbody>\n</table>\n</div>"
     },
     "execution_count": 39,
     "metadata": {},
     "output_type": "execute_result"
    }
   ],
   "source": [
    "sorted_by_goal(goals_df)"
   ]
  },
  {
   "cell_type": "code",
   "execution_count": null,
   "id": "30fd1aa0c59afb47",
   "metadata": {
    "collapsed": false
   },
   "outputs": [],
   "source": [
    "\"\"\"\n",
    "5., Készíts egy függvényt, ami visszaadja az átlagos gól számot.\n",
    "\n",
    "függvény név: avg_goal\n",
    "bemenet: input_df\n",
    "kimeneti típus: float\n",
    "\n",
    "\"\"\""
   ]
  },
  {
   "cell_type": "code",
   "execution_count": null,
   "id": "44865d1982f4fe17",
   "metadata": {
    "collapsed": false
   },
   "outputs": [],
   "source": [
    "def avg_goal(input_df):\n",
    "    new_df = input_df.copy()\n",
    "    return new_df['Goals'].mean()"
   ]
  },
  {
   "cell_type": "code",
   "execution_count": 40,
   "id": "8d4529f9fc423a7",
   "metadata": {
    "collapsed": false,
    "ExecuteTime": {
     "end_time": "2023-10-11T17:33:47.789002Z",
     "start_time": "2023-10-11T17:33:47.765539Z"
    }
   },
   "outputs": [
    {
     "data": {
      "text/plain": "4.75"
     },
     "execution_count": 40,
     "metadata": {},
     "output_type": "execute_result"
    }
   ],
   "source": []
  },
  {
   "cell_type": "code",
   "execution_count": null,
   "id": "4637c401e0e6352c",
   "metadata": {
    "collapsed": false
   },
   "outputs": [],
   "source": [
    "\"\"\"\n",
    "6., Készíts egy függvényt, ami visszadja azokat az országokat akik 6 vagy több gólt rúgtak\n",
    "\n",
    "függvény név: countries_over_five\n",
    "bement: input_df\n",
    "kimeneti típus: pandas.core.frame.DataFrame\n",
    "\n",
    "\"\"\""
   ]
  },
  {
   "cell_type": "code",
   "execution_count": 43,
   "id": "f1dd81478909c86c",
   "metadata": {
    "collapsed": false,
    "ExecuteTime": {
     "end_time": "2023-10-11T17:37:50.555689Z",
     "start_time": "2023-10-11T17:37:50.533329Z"
    }
   },
   "outputs": [],
   "source": [
    "def countries_over_five(input_df):\n",
    "    new_df = input_df.copy()\n",
    "    return new_df.loc[new_df['Goals']>5, 'Team'].to_frame()"
   ]
  },
  {
   "cell_type": "code",
   "execution_count": 44,
   "id": "5c1dc290a99cf46c",
   "metadata": {
    "collapsed": false,
    "ExecuteTime": {
     "end_time": "2023-10-11T17:37:51.201427Z",
     "start_time": "2023-10-11T17:37:51.168334Z"
    }
   },
   "outputs": [
    {
     "data": {
      "text/plain": "        Team\n5    Germany\n7      Italy\n10  Portugal\n13     Spain",
      "text/html": "<div>\n<style scoped>\n    .dataframe tbody tr th:only-of-type {\n        vertical-align: middle;\n    }\n\n    .dataframe tbody tr th {\n        vertical-align: top;\n    }\n\n    .dataframe thead th {\n        text-align: right;\n    }\n</style>\n<table border=\"1\" class=\"dataframe\">\n  <thead>\n    <tr style=\"text-align: right;\">\n      <th></th>\n      <th>Team</th>\n    </tr>\n  </thead>\n  <tbody>\n    <tr>\n      <th>5</th>\n      <td>Germany</td>\n    </tr>\n    <tr>\n      <th>7</th>\n      <td>Italy</td>\n    </tr>\n    <tr>\n      <th>10</th>\n      <td>Portugal</td>\n    </tr>\n    <tr>\n      <th>13</th>\n      <td>Spain</td>\n    </tr>\n  </tbody>\n</table>\n</div>"
     },
     "execution_count": 44,
     "metadata": {},
     "output_type": "execute_result"
    }
   ],
   "source": [
    "countries_over_five(euro12)"
   ]
  },
  {
   "cell_type": "code",
   "execution_count": null,
   "id": "ff27a788246be43c",
   "metadata": {
    "collapsed": false
   },
   "outputs": [],
   "source": [
    "\"\"\"\n",
    "7., Készíts egy függvényt, ami visszaadja azon országok neveit, amelyek neve 'G'-vel kezdődik\n",
    "\n",
    "fv. neve: countries_starting_with_g\n",
    "bemenet: input_df\n",
    "kimeneti típus: pandas.core.frame.DataFrame\n",
    "\"\"\""
   ]
  },
  {
   "cell_type": "code",
   "execution_count": 52,
   "id": "2ebc475c23f0de6e",
   "metadata": {
    "collapsed": false,
    "ExecuteTime": {
     "end_time": "2023-10-11T17:42:42.229862Z",
     "start_time": "2023-10-11T17:42:42.204493Z"
    }
   },
   "outputs": [],
   "source": [
    "def countries_starting_with_g(input_df):\n",
    "    new_df = input_df.copy()\n",
    "    return new_df.loc[[x[0]=='G' for x in new_df['Team']], 'Team'].to_frame()"
   ]
  },
  {
   "cell_type": "code",
   "execution_count": 53,
   "outputs": [
    {
     "data": {
      "text/plain": "      Team\n5  Germany\n6   Greece",
      "text/html": "<div>\n<style scoped>\n    .dataframe tbody tr th:only-of-type {\n        vertical-align: middle;\n    }\n\n    .dataframe tbody tr th {\n        vertical-align: top;\n    }\n\n    .dataframe thead th {\n        text-align: right;\n    }\n</style>\n<table border=\"1\" class=\"dataframe\">\n  <thead>\n    <tr style=\"text-align: right;\">\n      <th></th>\n      <th>Team</th>\n    </tr>\n  </thead>\n  <tbody>\n    <tr>\n      <th>5</th>\n      <td>Germany</td>\n    </tr>\n    <tr>\n      <th>6</th>\n      <td>Greece</td>\n    </tr>\n  </tbody>\n</table>\n</div>"
     },
     "execution_count": 53,
     "metadata": {},
     "output_type": "execute_result"
    }
   ],
   "source": [
    "countries_starting_with_g(euro12)"
   ],
   "metadata": {
    "collapsed": false,
    "ExecuteTime": {
     "end_time": "2023-10-11T17:42:42.624217Z",
     "start_time": "2023-10-11T17:42:42.605711Z"
    }
   },
   "id": "54f7d9d9d88bba6f"
  },
  {
   "cell_type": "code",
   "execution_count": 51,
   "id": "a4eef25889cb8347",
   "metadata": {
    "collapsed": false,
    "ExecuteTime": {
     "end_time": "2023-10-11T17:41:42.251522Z",
     "start_time": "2023-10-11T17:41:42.227523Z"
    }
   },
   "outputs": [
    {
     "data": {
      "text/plain": "'Croatia'"
     },
     "execution_count": 51,
     "metadata": {},
     "output_type": "execute_result"
    }
   ],
   "source": []
  },
  {
   "cell_type": "code",
   "execution_count": null,
   "id": "2293e3b440a8ae85",
   "metadata": {
    "collapsed": false
   },
   "outputs": [],
   "source": [
    "\"\"\"\n",
    "8. Készíts egy függvényt, ami visszaadja az első 7 oszlopot. Használja a kiinduló adatokat\n",
    "\n",
    "fv. név: first_seven_columns\n",
    "bemenet: input_df\n",
    "return típus: pandas.core.frame.DataFrame\n",
    "\n",
    "\"\"\""
   ]
  },
  {
   "cell_type": "code",
   "execution_count": 54,
   "id": "a192f2eebf0bb24d",
   "metadata": {
    "collapsed": false,
    "ExecuteTime": {
     "end_time": "2023-10-11T17:43:47.978963Z",
     "start_time": "2023-10-11T17:43:47.956396Z"
    }
   },
   "outputs": [],
   "source": [
    "def first_seven_columns(input_df):\n",
    "    new_df = input_df.copy()\n",
    "    return new_df.head(7)"
   ]
  },
  {
   "cell_type": "code",
   "execution_count": 55,
   "id": "dc174ca46e9dea9b",
   "metadata": {
    "collapsed": false,
    "ExecuteTime": {
     "end_time": "2023-10-11T17:43:56.751509Z",
     "start_time": "2023-10-11T17:43:56.737130Z"
    }
   },
   "outputs": [
    {
     "data": {
      "text/plain": "             Team  Goals  Shots on target  Shots off target Shooting Accuracy  \\\n0         Croatia      4               13                12             51.9%   \n1  Czech Republic      4               13                18             41.9%   \n2         Denmark      4               10                10             50.0%   \n3         England      5               11                18             50.0%   \n4          France      3               22                24             37.9%   \n5         Germany     10               32                32             47.8%   \n6          Greece      5                8                18             30.7%   \n\n  % Goals-to-shots  Total shots (inc. Blocked)  Hit Woodwork  Penalty goals  \\\n0            16.0%                          32             0              0   \n1            12.9%                          39             0              0   \n2            20.0%                          27             1              0   \n3            17.2%                          40             0              0   \n4             6.5%                          65             1              0   \n5            15.6%                          80             2              1   \n6            19.2%                          32             1              1   \n\n   Penalties not scored  ...  Saves made  Saves-to-shots ratio  Fouls Won  \\\n0                     0  ...          13                 81.3%         41   \n1                     0  ...           9                 60.1%         53   \n2                     0  ...          10                 66.7%         25   \n3                     0  ...          22                 88.1%         43   \n4                     0  ...           6                 54.6%         36   \n5                     0  ...          10                 62.6%         63   \n6                     1  ...          13                 65.1%         67   \n\n  Fouls Conceded  Offsides  Yellow Cards  Red Cards  Subs on  Subs off  \\\n0             62         2             9          0        9         9   \n1             73         8             7          0       11        11   \n2             38         8             4          0        7         7   \n3             45         6             5          0       11        11   \n4             51         5             6          0       11        11   \n5             49        12             4          0       15        15   \n6             48        12             9          1       12        12   \n\n   Players Used  \n0            16  \n1            19  \n2            15  \n3            16  \n4            19  \n5            17  \n6            20  \n\n[7 rows x 35 columns]",
      "text/html": "<div>\n<style scoped>\n    .dataframe tbody tr th:only-of-type {\n        vertical-align: middle;\n    }\n\n    .dataframe tbody tr th {\n        vertical-align: top;\n    }\n\n    .dataframe thead th {\n        text-align: right;\n    }\n</style>\n<table border=\"1\" class=\"dataframe\">\n  <thead>\n    <tr style=\"text-align: right;\">\n      <th></th>\n      <th>Team</th>\n      <th>Goals</th>\n      <th>Shots on target</th>\n      <th>Shots off target</th>\n      <th>Shooting Accuracy</th>\n      <th>% Goals-to-shots</th>\n      <th>Total shots (inc. Blocked)</th>\n      <th>Hit Woodwork</th>\n      <th>Penalty goals</th>\n      <th>Penalties not scored</th>\n      <th>...</th>\n      <th>Saves made</th>\n      <th>Saves-to-shots ratio</th>\n      <th>Fouls Won</th>\n      <th>Fouls Conceded</th>\n      <th>Offsides</th>\n      <th>Yellow Cards</th>\n      <th>Red Cards</th>\n      <th>Subs on</th>\n      <th>Subs off</th>\n      <th>Players Used</th>\n    </tr>\n  </thead>\n  <tbody>\n    <tr>\n      <th>0</th>\n      <td>Croatia</td>\n      <td>4</td>\n      <td>13</td>\n      <td>12</td>\n      <td>51.9%</td>\n      <td>16.0%</td>\n      <td>32</td>\n      <td>0</td>\n      <td>0</td>\n      <td>0</td>\n      <td>...</td>\n      <td>13</td>\n      <td>81.3%</td>\n      <td>41</td>\n      <td>62</td>\n      <td>2</td>\n      <td>9</td>\n      <td>0</td>\n      <td>9</td>\n      <td>9</td>\n      <td>16</td>\n    </tr>\n    <tr>\n      <th>1</th>\n      <td>Czech Republic</td>\n      <td>4</td>\n      <td>13</td>\n      <td>18</td>\n      <td>41.9%</td>\n      <td>12.9%</td>\n      <td>39</td>\n      <td>0</td>\n      <td>0</td>\n      <td>0</td>\n      <td>...</td>\n      <td>9</td>\n      <td>60.1%</td>\n      <td>53</td>\n      <td>73</td>\n      <td>8</td>\n      <td>7</td>\n      <td>0</td>\n      <td>11</td>\n      <td>11</td>\n      <td>19</td>\n    </tr>\n    <tr>\n      <th>2</th>\n      <td>Denmark</td>\n      <td>4</td>\n      <td>10</td>\n      <td>10</td>\n      <td>50.0%</td>\n      <td>20.0%</td>\n      <td>27</td>\n      <td>1</td>\n      <td>0</td>\n      <td>0</td>\n      <td>...</td>\n      <td>10</td>\n      <td>66.7%</td>\n      <td>25</td>\n      <td>38</td>\n      <td>8</td>\n      <td>4</td>\n      <td>0</td>\n      <td>7</td>\n      <td>7</td>\n      <td>15</td>\n    </tr>\n    <tr>\n      <th>3</th>\n      <td>England</td>\n      <td>5</td>\n      <td>11</td>\n      <td>18</td>\n      <td>50.0%</td>\n      <td>17.2%</td>\n      <td>40</td>\n      <td>0</td>\n      <td>0</td>\n      <td>0</td>\n      <td>...</td>\n      <td>22</td>\n      <td>88.1%</td>\n      <td>43</td>\n      <td>45</td>\n      <td>6</td>\n      <td>5</td>\n      <td>0</td>\n      <td>11</td>\n      <td>11</td>\n      <td>16</td>\n    </tr>\n    <tr>\n      <th>4</th>\n      <td>France</td>\n      <td>3</td>\n      <td>22</td>\n      <td>24</td>\n      <td>37.9%</td>\n      <td>6.5%</td>\n      <td>65</td>\n      <td>1</td>\n      <td>0</td>\n      <td>0</td>\n      <td>...</td>\n      <td>6</td>\n      <td>54.6%</td>\n      <td>36</td>\n      <td>51</td>\n      <td>5</td>\n      <td>6</td>\n      <td>0</td>\n      <td>11</td>\n      <td>11</td>\n      <td>19</td>\n    </tr>\n    <tr>\n      <th>5</th>\n      <td>Germany</td>\n      <td>10</td>\n      <td>32</td>\n      <td>32</td>\n      <td>47.8%</td>\n      <td>15.6%</td>\n      <td>80</td>\n      <td>2</td>\n      <td>1</td>\n      <td>0</td>\n      <td>...</td>\n      <td>10</td>\n      <td>62.6%</td>\n      <td>63</td>\n      <td>49</td>\n      <td>12</td>\n      <td>4</td>\n      <td>0</td>\n      <td>15</td>\n      <td>15</td>\n      <td>17</td>\n    </tr>\n    <tr>\n      <th>6</th>\n      <td>Greece</td>\n      <td>5</td>\n      <td>8</td>\n      <td>18</td>\n      <td>30.7%</td>\n      <td>19.2%</td>\n      <td>32</td>\n      <td>1</td>\n      <td>1</td>\n      <td>1</td>\n      <td>...</td>\n      <td>13</td>\n      <td>65.1%</td>\n      <td>67</td>\n      <td>48</td>\n      <td>12</td>\n      <td>9</td>\n      <td>1</td>\n      <td>12</td>\n      <td>12</td>\n      <td>20</td>\n    </tr>\n  </tbody>\n</table>\n<p>7 rows × 35 columns</p>\n</div>"
     },
     "execution_count": 55,
     "metadata": {},
     "output_type": "execute_result"
    }
   ],
   "source": [
    "first_seven_columns(euro12)"
   ]
  },
  {
   "cell_type": "code",
   "execution_count": null,
   "id": "a9a68b16090a09f7",
   "metadata": {
    "collapsed": false
   },
   "outputs": [],
   "source": [
    "\"\"\"\n",
    "9. Készíts egy függvényt, ami visszaadja az összes oszlopot az utolsó 3-on kívül. Használja a kiinduló adatokat\n",
    "\n",
    "fv. név: every_column_except_last_three\n",
    "bemenet: input_df\n",
    "return típus: pandas.core.frame.DataFrame\n",
    "\n",
    "\"\"\""
   ]
  },
  {
   "cell_type": "code",
   "execution_count": 59,
   "id": "1d0754a3513e5eec",
   "metadata": {
    "collapsed": false,
    "ExecuteTime": {
     "end_time": "2023-10-11T17:45:44.184714Z",
     "start_time": "2023-10-11T17:45:44.162215Z"
    }
   },
   "outputs": [],
   "source": [
    "def every_column_except_last_three(input_df):\n",
    "    new_df = input_df.copy()\n",
    "    return new_df.iloc[:,0:-3]"
   ]
  },
  {
   "cell_type": "code",
   "execution_count": 60,
   "id": "64582e56a87a8160",
   "metadata": {
    "collapsed": false,
    "ExecuteTime": {
     "end_time": "2023-10-11T17:45:44.455033Z",
     "start_time": "2023-10-11T17:45:44.432807Z"
    }
   },
   "outputs": [
    {
     "data": {
      "text/plain": "                   Team  Goals  Shots on target  Shots off target  \\\n0               Croatia      4               13                12   \n1        Czech Republic      4               13                18   \n2               Denmark      4               10                10   \n3               England      5               11                18   \n4                France      3               22                24   \n5               Germany     10               32                32   \n6                Greece      5                8                18   \n7                 Italy      6               34                45   \n8           Netherlands      2               12                36   \n9                Poland      2               15                23   \n10             Portugal      6               22                42   \n11  Republic of Ireland      1                7                12   \n12               Russia      5                9                31   \n13                Spain     12               42                33   \n14               Sweden      5               17                19   \n15              Ukraine      2                7                26   \n\n   Shooting Accuracy % Goals-to-shots  Total shots (inc. Blocked)  \\\n0              51.9%            16.0%                          32   \n1              41.9%            12.9%                          39   \n2              50.0%            20.0%                          27   \n3              50.0%            17.2%                          40   \n4              37.9%             6.5%                          65   \n5              47.8%            15.6%                          80   \n6              30.7%            19.2%                          32   \n7              43.0%             7.5%                         110   \n8              25.0%             4.1%                          60   \n9              39.4%             5.2%                          48   \n10             34.3%             9.3%                          82   \n11             36.8%             5.2%                          28   \n12             22.5%            12.5%                          59   \n13             55.9%            16.0%                         100   \n14             47.2%            13.8%                          39   \n15             21.2%             6.0%                          38   \n\n    Hit Woodwork  Penalty goals  Penalties not scored  ...  Clean Sheets  \\\n0              0              0                     0  ...             0   \n1              0              0                     0  ...             1   \n2              1              0                     0  ...             1   \n3              0              0                     0  ...             2   \n4              1              0                     0  ...             1   \n5              2              1                     0  ...             1   \n6              1              1                     1  ...             1   \n7              2              0                     0  ...             2   \n8              2              0                     0  ...             0   \n9              0              0                     0  ...             0   \n10             6              0                     0  ...             2   \n11             0              0                     0  ...             0   \n12             2              0                     0  ...             0   \n13             0              1                     0  ...             5   \n14             3              0                     0  ...             1   \n15             0              0                     0  ...             0   \n\n    Blocks  Goals conceded Saves made  Saves-to-shots ratio  Fouls Won  \\\n0       10               3         13                 81.3%         41   \n1       10               6          9                 60.1%         53   \n2       10               5         10                 66.7%         25   \n3       29               3         22                 88.1%         43   \n4        7               5          6                 54.6%         36   \n5       11               6         10                 62.6%         63   \n6       23               7         13                 65.1%         67   \n7       18               7         20                 74.1%        101   \n8        9               5         12                 70.6%         35   \n9        8               3          6                 66.7%         48   \n10      11               4         10                 71.5%         73   \n11      23               9         17                 65.4%         43   \n12       8               3         10                 77.0%         34   \n13       8               1         15                 93.8%        102   \n14      12               5          8                 61.6%         35   \n15       4               4         13                 76.5%         48   \n\n    Fouls Conceded  Offsides  Yellow Cards  Red Cards  \n0               62         2             9          0  \n1               73         8             7          0  \n2               38         8             4          0  \n3               45         6             5          0  \n4               51         5             6          0  \n5               49        12             4          0  \n6               48        12             9          1  \n7               89        16            16          0  \n8               30         3             5          0  \n9               56         3             7          1  \n10              90        10            12          0  \n11              51        11             6          1  \n12              43         4             6          0  \n13              83        19            11          0  \n14              51         7             7          0  \n15              31         4             5          0  \n\n[16 rows x 32 columns]",
      "text/html": "<div>\n<style scoped>\n    .dataframe tbody tr th:only-of-type {\n        vertical-align: middle;\n    }\n\n    .dataframe tbody tr th {\n        vertical-align: top;\n    }\n\n    .dataframe thead th {\n        text-align: right;\n    }\n</style>\n<table border=\"1\" class=\"dataframe\">\n  <thead>\n    <tr style=\"text-align: right;\">\n      <th></th>\n      <th>Team</th>\n      <th>Goals</th>\n      <th>Shots on target</th>\n      <th>Shots off target</th>\n      <th>Shooting Accuracy</th>\n      <th>% Goals-to-shots</th>\n      <th>Total shots (inc. Blocked)</th>\n      <th>Hit Woodwork</th>\n      <th>Penalty goals</th>\n      <th>Penalties not scored</th>\n      <th>...</th>\n      <th>Clean Sheets</th>\n      <th>Blocks</th>\n      <th>Goals conceded</th>\n      <th>Saves made</th>\n      <th>Saves-to-shots ratio</th>\n      <th>Fouls Won</th>\n      <th>Fouls Conceded</th>\n      <th>Offsides</th>\n      <th>Yellow Cards</th>\n      <th>Red Cards</th>\n    </tr>\n  </thead>\n  <tbody>\n    <tr>\n      <th>0</th>\n      <td>Croatia</td>\n      <td>4</td>\n      <td>13</td>\n      <td>12</td>\n      <td>51.9%</td>\n      <td>16.0%</td>\n      <td>32</td>\n      <td>0</td>\n      <td>0</td>\n      <td>0</td>\n      <td>...</td>\n      <td>0</td>\n      <td>10</td>\n      <td>3</td>\n      <td>13</td>\n      <td>81.3%</td>\n      <td>41</td>\n      <td>62</td>\n      <td>2</td>\n      <td>9</td>\n      <td>0</td>\n    </tr>\n    <tr>\n      <th>1</th>\n      <td>Czech Republic</td>\n      <td>4</td>\n      <td>13</td>\n      <td>18</td>\n      <td>41.9%</td>\n      <td>12.9%</td>\n      <td>39</td>\n      <td>0</td>\n      <td>0</td>\n      <td>0</td>\n      <td>...</td>\n      <td>1</td>\n      <td>10</td>\n      <td>6</td>\n      <td>9</td>\n      <td>60.1%</td>\n      <td>53</td>\n      <td>73</td>\n      <td>8</td>\n      <td>7</td>\n      <td>0</td>\n    </tr>\n    <tr>\n      <th>2</th>\n      <td>Denmark</td>\n      <td>4</td>\n      <td>10</td>\n      <td>10</td>\n      <td>50.0%</td>\n      <td>20.0%</td>\n      <td>27</td>\n      <td>1</td>\n      <td>0</td>\n      <td>0</td>\n      <td>...</td>\n      <td>1</td>\n      <td>10</td>\n      <td>5</td>\n      <td>10</td>\n      <td>66.7%</td>\n      <td>25</td>\n      <td>38</td>\n      <td>8</td>\n      <td>4</td>\n      <td>0</td>\n    </tr>\n    <tr>\n      <th>3</th>\n      <td>England</td>\n      <td>5</td>\n      <td>11</td>\n      <td>18</td>\n      <td>50.0%</td>\n      <td>17.2%</td>\n      <td>40</td>\n      <td>0</td>\n      <td>0</td>\n      <td>0</td>\n      <td>...</td>\n      <td>2</td>\n      <td>29</td>\n      <td>3</td>\n      <td>22</td>\n      <td>88.1%</td>\n      <td>43</td>\n      <td>45</td>\n      <td>6</td>\n      <td>5</td>\n      <td>0</td>\n    </tr>\n    <tr>\n      <th>4</th>\n      <td>France</td>\n      <td>3</td>\n      <td>22</td>\n      <td>24</td>\n      <td>37.9%</td>\n      <td>6.5%</td>\n      <td>65</td>\n      <td>1</td>\n      <td>0</td>\n      <td>0</td>\n      <td>...</td>\n      <td>1</td>\n      <td>7</td>\n      <td>5</td>\n      <td>6</td>\n      <td>54.6%</td>\n      <td>36</td>\n      <td>51</td>\n      <td>5</td>\n      <td>6</td>\n      <td>0</td>\n    </tr>\n    <tr>\n      <th>5</th>\n      <td>Germany</td>\n      <td>10</td>\n      <td>32</td>\n      <td>32</td>\n      <td>47.8%</td>\n      <td>15.6%</td>\n      <td>80</td>\n      <td>2</td>\n      <td>1</td>\n      <td>0</td>\n      <td>...</td>\n      <td>1</td>\n      <td>11</td>\n      <td>6</td>\n      <td>10</td>\n      <td>62.6%</td>\n      <td>63</td>\n      <td>49</td>\n      <td>12</td>\n      <td>4</td>\n      <td>0</td>\n    </tr>\n    <tr>\n      <th>6</th>\n      <td>Greece</td>\n      <td>5</td>\n      <td>8</td>\n      <td>18</td>\n      <td>30.7%</td>\n      <td>19.2%</td>\n      <td>32</td>\n      <td>1</td>\n      <td>1</td>\n      <td>1</td>\n      <td>...</td>\n      <td>1</td>\n      <td>23</td>\n      <td>7</td>\n      <td>13</td>\n      <td>65.1%</td>\n      <td>67</td>\n      <td>48</td>\n      <td>12</td>\n      <td>9</td>\n      <td>1</td>\n    </tr>\n    <tr>\n      <th>7</th>\n      <td>Italy</td>\n      <td>6</td>\n      <td>34</td>\n      <td>45</td>\n      <td>43.0%</td>\n      <td>7.5%</td>\n      <td>110</td>\n      <td>2</td>\n      <td>0</td>\n      <td>0</td>\n      <td>...</td>\n      <td>2</td>\n      <td>18</td>\n      <td>7</td>\n      <td>20</td>\n      <td>74.1%</td>\n      <td>101</td>\n      <td>89</td>\n      <td>16</td>\n      <td>16</td>\n      <td>0</td>\n    </tr>\n    <tr>\n      <th>8</th>\n      <td>Netherlands</td>\n      <td>2</td>\n      <td>12</td>\n      <td>36</td>\n      <td>25.0%</td>\n      <td>4.1%</td>\n      <td>60</td>\n      <td>2</td>\n      <td>0</td>\n      <td>0</td>\n      <td>...</td>\n      <td>0</td>\n      <td>9</td>\n      <td>5</td>\n      <td>12</td>\n      <td>70.6%</td>\n      <td>35</td>\n      <td>30</td>\n      <td>3</td>\n      <td>5</td>\n      <td>0</td>\n    </tr>\n    <tr>\n      <th>9</th>\n      <td>Poland</td>\n      <td>2</td>\n      <td>15</td>\n      <td>23</td>\n      <td>39.4%</td>\n      <td>5.2%</td>\n      <td>48</td>\n      <td>0</td>\n      <td>0</td>\n      <td>0</td>\n      <td>...</td>\n      <td>0</td>\n      <td>8</td>\n      <td>3</td>\n      <td>6</td>\n      <td>66.7%</td>\n      <td>48</td>\n      <td>56</td>\n      <td>3</td>\n      <td>7</td>\n      <td>1</td>\n    </tr>\n    <tr>\n      <th>10</th>\n      <td>Portugal</td>\n      <td>6</td>\n      <td>22</td>\n      <td>42</td>\n      <td>34.3%</td>\n      <td>9.3%</td>\n      <td>82</td>\n      <td>6</td>\n      <td>0</td>\n      <td>0</td>\n      <td>...</td>\n      <td>2</td>\n      <td>11</td>\n      <td>4</td>\n      <td>10</td>\n      <td>71.5%</td>\n      <td>73</td>\n      <td>90</td>\n      <td>10</td>\n      <td>12</td>\n      <td>0</td>\n    </tr>\n    <tr>\n      <th>11</th>\n      <td>Republic of Ireland</td>\n      <td>1</td>\n      <td>7</td>\n      <td>12</td>\n      <td>36.8%</td>\n      <td>5.2%</td>\n      <td>28</td>\n      <td>0</td>\n      <td>0</td>\n      <td>0</td>\n      <td>...</td>\n      <td>0</td>\n      <td>23</td>\n      <td>9</td>\n      <td>17</td>\n      <td>65.4%</td>\n      <td>43</td>\n      <td>51</td>\n      <td>11</td>\n      <td>6</td>\n      <td>1</td>\n    </tr>\n    <tr>\n      <th>12</th>\n      <td>Russia</td>\n      <td>5</td>\n      <td>9</td>\n      <td>31</td>\n      <td>22.5%</td>\n      <td>12.5%</td>\n      <td>59</td>\n      <td>2</td>\n      <td>0</td>\n      <td>0</td>\n      <td>...</td>\n      <td>0</td>\n      <td>8</td>\n      <td>3</td>\n      <td>10</td>\n      <td>77.0%</td>\n      <td>34</td>\n      <td>43</td>\n      <td>4</td>\n      <td>6</td>\n      <td>0</td>\n    </tr>\n    <tr>\n      <th>13</th>\n      <td>Spain</td>\n      <td>12</td>\n      <td>42</td>\n      <td>33</td>\n      <td>55.9%</td>\n      <td>16.0%</td>\n      <td>100</td>\n      <td>0</td>\n      <td>1</td>\n      <td>0</td>\n      <td>...</td>\n      <td>5</td>\n      <td>8</td>\n      <td>1</td>\n      <td>15</td>\n      <td>93.8%</td>\n      <td>102</td>\n      <td>83</td>\n      <td>19</td>\n      <td>11</td>\n      <td>0</td>\n    </tr>\n    <tr>\n      <th>14</th>\n      <td>Sweden</td>\n      <td>5</td>\n      <td>17</td>\n      <td>19</td>\n      <td>47.2%</td>\n      <td>13.8%</td>\n      <td>39</td>\n      <td>3</td>\n      <td>0</td>\n      <td>0</td>\n      <td>...</td>\n      <td>1</td>\n      <td>12</td>\n      <td>5</td>\n      <td>8</td>\n      <td>61.6%</td>\n      <td>35</td>\n      <td>51</td>\n      <td>7</td>\n      <td>7</td>\n      <td>0</td>\n    </tr>\n    <tr>\n      <th>15</th>\n      <td>Ukraine</td>\n      <td>2</td>\n      <td>7</td>\n      <td>26</td>\n      <td>21.2%</td>\n      <td>6.0%</td>\n      <td>38</td>\n      <td>0</td>\n      <td>0</td>\n      <td>0</td>\n      <td>...</td>\n      <td>0</td>\n      <td>4</td>\n      <td>4</td>\n      <td>13</td>\n      <td>76.5%</td>\n      <td>48</td>\n      <td>31</td>\n      <td>4</td>\n      <td>5</td>\n      <td>0</td>\n    </tr>\n  </tbody>\n</table>\n<p>16 rows × 32 columns</p>\n</div>"
     },
     "execution_count": 60,
     "metadata": {},
     "output_type": "execute_result"
    }
   ],
   "source": [
    "every_column_except_last_three(euro12)"
   ]
  },
  {
   "cell_type": "code",
   "execution_count": null,
   "id": "376c202b0fe487aa",
   "metadata": {
    "collapsed": false
   },
   "outputs": [],
   "source": [
    "\"\"\"\n",
    "10. Készíts egy függvényt, amely tetszőleges oszlopokat és sorokat ad vissza a bemeneti adatokból. A sorokat és oszlopokat listák formájában adjuk be a függvénynek. A sorokat egy bemeneti oszlop alapján szűrjük\n",
    "\n",
    "fv. név: sliced_view\n",
    "bemenet: input_df, columns_to_keep, column_to_filter, rows_to_keep\n",
    "return type: pandas.core.frame.DataFrame\n",
    "\n",
    "\"\"\""
   ]
  },
  {
   "cell_type": "code",
   "execution_count": 70,
   "id": "3596668112e27e6",
   "metadata": {
    "collapsed": false,
    "ExecuteTime": {
     "end_time": "2023-10-11T17:55:42.895555Z",
     "start_time": "2023-10-11T17:55:42.873953Z"
    }
   },
   "outputs": [],
   "source": [
    "def sliced_view(input_df, columns_to_keep, column_to_filter, rows_to_keep):\n",
    "    new_df = input_df.copy()\n",
    "    return new_df.loc[[x in rows_to_keep for x in euro12[column_to_filter]], columns_to_keep]\n",
    "\n"
   ]
  },
  {
   "cell_type": "code",
   "execution_count": 71,
   "id": "6e731f8b0d4c77ee",
   "metadata": {
    "collapsed": false,
    "ExecuteTime": {
     "end_time": "2023-10-11T17:56:27.416145Z",
     "start_time": "2023-10-11T17:56:27.394917Z"
    }
   },
   "outputs": [
    {
     "data": {
      "text/plain": "      Team  Goals\n5  Germany     10\n7    Italy      6",
      "text/html": "<div>\n<style scoped>\n    .dataframe tbody tr th:only-of-type {\n        vertical-align: middle;\n    }\n\n    .dataframe tbody tr th {\n        vertical-align: top;\n    }\n\n    .dataframe thead th {\n        text-align: right;\n    }\n</style>\n<table border=\"1\" class=\"dataframe\">\n  <thead>\n    <tr style=\"text-align: right;\">\n      <th></th>\n      <th>Team</th>\n      <th>Goals</th>\n    </tr>\n  </thead>\n  <tbody>\n    <tr>\n      <th>5</th>\n      <td>Germany</td>\n      <td>10</td>\n    </tr>\n    <tr>\n      <th>7</th>\n      <td>Italy</td>\n      <td>6</td>\n    </tr>\n  </tbody>\n</table>\n</div>"
     },
     "execution_count": 71,
     "metadata": {},
     "output_type": "execute_result"
    }
   ],
   "source": [
    "sliced_view(euro12, ['Team', 'Goals'],'Team' , ['Italy', 'Germany'])"
   ]
  },
  {
   "cell_type": "code",
   "execution_count": null,
   "id": "47d70863b98e7ae3",
   "metadata": {
    "collapsed": false
   },
   "outputs": [],
   "source": [
    "\"\"\"\n",
    "11. Készíts egy függvényt, ami a bemeneti adatokat kiegészíti egy 'Quartile' oszloppal. A kvartilis oszlop értékeit a lőtt gólok alapján határozza meg:\n",
    "\n",
    "6 - 12: 1\n",
    "5 - 5: 2\n",
    "3 - 4: 3\n",
    "0 - 2: 4\n",
    "\n",
    "fv. név: generate_quartile\n",
    "bemenet: input_df\n",
    "return type: pandas.core.frame.DataFrame\n",
    "\n",
    "\"\"\""
   ]
  },
  {
   "cell_type": "code",
   "execution_count": 82,
   "id": "21d385ae84f4114d",
   "metadata": {
    "collapsed": false,
    "ExecuteTime": {
     "end_time": "2023-10-11T18:03:29.885996Z",
     "start_time": "2023-10-11T18:03:29.868423Z"
    }
   },
   "outputs": [],
   "source": [
    "def generate_quartile(input_df):\n",
    "    new_df = input_df.copy()\n",
    "    new_df['Quartile'] = pd.cut(new_df['Goals'], bins=[0, 2, 4, 5, 12], labels=[4, 3, 2, 1])\n",
    "    return new_df"
   ]
  },
  {
   "cell_type": "code",
   "execution_count": 85,
   "id": "3ad4b27111f25648",
   "metadata": {
    "collapsed": false,
    "ExecuteTime": {
     "end_time": "2023-10-11T18:05:14.901334Z",
     "start_time": "2023-10-11T18:05:14.864483Z"
    }
   },
   "outputs": [],
   "source": [
    "euro12_new = generate_quartile(euro12)"
   ]
  },
  {
   "cell_type": "code",
   "execution_count": null,
   "id": "bb70c884473a7679",
   "metadata": {
    "collapsed": false
   },
   "outputs": [],
   "source": [
    "\"\"\"\n",
    "12., Készíts egy függvényt, ami minden kvartilis értékhez kiszámítja, hogy átlagosan hány passzot adtak.\n",
    "\n",
    "fn név: average_yellow_in_quartiles\n",
    "bemenet: input_df\n",
    "return type: pandas.core.frame.DataFrame\n",
    "\n",
    "\"\"\""
   ]
  },
  {
   "cell_type": "code",
   "execution_count": 89,
   "id": "dad25f20c5ac3ec6",
   "metadata": {
    "collapsed": false,
    "ExecuteTime": {
     "end_time": "2023-10-11T18:07:46.544100Z",
     "start_time": "2023-10-11T18:07:46.519417Z"
    }
   },
   "outputs": [],
   "source": [
    "def average_yellow_in_quartiles(input_df):\n",
    "    new_df = input_df.copy()\n",
    "    return new_df.groupby('Quartile')['Passes'].mean().to_frame()"
   ]
  },
  {
   "cell_type": "code",
   "execution_count": 90,
   "id": "8a8aa5257e5e9f81",
   "metadata": {
    "collapsed": false,
    "ExecuteTime": {
     "end_time": "2023-10-11T18:07:46.723904Z",
     "start_time": "2023-10-11T18:07:46.698896Z"
    }
   },
   "outputs": [
    {
     "data": {
      "text/plain": "           Passes\nQuartile         \n4         1185.50\n3         1501.25\n2         1367.25\n1         2999.50",
      "text/html": "<div>\n<style scoped>\n    .dataframe tbody tr th:only-of-type {\n        vertical-align: middle;\n    }\n\n    .dataframe tbody tr th {\n        vertical-align: top;\n    }\n\n    .dataframe thead th {\n        text-align: right;\n    }\n</style>\n<table border=\"1\" class=\"dataframe\">\n  <thead>\n    <tr style=\"text-align: right;\">\n      <th></th>\n      <th>Passes</th>\n    </tr>\n    <tr>\n      <th>Quartile</th>\n      <th></th>\n    </tr>\n  </thead>\n  <tbody>\n    <tr>\n      <th>4</th>\n      <td>1185.50</td>\n    </tr>\n    <tr>\n      <th>3</th>\n      <td>1501.25</td>\n    </tr>\n    <tr>\n      <th>2</th>\n      <td>1367.25</td>\n    </tr>\n    <tr>\n      <th>1</th>\n      <td>2999.50</td>\n    </tr>\n  </tbody>\n</table>\n</div>"
     },
     "execution_count": 90,
     "metadata": {},
     "output_type": "execute_result"
    }
   ],
   "source": [
    "average_yellow_in_quartiles(euro12_new)"
   ]
  },
  {
   "cell_type": "code",
   "execution_count": null,
   "id": "1fa60ba13b667576",
   "metadata": {
    "collapsed": false
   },
   "outputs": [],
   "source": [
    "\"\"\"\n",
    "13., Készíts egy függvényt ami minden kvartilis esetén visszadja a blokkok (Blocks) minimális és maximális értékét.\n",
    "\n",
    "fv. név: minmax_block_in_quartile\n",
    "bemenet: input_df\n",
    "return type: pandas.core.frame.DataFrame\n",
    "\"\"\""
   ]
  },
  {
   "cell_type": "code",
   "execution_count": 95,
   "id": "a4166f92696d8f3c",
   "metadata": {
    "collapsed": false,
    "ExecuteTime": {
     "end_time": "2023-10-11T18:11:19.856069Z",
     "start_time": "2023-10-11T18:11:19.833583Z"
    }
   },
   "outputs": [],
   "source": [
    "def minmax_block_in_quartile(input_df):\n",
    "    new_df = input_df.copy()\n",
    "    return new_df.groupby('Quartile')['Passes'].agg([min, max])\n",
    "    "
   ]
  },
  {
   "cell_type": "markdown",
   "source": [],
   "metadata": {
    "collapsed": false
   },
   "id": "1f3c40c85a76bfbd"
  },
  {
   "cell_type": "code",
   "execution_count": 96,
   "id": "accb935cb089b427",
   "metadata": {
    "collapsed": false,
    "ExecuteTime": {
     "end_time": "2023-10-11T18:11:27.518996Z",
     "start_time": "2023-10-11T18:11:27.488786Z"
    }
   },
   "outputs": [
    {
     "data": {
      "text/plain": "           min   max\nQuartile            \n4          851  1556\n3         1076  2066\n2         1187  1602\n1         1891  4317",
      "text/html": "<div>\n<style scoped>\n    .dataframe tbody tr th:only-of-type {\n        vertical-align: middle;\n    }\n\n    .dataframe tbody tr th {\n        vertical-align: top;\n    }\n\n    .dataframe thead th {\n        text-align: right;\n    }\n</style>\n<table border=\"1\" class=\"dataframe\">\n  <thead>\n    <tr style=\"text-align: right;\">\n      <th></th>\n      <th>min</th>\n      <th>max</th>\n    </tr>\n    <tr>\n      <th>Quartile</th>\n      <th></th>\n      <th></th>\n    </tr>\n  </thead>\n  <tbody>\n    <tr>\n      <th>4</th>\n      <td>851</td>\n      <td>1556</td>\n    </tr>\n    <tr>\n      <th>3</th>\n      <td>1076</td>\n      <td>2066</td>\n    </tr>\n    <tr>\n      <th>2</th>\n      <td>1187</td>\n      <td>1602</td>\n    </tr>\n    <tr>\n      <th>1</th>\n      <td>1891</td>\n      <td>4317</td>\n    </tr>\n  </tbody>\n</table>\n</div>"
     },
     "execution_count": 96,
     "metadata": {},
     "output_type": "execute_result"
    }
   ],
   "source": [
    "minmax_block_in_quartile(euro12_new)"
   ]
  },
  {
   "cell_type": "code",
   "execution_count": null,
   "id": "31b60fe10110736b",
   "metadata": {
    "collapsed": false
   },
   "outputs": [],
   "source": [
    "\"\"\"\n",
    "14., Készíts egy függvényt, ami scatter_plot-on ábrázolja a gólok és a kaput ért találatok kapcsolatát.\n",
    "\n",
    "fv név: scatter_goals_shots\n",
    "bemenet: input_df\n",
    "X tengelyen: Goals\n",
    "y tengelyen: Shots on target\n",
    "title: 'Goals and Shot on target'\n",
    "Tengely feliratok egyezenek meg az oszlop nevekkel\n",
    "\n",
    "return type: matplotlib.figure.Figure\n",
    "\"\"\""
   ]
  },
  {
   "cell_type": "code",
   "execution_count": 97,
   "id": "baecdf0d2d7f6fc3",
   "metadata": {
    "collapsed": false,
    "ExecuteTime": {
     "end_time": "2023-10-11T18:13:39.405598Z",
     "start_time": "2023-10-11T18:13:39.383456Z"
    }
   },
   "outputs": [],
   "source": [
    "def scatter_goals_shots(input_df):\n",
    "       new_df = input_df.copy()\n",
    "       fig, ax = plt.subplots()\n",
    "       ax.scatter(new_df['Goals'], new_df['Shots on target'])\n",
    "       ax.set_title('Goals and Shot on target')\n",
    "       ax.set_xlabel('Goals')\n",
    "       ax.set_ylabel('Goals and Shot on target')\n",
    "       return fig"
   ]
  },
  {
   "cell_type": "code",
   "execution_count": 98,
   "id": "d202e423c6fac93d",
   "metadata": {
    "collapsed": false,
    "ExecuteTime": {
     "end_time": "2023-10-11T18:13:40.119421Z",
     "start_time": "2023-10-11T18:13:39.862881Z"
    }
   },
   "outputs": [
    {
     "data": {
      "text/plain": "<Figure size 640x480 with 1 Axes>",
      "image/png": "[encoded data removed]"
     },
     "execution_count": 98,
     "metadata": {},
     "output_type": "execute_result"
    },
    {
     "data": {
      "text/plain": "<Figure size 640x480 with 1 Axes>",
      "image/png": "[encoded data removed]"
     },
     "metadata": {},
     "output_type": "display_data"
    }
   ],
   "source": [
    "scatter_goals_shots(euro12)"
   ]
  },
  {
   "cell_type": "code",
   "execution_count": null,
   "id": "aab2d1aee5e62a78",
   "metadata": {
    "collapsed": false
   },
   "outputs": [],
   "source": [
    "\"\"\"\n",
    "15., Készíts egy függvényt, ami scatter_plot-on ábrázolja a gólok és a kaput ért találatok kapcsolatát. A különböző kvartiliseket különböző színek jelöljék. A színek mellett jelenjen meg jelmagyarázat.\n",
    "\n",
    "fv név: scatter_goals_shots_by_quartile\n",
    "bemenet: input_df\n",
    "X tengelyen: Goals\n",
    "y tengelyen: Shots on target\n",
    "title: 'Goals and Shot on target'\n",
    "Tengely feliratok egyezenek meg az oszlop nevekkel\n",
    "Jelmagyarázat címe: Quartiles\n",
    "\n",
    "return type: matplotlib.figure.Figure\n",
    "\"\"\""
   ]
  },
  {
   "cell_type": "code",
   "execution_count": 108,
   "id": "82b34fb7ec646847",
   "metadata": {
    "collapsed": false,
    "ExecuteTime": {
     "end_time": "2023-10-11T18:18:35.020545Z",
     "start_time": "2023-10-11T18:18:34.999879Z"
    }
   },
   "outputs": [],
   "source": [
    "    def scatter_goals_shots_by_quartile(input_df):\n",
    "       new_df = input_df.copy()\n",
    "       fig, ax = plt.subplots()\n",
    "       colors = {1: 'red', 2: 'green', 3: 'blue', 4: 'purple'}\n",
    "       for quartile, color in colors.items():\n",
    "           quartile_data = new_df[new_df['Quartile'] == quartile]\n",
    "           ax.scatter(quartile_data['Goals'], quartile_data['Shots on target'], label=quartile, color=color)\n",
    "       ax.set_title('Goals and Shot on target')\n",
    "       ax.set_xlabel('Goals')\n",
    "       ax.set_ylabel('Goals and Shot on target')\n",
    "       ax.legend(title='Quartile')\n",
    "       return fig"
   ]
  },
  {
   "cell_type": "code",
   "execution_count": 109,
   "id": "dac4a005197f4a91",
   "metadata": {
    "collapsed": false,
    "ExecuteTime": {
     "end_time": "2023-10-11T18:18:38.794635Z",
     "start_time": "2023-10-11T18:18:38.613117Z"
    }
   },
   "outputs": [
    {
     "data": {
      "text/plain": "<Figure size 640x480 with 1 Axes>",
      "image/png": "[encoded data removed]"
     },
     "execution_count": 109,
     "metadata": {},
     "output_type": "execute_result"
    },
    {
     "data": {
      "text/plain": "<Figure size 640x480 with 1 Axes>",
      "image/png": "[encoded data removed]"
     },
     "metadata": {},
     "output_type": "display_data"
    }
   ],
   "source": [
    "scatter_goals_shots_by_quartile(euro12_new)"
   ]
  },
  {
   "cell_type": "code",
   "execution_count": null,
   "id": "10b9f08f28204e28",
   "metadata": {
    "collapsed": false
   },
   "outputs": [],
   "source": [
    "\"\"\"\n",
    "16. Készíts egy függvényt, ami létrehoz egy listát, benne number_of_trajectories db listával. A belső listák létrehozásának logikája a következő:\n",
    "    A bemeneti paraméterként kapott pareto_distribution osztály felhasználásával (ParetoDistribution 1,1 paraméterekkel) generálj length_of_trajectory véletlen számot\n",
    "    A belső lista tartalmazza a generált számok kumulatív átlagát.\n",
    "    Ismételd meg number_of_trajectories alkalommal (mindegyik belső listába egyszer)\n",
    "    A seed értéke legyen 42.\n",
    "\n",
    "függvény bemenete: pareto_distribution, number_of_trajectories, length_of_trajectory\n",
    "kimeneti típus: List    \n",
    "függvény neve: gen_pareto_mean_trajectories\n",
    "\"\"\""
   ]
  },
  {
   "cell_type": "code",
   "execution_count": null,
   "id": "bededb488887a09d",
   "metadata": {
    "collapsed": false
   },
   "outputs": [],
   "source": []
  },
  {
   "cell_type": "code",
   "execution_count": 111,
   "id": "d47adf97603987b3",
   "metadata": {
    "collapsed": false,
    "ExecuteTime": {
     "end_time": "2023-10-11T18:28:11.199485Z",
     "start_time": "2023-10-11T18:28:11.170807Z"
    }
   },
   "outputs": [
    {
     "data": {
      "text/plain": "[[2.773361957358876,\n  1.899507148484203,\n  1.726126807387266,\n  1.6164327161740228,\n  2.0520765469609543,\n  2.2255800354219417,\n  3.232594306802298,\n  2.965422128044485,\n  2.8281385386986586,\n  2.648395921072912,\n  2.5239796086329167,\n  2.482119063685331,\n  2.370206775881246,\n  2.2900624679004835,\n  2.3278049569373254,\n  2.3196621199969547,\n  2.2586688142463505,\n  2.2684463173929443,\n  2.4252348387205243,\n  2.354300160275428],\n [5.14984111163784,\n  4.2313142411774285,\n  3.3261184408911464,\n  2.79061480036866,\n  6.9068166940578,\n  6.006909544677778,\n  5.306240605426915,\n  4.781344528743022,\n  4.978654560617323,\n  4.7331397708003,\n  4.77419916534804,\n  4.68468491490676,\n  4.4901885650494116,\n  6.826355035470878,\n  6.4785379973161294,\n  6.213150954938197,\n  6.192484720927524,\n  5.994089330972058,\n  6.05919088054139,\n  5.874533131824213],\n [3.3849176300181667,\n  2.2164713672430345,\n  1.9093696205064052,\n  1.7838366236009975,\n  1.6444114595493982,\n  1.587580483116341,\n  1.5196902456589496,\n  1.5028528293122623,\n  1.6408550911111501,\n  1.634208288258566,\n  1.629985504755666,\n  1.5995728284591584,\n  1.5814683958053275,\n  2.5961108593059987,\n  2.6124497823930377,\n  2.6090717933008243,\n  2.526566064134208,\n  2.5912992959419183,\n  2.51782659250906,\n  2.4725096540951284],\n [95.45036445459647,\n  49.1140701896989,\n  33.49507355585976,\n  25.913985244497102,\n  22.003873170441587,\n  19.080608300604087,\n  16.54010679129707,\n  14.601739047818489,\n  13.141636951142175,\n  11.964036935085211,\n  10.991615355892511,\n  11.535323646299624,\n  11.270183083790439,\n  10.5693962810399,\n  10.058252589330491,\n  9.53302559966778,\n  9.660637038513872,\n  9.226597358618866,\n  8.81258288881681,\n  8.438321975909023],\n [2.279816123464121,\n  1.8180963411469233,\n  2.0144765811039593,\n  3.9575892365901653,\n  3.499072002345829,\n  3.1293826378687943,\n  60.69788989645559,\n  53.365509319117834,\n  47.55823054907479,\n  42.90735210379325,\n  39.1087885233462,\n  36.07340405836745,\n  33.668490471437,\n  31.387211349254013,\n  29.36591974271084,\n  27.63162018132596,\n  41.17232928184805,\n  39.002958644682764,\n  38.76997171163432,\n  37.190616159090915],\n [1.0116143667422393,\n  2.2961368068831947,\n  2.578022063663805,\n  2.4734387523459254,\n  2.2515372422919753,\n  2.340484192476747,\n  2.1669233788130375,\n  2.1172050111107734,\n  2.0853572877710636,\n  4.042070196295134,\n  4.406878653636462,\n  4.152769494365636,\n  3.98735239508017,\n  3.78950654894412,\n  4.299892328568419,\n  4.513843757351616,\n  4.33217086394643,\n  4.24536668331659,\n  4.156523695976017,\n  4.0077181882976],\n [4.210717793973118,\n  3.190850076708257,\n  3.6329840780117393,\n  3.257053516331134,\n  2.805757257740963,\n  2.5847363012887903,\n  2.3611830612497053,\n  3.8290473148096646,\n  4.319765419168911,\n  4.481844269593857,\n  4.205683224817448,\n  3.9436668560491692,\n  4.270874505326393,\n  5.312236631878881,\n  5.030999338434692,\n  4.838154954501093,\n  4.6167551982939585,\n  4.592332532863404,\n  4.575393063799743,\n  4.403988612949478],\n [1.9057869571381783,\n  2.0635198469170217,\n  1.829229581442877,\n  3.331677299215204,\n  3.012045174428811,\n  2.721489418009225,\n  2.642789717386271,\n  2.775285801553047,\n  2.606009726720721,\n  2.4906976788570043,\n  21.00592704366084,\n  19.493445436355902,\n  18.13084781546145,\n  16.98384902008674,\n  15.927436542636837,\n  15.01258543772154,\n  14.218360957971445,\n  13.563396713615457,\n  12.917896614920556,\n  12.336122218514854],\n [1.0764182536640656,\n  1.8936008542904983,\n  1.6947068809504338,\n  3.9142954850799963,\n  4.556297074886411,\n  3.9762910628086736,\n  3.5957271880478667,\n  3.52387944265754,\n  3.2737426219777177,\n  3.0616171387946887,\n  4.193042829422763,\n  4.037892302404633,\n  3.8731582354897034,\n  3.928142948970961,\n  4.01258169755932,\n  3.838994903448515,\n  3.6783090191653427,\n  3.5716044817402284,\n  3.474932770852558,\n  3.394999104508502],\n [3.6910699840020564,\n  3.3762935053733467,\n  23.30155906783982,\n  17.753459624191205,\n  14.537563690585847,\n  12.36689511004784,\n  11.632941867063172,\n  10.345192741872866,\n  9.332936480867911,\n  8.581003835770973,\n  7.958162541256305,\n  7.410489672345453,\n  6.942989645969357,\n  7.377916434136774,\n  7.005772248869683,\n  7.01868390633243,\n  6.736633668645116,\n  6.420892013252535,\n  79.4338381232187,\n  75.7670755554735]]"
     },
     "execution_count": 111,
     "metadata": {},
     "output_type": "execute_result"
    }
   ],
   "source": [
    "def generate_mean_trajectories(pareto_distribution, number_of_trajectories, length_of_trajectory):\n",
    "    pareto_distribution.rand.seed(42)\n",
    "    trajectories = [] \n",
    "    \n",
    "    for _ in range(number_of_trajectories):\n",
    "        \n",
    "        mean_trajectory = []\n",
    "        trajectory = []\n",
    "        for i in range(length_of_trajectory):\n",
    "            trajectory.append(pareto_distribution.gen_rand())\n",
    "            mean_trajectory.append(sum(trajectory) / (i + 1))\n",
    "            \n",
    "        trajectories.append(mean_trajectory)\n",
    "    \n",
    "    return trajectories\n",
    "\n",
    "from src.weekly import weekly_test_2 as dst\n",
    "import random\n",
    "\n",
    "generate_mean_trajectories(dst.ParetoDistribution(random, 1, 1), 10, 20)\n",
    "        "
   ]
  },
  {
   "cell_type": "code",
   "execution_count": null,
   "outputs": [],
   "source": [],
   "metadata": {
    "collapsed": false
   },
   "id": "1601d910604c3e22"
  }
 ],
 "metadata": {
  "kernelspec": {
   "display_name": "Python 3 (ipykernel)",
   "language": "python",
   "name": "python3"
  },
  "language_info": {
   "codemirror_mode": {
    "name": "ipython",
    "version": 3
   },
   "file_extension": ".py",
   "mimetype": "text/x-python",
   "name": "python",
   "nbconvert_exporter": "python",
   "pygments_lexer": "ipython3",
   "version": "3.10.4"
  }
 },
 "nbformat": 4,
 "nbformat_minor": 5
}
