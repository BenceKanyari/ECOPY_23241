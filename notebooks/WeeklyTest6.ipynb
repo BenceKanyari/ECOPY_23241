{
 "cells": [
  {
   "cell_type": "markdown",
   "id": "de9d9737616514b8",
   "metadata": {
    "collapsed": false
   },
   "source": [
    "## Az eredményeket mentsd a src/weekly modul-ba weekly_test_6.py néven"
   ]
  },
  {
   "cell_type": "markdown",
   "id": "a9789db8f0fbd7ec",
   "metadata": {
    "collapsed": false
   },
   "source": [
    "#### Használható modulok: pathlib, pandas, typing, str, statsmodels"
   ]
  },
  {
   "cell_type": "code",
   "execution_count": 26,
   "id": "dfea6e648868022e",
   "metadata": {
    "collapsed": false,
    "ExecuteTime": {
     "end_time": "2023-10-25T17:26:33.131198Z",
     "start_time": "2023-10-25T17:26:25.741136Z"
    }
   },
   "outputs": [
    {
     "name": "stdout",
     "output_type": "stream",
     "text": [
      "Collecting fastparquet\r\n",
      "  Using cached fastparquet-2023.8.0-cp310-cp310-macosx_11_0_arm64.whl (681 kB)\r\n",
      "Requirement already satisfied: numpy>=1.20.3 in /Users/kanyaribence/anaconda3/lib/python3.10/site-packages (from fastparquet) (1.23.5)\r\n",
      "Requirement already satisfied: pandas>=1.5.0 in /Users/kanyaribence/anaconda3/lib/python3.10/site-packages (from fastparquet) (1.5.3)\r\n",
      "Requirement already satisfied: packaging in /Users/kanyaribence/anaconda3/lib/python3.10/site-packages (from fastparquet) (22.0)\r\n",
      "Collecting cramjam>=2.3\r\n",
      "  Using cached cramjam-2.7.0-cp310-cp310-macosx_10_9_x86_64.macosx_11_0_arm64.macosx_10_9_universal2.whl (3.2 MB)\r\n",
      "Requirement already satisfied: fsspec in /Users/kanyaribence/anaconda3/lib/python3.10/site-packages (from fastparquet) (2022.11.0)\r\n",
      "Requirement already satisfied: python-dateutil>=2.8.1 in /Users/kanyaribence/anaconda3/lib/python3.10/site-packages (from pandas>=1.5.0->fastparquet) (2.8.2)\r\n",
      "Requirement already satisfied: pytz>=2020.1 in /Users/kanyaribence/anaconda3/lib/python3.10/site-packages (from pandas>=1.5.0->fastparquet) (2022.7)\r\n",
      "Requirement already satisfied: six>=1.5 in /Users/kanyaribence/anaconda3/lib/python3.10/site-packages (from python-dateutil>=2.8.1->pandas>=1.5.0->fastparquet) (1.16.0)\r\n",
      "Installing collected packages: cramjam, fastparquet\r\n",
      "Successfully installed cramjam-2.7.0 fastparquet-2023.8.0\r\n"
     ]
    }
   ],
   "source": [
    "from pathlib import Path\n",
    "!pip3 install fastparquet\n",
    "import fastparquet"
   ]
  },
  {
   "cell_type": "code",
   "execution_count": 16,
   "outputs": [],
   "source": [
    "datalib = Path.cwd().parent.joinpath('data')"
   ],
   "metadata": {
    "collapsed": false,
    "ExecuteTime": {
     "end_time": "2023-10-25T17:22:27.350542Z",
     "start_time": "2023-10-25T17:22:27.347341Z"
    }
   },
   "id": "b0b5dd4685315eda"
  },
  {
   "cell_type": "code",
   "execution_count": 17,
   "outputs": [],
   "source": [
    "import pandas as pd\n",
    "import statsmodels"
   ],
   "metadata": {
    "collapsed": false,
    "ExecuteTime": {
     "end_time": "2023-10-25T17:22:27.745932Z",
     "start_time": "2023-10-25T17:22:27.743002Z"
    }
   },
   "id": "e94943846afb14ad"
  },
  {
   "cell_type": "code",
   "execution_count": 18,
   "id": "9d26aec7b4e97407",
   "metadata": {
    "collapsed": false,
    "ExecuteTime": {
     "end_time": "2023-10-25T17:22:30.711870Z",
     "start_time": "2023-10-25T17:22:30.699303Z"
    }
   },
   "outputs": [
    {
     "data": {
      "text/plain": "'\\n1., Olvasd be a data mappa sp500.parquet nevű fájlját egy DataFrame-be. A betöltéshez használt engine paramétere legyen fastparquet\\n'"
     },
     "execution_count": 18,
     "metadata": {},
     "output_type": "execute_result"
    }
   ],
   "source": [
    "\"\"\"\n",
    "1., Olvasd be a data mappa sp500.parquet nevű fájlját egy DataFrame-be. A betöltéshez használt engine paramétere legyen fastparquet\n",
    "\"\"\""
   ]
  },
  {
   "cell_type": "code",
   "execution_count": 30,
   "outputs": [
    {
     "data": {
      "text/plain": "           Symbol  Monthly Returns\nDate                              \n2000-02-29      A         0.569405\n2000-03-31      A         0.001203\n2000-05-31      A        -0.169252\n2000-06-30      A         0.001698\n2000-07-31      A        -0.447458",
      "text/html": "<div>\n<style scoped>\n    .dataframe tbody tr th:only-of-type {\n        vertical-align: middle;\n    }\n\n    .dataframe tbody tr th {\n        vertical-align: top;\n    }\n\n    .dataframe thead th {\n        text-align: right;\n    }\n</style>\n<table border=\"1\" class=\"dataframe\">\n  <thead>\n    <tr style=\"text-align: right;\">\n      <th></th>\n      <th>Symbol</th>\n      <th>Monthly Returns</th>\n    </tr>\n    <tr>\n      <th>Date</th>\n      <th></th>\n      <th></th>\n    </tr>\n  </thead>\n  <tbody>\n    <tr>\n      <th>2000-02-29</th>\n      <td>A</td>\n      <td>0.569405</td>\n    </tr>\n    <tr>\n      <th>2000-03-31</th>\n      <td>A</td>\n      <td>0.001203</td>\n    </tr>\n    <tr>\n      <th>2000-05-31</th>\n      <td>A</td>\n      <td>-0.169252</td>\n    </tr>\n    <tr>\n      <th>2000-06-30</th>\n      <td>A</td>\n      <td>0.001698</td>\n    </tr>\n    <tr>\n      <th>2000-07-31</th>\n      <td>A</td>\n      <td>-0.447458</td>\n    </tr>\n  </tbody>\n</table>\n</div>"
     },
     "execution_count": 30,
     "metadata": {},
     "output_type": "execute_result"
    }
   ],
   "source": [
    "sp500=pd.read_parquet('../data/sp500.parquet')\n",
    "sp500.head()"
   ],
   "metadata": {
    "collapsed": false,
    "ExecuteTime": {
     "end_time": "2023-10-25T17:28:06.700109Z",
     "start_time": "2023-10-25T17:28:06.672076Z"
    }
   },
   "id": "43f685fc4780d23a"
  },
  {
   "cell_type": "code",
   "execution_count": null,
   "outputs": [],
   "source": [
    "\"\"\"\n",
    "2., Olvasd be az ff_factors.parquet fájlt egy DataFrame-be. A betöltéshez használt engine paramétere legyen fastparquet\n",
    "\"\"\""
   ],
   "metadata": {
    "collapsed": false
   },
   "id": "d42ee754b557dcef"
  },
  {
   "cell_type": "code",
   "execution_count": 31,
   "outputs": [
    {
     "data": {
      "text/plain": "            Mkt-RF     SMB     HML     RF\nDate                                     \n1926-07-31  0.0296 -0.0256 -0.0243  0.022\n1926-08-31  0.0264 -0.0117  0.0382  0.025\n1926-09-30  0.0036 -0.0140  0.0013  0.023\n1926-10-31 -0.0324 -0.0009  0.0070  0.032\n1926-11-30  0.0253 -0.0010 -0.0051  0.031",
      "text/html": "<div>\n<style scoped>\n    .dataframe tbody tr th:only-of-type {\n        vertical-align: middle;\n    }\n\n    .dataframe tbody tr th {\n        vertical-align: top;\n    }\n\n    .dataframe thead th {\n        text-align: right;\n    }\n</style>\n<table border=\"1\" class=\"dataframe\">\n  <thead>\n    <tr style=\"text-align: right;\">\n      <th></th>\n      <th>Mkt-RF</th>\n      <th>SMB</th>\n      <th>HML</th>\n      <th>RF</th>\n    </tr>\n    <tr>\n      <th>Date</th>\n      <th></th>\n      <th></th>\n      <th></th>\n      <th></th>\n    </tr>\n  </thead>\n  <tbody>\n    <tr>\n      <th>1926-07-31</th>\n      <td>0.0296</td>\n      <td>-0.0256</td>\n      <td>-0.0243</td>\n      <td>0.022</td>\n    </tr>\n    <tr>\n      <th>1926-08-31</th>\n      <td>0.0264</td>\n      <td>-0.0117</td>\n      <td>0.0382</td>\n      <td>0.025</td>\n    </tr>\n    <tr>\n      <th>1926-09-30</th>\n      <td>0.0036</td>\n      <td>-0.0140</td>\n      <td>0.0013</td>\n      <td>0.023</td>\n    </tr>\n    <tr>\n      <th>1926-10-31</th>\n      <td>-0.0324</td>\n      <td>-0.0009</td>\n      <td>0.0070</td>\n      <td>0.032</td>\n    </tr>\n    <tr>\n      <th>1926-11-30</th>\n      <td>0.0253</td>\n      <td>-0.0010</td>\n      <td>-0.0051</td>\n      <td>0.031</td>\n    </tr>\n  </tbody>\n</table>\n</div>"
     },
     "execution_count": 31,
     "metadata": {},
     "output_type": "execute_result"
    }
   ],
   "source": [
    "ff_factors=pd.read_parquet('../data/ff_factors.parquet')\n",
    "ff_factors.head()"
   ],
   "metadata": {
    "collapsed": false,
    "ExecuteTime": {
     "end_time": "2023-10-25T17:28:21.525916Z",
     "start_time": "2023-10-25T17:28:21.506260Z"
    }
   },
   "id": "c757103536fa82f7"
  },
  {
   "cell_type": "code",
   "execution_count": null,
   "id": "b79c977da040d844",
   "metadata": {
    "collapsed": false
   },
   "outputs": [],
   "source": [
    "\"\"\"\n",
    "3., Kapcsold össze a két DataFrame-t egy új DataFrame-be. Az összekapcsolás módja, hogy a hozam adatokra balról kapcsoljuk rá a factor adatokat a 'Date' elsődleges kulcs alapján.\n",
    "\"\"\""
   ]
  },
  {
   "cell_type": "code",
   "execution_count": 35,
   "outputs": [
    {
     "data": {
      "text/plain": "           Symbol  Monthly Returns  Mkt-RF     SMB     HML     RF\nDate                                                             \n2000-02-29      A         0.569405  0.0245  0.2136 -0.0959  0.043\n2000-03-31      A         0.001203  0.0520 -0.1720  0.0813  0.047\n2000-05-31      A        -0.169252 -0.0442 -0.0605  0.0475  0.050\n2000-06-30      A         0.001698  0.0464  0.1284 -0.0842  0.040\n2000-07-31      A        -0.447458 -0.0251 -0.0307  0.0831  0.048",
      "text/html": "<div>\n<style scoped>\n    .dataframe tbody tr th:only-of-type {\n        vertical-align: middle;\n    }\n\n    .dataframe tbody tr th {\n        vertical-align: top;\n    }\n\n    .dataframe thead th {\n        text-align: right;\n    }\n</style>\n<table border=\"1\" class=\"dataframe\">\n  <thead>\n    <tr style=\"text-align: right;\">\n      <th></th>\n      <th>Symbol</th>\n      <th>Monthly Returns</th>\n      <th>Mkt-RF</th>\n      <th>SMB</th>\n      <th>HML</th>\n      <th>RF</th>\n    </tr>\n    <tr>\n      <th>Date</th>\n      <th></th>\n      <th></th>\n      <th></th>\n      <th></th>\n      <th></th>\n      <th></th>\n    </tr>\n  </thead>\n  <tbody>\n    <tr>\n      <th>2000-02-29</th>\n      <td>A</td>\n      <td>0.569405</td>\n      <td>0.0245</td>\n      <td>0.2136</td>\n      <td>-0.0959</td>\n      <td>0.043</td>\n    </tr>\n    <tr>\n      <th>2000-03-31</th>\n      <td>A</td>\n      <td>0.001203</td>\n      <td>0.0520</td>\n      <td>-0.1720</td>\n      <td>0.0813</td>\n      <td>0.047</td>\n    </tr>\n    <tr>\n      <th>2000-05-31</th>\n      <td>A</td>\n      <td>-0.169252</td>\n      <td>-0.0442</td>\n      <td>-0.0605</td>\n      <td>0.0475</td>\n      <td>0.050</td>\n    </tr>\n    <tr>\n      <th>2000-06-30</th>\n      <td>A</td>\n      <td>0.001698</td>\n      <td>0.0464</td>\n      <td>0.1284</td>\n      <td>-0.0842</td>\n      <td>0.040</td>\n    </tr>\n    <tr>\n      <th>2000-07-31</th>\n      <td>A</td>\n      <td>-0.447458</td>\n      <td>-0.0251</td>\n      <td>-0.0307</td>\n      <td>0.0831</td>\n      <td>0.048</td>\n    </tr>\n  </tbody>\n</table>\n</div>"
     },
     "execution_count": 35,
     "metadata": {},
     "output_type": "execute_result"
    }
   ],
   "source": [
    "data=pd.merge(sp500, ff_factors, on='Date', how='left')\n",
    "data.head()"
   ],
   "metadata": {
    "collapsed": false,
    "ExecuteTime": {
     "end_time": "2023-10-25T17:30:54.394408Z",
     "start_time": "2023-10-25T17:30:54.378086Z"
    }
   },
   "id": "7155c302ee1fcb78"
  },
  {
   "cell_type": "markdown",
   "source": [
    "![Joined data](../resources/weekly6/joined_data.jpg)"
   ],
   "metadata": {
    "collapsed": false
   },
   "id": "cf54c6765186a23e"
  },
  {
   "cell_type": "code",
   "execution_count": null,
   "outputs": [],
   "source": [],
   "metadata": {
    "collapsed": false
   },
   "id": "34bc40351687c32"
  },
  {
   "cell_type": "code",
   "execution_count": null,
   "id": "dd10fafbf699543d",
   "metadata": {
    "collapsed": false
   },
   "outputs": [],
   "source": [
    "\"\"\"\n",
    "4., Készíts egy új 'Excess Return' nevű oszlopot, ami a havi hozamok és a kockázat mentes hozam (RF) különbsége\n",
    "\"\"\""
   ]
  },
  {
   "cell_type": "code",
   "execution_count": 36,
   "outputs": [
    {
     "data": {
      "text/plain": "           Symbol  Monthly Returns  Mkt-RF     SMB     HML     RF  \\\nDate                                                                \n2000-02-29      A         0.569405  0.0245  0.2136 -0.0959  0.043   \n2000-03-31      A         0.001203  0.0520 -0.1720  0.0813  0.047   \n2000-05-31      A        -0.169252 -0.0442 -0.0605  0.0475  0.050   \n2000-06-30      A         0.001698  0.0464  0.1284 -0.0842  0.040   \n2000-07-31      A        -0.447458 -0.0251 -0.0307  0.0831  0.048   \n\n            Excess Return  \nDate                       \n2000-02-29       0.526405  \n2000-03-31      -0.045797  \n2000-05-31      -0.219252  \n2000-06-30      -0.038302  \n2000-07-31      -0.495458  ",
      "text/html": "<div>\n<style scoped>\n    .dataframe tbody tr th:only-of-type {\n        vertical-align: middle;\n    }\n\n    .dataframe tbody tr th {\n        vertical-align: top;\n    }\n\n    .dataframe thead th {\n        text-align: right;\n    }\n</style>\n<table border=\"1\" class=\"dataframe\">\n  <thead>\n    <tr style=\"text-align: right;\">\n      <th></th>\n      <th>Symbol</th>\n      <th>Monthly Returns</th>\n      <th>Mkt-RF</th>\n      <th>SMB</th>\n      <th>HML</th>\n      <th>RF</th>\n      <th>Excess Return</th>\n    </tr>\n    <tr>\n      <th>Date</th>\n      <th></th>\n      <th></th>\n      <th></th>\n      <th></th>\n      <th></th>\n      <th></th>\n      <th></th>\n    </tr>\n  </thead>\n  <tbody>\n    <tr>\n      <th>2000-02-29</th>\n      <td>A</td>\n      <td>0.569405</td>\n      <td>0.0245</td>\n      <td>0.2136</td>\n      <td>-0.0959</td>\n      <td>0.043</td>\n      <td>0.526405</td>\n    </tr>\n    <tr>\n      <th>2000-03-31</th>\n      <td>A</td>\n      <td>0.001203</td>\n      <td>0.0520</td>\n      <td>-0.1720</td>\n      <td>0.0813</td>\n      <td>0.047</td>\n      <td>-0.045797</td>\n    </tr>\n    <tr>\n      <th>2000-05-31</th>\n      <td>A</td>\n      <td>-0.169252</td>\n      <td>-0.0442</td>\n      <td>-0.0605</td>\n      <td>0.0475</td>\n      <td>0.050</td>\n      <td>-0.219252</td>\n    </tr>\n    <tr>\n      <th>2000-06-30</th>\n      <td>A</td>\n      <td>0.001698</td>\n      <td>0.0464</td>\n      <td>0.1284</td>\n      <td>-0.0842</td>\n      <td>0.040</td>\n      <td>-0.038302</td>\n    </tr>\n    <tr>\n      <th>2000-07-31</th>\n      <td>A</td>\n      <td>-0.447458</td>\n      <td>-0.0251</td>\n      <td>-0.0307</td>\n      <td>0.0831</td>\n      <td>0.048</td>\n      <td>-0.495458</td>\n    </tr>\n  </tbody>\n</table>\n</div>"
     },
     "execution_count": 36,
     "metadata": {},
     "output_type": "execute_result"
    }
   ],
   "source": [
    "data['Excess Return']=data['Monthly Returns'] - data['RF']\n",
    "data.head()"
   ],
   "metadata": {
    "collapsed": false,
    "ExecuteTime": {
     "end_time": "2023-10-25T17:31:30.894348Z",
     "start_time": "2023-10-25T17:31:30.884370Z"
    }
   },
   "id": "fdc8822a72cb19f6"
  },
  {
   "cell_type": "code",
   "execution_count": null,
   "outputs": [],
   "source": [
    "\"\"\"\n",
    "5., Rendezd sorba dátum szerint az adatokat, majd generálj egy új oszlopot ('ex_ret_1'), amely minden ticker ('Symbol') esetén 1-el eltolja az Excess Return értékeit olyan módon, hogy minden sorban szerepeljen a következő időszaki Excess Return érték. \n",
    "\"\"\""
   ],
   "metadata": {
    "collapsed": false
   },
   "id": "c6af93a4a3c53398"
  },
  {
   "cell_type": "markdown",
   "source": [
    "![new column](../resources/weekly6/ex_ret_1.jpg)"
   ],
   "metadata": {
    "collapsed": false
   },
   "id": "a6be746933376572"
  },
  {
   "cell_type": "code",
   "execution_count": 58,
   "outputs": [
    {
     "data": {
      "text/plain": "           Symbol  Monthly Returns  Mkt-RF     SMB     HML     RF  \\\nDate                                                                \n2000-02-29      A         0.569405  0.0245  0.2136 -0.0959  0.043   \n2000-03-31      A         0.001203  0.0520 -0.1720  0.0813  0.047   \n2000-05-31      A        -0.169252 -0.0442 -0.0605  0.0475  0.050   \n2000-06-30      A         0.001698  0.0464  0.1284 -0.0842  0.040   \n2000-07-31      A        -0.447458 -0.0251 -0.0307  0.0831  0.048   \n\n            Excess Return  ex_ret_1  \nDate                                 \n2000-02-29       0.526405 -0.045797  \n2000-03-31      -0.045797 -0.219252  \n2000-05-31      -0.219252 -0.038302  \n2000-06-30      -0.038302 -0.495458  \n2000-07-31      -0.495458  0.446933  ",
      "text/html": "<div>\n<style scoped>\n    .dataframe tbody tr th:only-of-type {\n        vertical-align: middle;\n    }\n\n    .dataframe tbody tr th {\n        vertical-align: top;\n    }\n\n    .dataframe thead th {\n        text-align: right;\n    }\n</style>\n<table border=\"1\" class=\"dataframe\">\n  <thead>\n    <tr style=\"text-align: right;\">\n      <th></th>\n      <th>Symbol</th>\n      <th>Monthly Returns</th>\n      <th>Mkt-RF</th>\n      <th>SMB</th>\n      <th>HML</th>\n      <th>RF</th>\n      <th>Excess Return</th>\n      <th>ex_ret_1</th>\n    </tr>\n    <tr>\n      <th>Date</th>\n      <th></th>\n      <th></th>\n      <th></th>\n      <th></th>\n      <th></th>\n      <th></th>\n      <th></th>\n      <th></th>\n    </tr>\n  </thead>\n  <tbody>\n    <tr>\n      <th>2000-02-29</th>\n      <td>A</td>\n      <td>0.569405</td>\n      <td>0.0245</td>\n      <td>0.2136</td>\n      <td>-0.0959</td>\n      <td>0.043</td>\n      <td>0.526405</td>\n      <td>-0.045797</td>\n    </tr>\n    <tr>\n      <th>2000-03-31</th>\n      <td>A</td>\n      <td>0.001203</td>\n      <td>0.0520</td>\n      <td>-0.1720</td>\n      <td>0.0813</td>\n      <td>0.047</td>\n      <td>-0.045797</td>\n      <td>-0.219252</td>\n    </tr>\n    <tr>\n      <th>2000-05-31</th>\n      <td>A</td>\n      <td>-0.169252</td>\n      <td>-0.0442</td>\n      <td>-0.0605</td>\n      <td>0.0475</td>\n      <td>0.050</td>\n      <td>-0.219252</td>\n      <td>-0.038302</td>\n    </tr>\n    <tr>\n      <th>2000-06-30</th>\n      <td>A</td>\n      <td>0.001698</td>\n      <td>0.0464</td>\n      <td>0.1284</td>\n      <td>-0.0842</td>\n      <td>0.040</td>\n      <td>-0.038302</td>\n      <td>-0.495458</td>\n    </tr>\n    <tr>\n      <th>2000-07-31</th>\n      <td>A</td>\n      <td>-0.447458</td>\n      <td>-0.0251</td>\n      <td>-0.0307</td>\n      <td>0.0831</td>\n      <td>0.048</td>\n      <td>-0.495458</td>\n      <td>0.446933</td>\n    </tr>\n  </tbody>\n</table>\n</div>"
     },
     "execution_count": 58,
     "metadata": {},
     "output_type": "execute_result"
    }
   ],
   "source": [
    "data.sort_index(inplace=True)\n",
    "data.head()\n",
    "data['ex_ret_1']=data.groupby('Symbol')['Excess Return'].shift(-1)\n",
    "data.sort_values(['Symbol', 'Date'], ascending=[True, True], inplace=True)\n",
    "data.head()"
   ],
   "metadata": {
    "collapsed": false,
    "ExecuteTime": {
     "end_time": "2023-10-25T17:44:23.860629Z",
     "start_time": "2023-10-25T17:44:23.811277Z"
    }
   },
   "id": "2285003630c207d3"
  },
  {
   "cell_type": "code",
   "execution_count": 59,
   "id": "30fd1aa0c59afb47",
   "metadata": {
    "collapsed": false,
    "ExecuteTime": {
     "end_time": "2023-10-25T17:44:24.475096Z",
     "start_time": "2023-10-25T17:44:24.471645Z"
    }
   },
   "outputs": [
    {
     "data": {
      "text/plain": "\"\\n6., A meglévő adathalmazt írd felül olyan módon, hogy egyszer törlöd az össze olyan sort, amely az 'ex_ret_1' oszlopban hiányos, majd ezt követően, törlöd az összes olyan sort, ami a 'HML' oszlopban hiányos\\n\""
     },
     "execution_count": 59,
     "metadata": {},
     "output_type": "execute_result"
    }
   ],
   "source": [
    "\"\"\"\n",
    "6., A meglévő adathalmazt írd felül olyan módon, hogy egyszer törlöd az össze olyan sort, amely az 'ex_ret_1' oszlopban hiányos, majd ezt követően, törlöd az összes olyan sort, ami a 'HML' oszlopban hiányos\n",
    "\"\"\""
   ]
  },
  {
   "cell_type": "code",
   "execution_count": 62,
   "outputs": [
    {
     "name": "stdout",
     "output_type": "stream",
     "text": [
      "<class 'pandas.core.frame.DataFrame'>\n",
      "DatetimeIndex: 86113 entries, 2000-02-29 to 2022-10-31\n",
      "Data columns (total 8 columns):\n",
      " #   Column           Non-Null Count  Dtype  \n",
      "---  ------           --------------  -----  \n",
      " 0   Symbol           86113 non-null  object \n",
      " 1   Monthly Returns  86113 non-null  float64\n",
      " 2   Mkt-RF           86113 non-null  float64\n",
      " 3   SMB              86113 non-null  float64\n",
      " 4   HML              86113 non-null  float64\n",
      " 5   RF               86113 non-null  float64\n",
      " 6   Excess Return    86113 non-null  float64\n",
      " 7   ex_ret_1         86113 non-null  float64\n",
      "dtypes: float64(7), object(1)\n",
      "memory usage: 5.9+ MB\n"
     ]
    }
   ],
   "source": [
    "data.dropna(subset=['ex_ret_1'], inplace=True)\n",
    "data.dropna(subset=['HML'], inplace=True)\n",
    "data.info()"
   ],
   "metadata": {
    "collapsed": false,
    "ExecuteTime": {
     "end_time": "2023-10-25T17:45:43.484713Z",
     "start_time": "2023-10-25T17:45:43.453232Z"
    }
   },
   "id": "f333cdfad16d315f"
  },
  {
   "cell_type": "code",
   "execution_count": null,
   "id": "4637c401e0e6352c",
   "metadata": {
    "collapsed": false
   },
   "outputs": [],
   "source": [
    "\"\"\"\n",
    "A meglévő adatokból válaszd ki a Amazon részvényhez tartozó sorokat (AMZN) és töröld a tickereket tartalmazó oszlopot\n",
    "\n",
    "7., Készíts egy új LinearRegressionSM elnevezésű osztályt. Definiáld benne a __init__ nevű függvényt, amely bemenetként 2 DataDrame-t kap amelyeket ments le a left_hand_side és right_hand_side elnevezésű változókba. Az egyik DataFrame fogja tartalmazni a következő hónap többlet hozamait (left_hand_side), a másik a piaci hozamokat (Mkt-RF), az SMB és a HML értékeket (right_hand_side).\n",
    "\n",
    "8., Egésztsd ki az osztályt egy fit metódussal, ami meghívja a statsmodels segítségével OLS alapon becsült modellt illeszt az osztály adattagjaira. A becslésből visszakapott modellt mentse le az osztály _model adattagjába. Figyelj oda, hogy a regresszió futtatása során konstans (alfa / béta_0) is szerepeljen a predictor változók között.\n",
    "\n",
    "9., Egészítsd ki az osztályt egy get_params metódussal, ami visszaadja a becsült modellt béta paramétereinek értékeit. A visszakapott pandas Series típusú adatban az oszlop neve legyen 'Beta coefficients'\n",
    "\n",
    "10., Egészítsd ki az osztályt egy get_pvalues metódussal, ami visszaadja a becsült modell paraméterekhez tartozó p értékeket. A visszakapott pandas Series típusú adatban az oszlop neve legyen: P-values for the corresponding coefficients\n",
    "\n",
    "11., Egészítsd ki az osztályt egy get_wald_test_result metódussal, ami visszaadja a bemeneti restrikciós mátrix alapján számolt F és p értékeket. A visszatérési típus string legyen, a visszaadandó szöveg: F-value: fvalue, p-value: pvalue, ahol az fvalue és pvalue helyére 3 tizedesjegyre kerekítve adja meg a hozzájuk tartozó értékeket.\n",
    "\n",
    "12., Egészítse ki az osztályt egy get_model_goodness_values metódussal, ami visszadja a módosított R-négyzet, az Akaike és a Bayes információs kritériumok értékét. A visszatérési típus string legyen, a visszaadandó szöveg: Adjusted R-squared: ars, Akaike IC: ak, Bayes IC: by, ahol ars, ak és by helyére 3 tizedesjegyre kerekítve adja meg a hozzájuk tartozó értékeket.\n",
    "\n",
    "A létrehozott osztályt és a hozzátartozó metódusokat mentsd le a src.linear_regression mappába, a LinearRegressions.py fájlba.\n",
    "\"\"\""
   ]
  },
  {
   "cell_type": "code",
   "execution_count": 67,
   "outputs": [
    {
     "data": {
      "text/plain": "            Monthly Returns  Mkt-RF     SMB     HML     RF  Excess Return  \\\nDate                                                                        \n2000-01-31        -0.984367 -0.0474  0.0577 -0.0188  0.041      -1.025367   \n2000-02-29         0.066796  0.0245  0.2136 -0.0959  0.043       0.023796   \n2000-03-31        -0.027223  0.0520 -0.1720  0.0813  0.047      -0.074223   \n2000-05-31        -0.124575 -0.0442 -0.0605  0.0475  0.050      -0.174575   \n2000-06-30        -0.248383  0.0464  0.1284 -0.0842  0.040      -0.288383   \n\n            ex_ret_1  \nDate                  \n2000-01-31  0.023796  \n2000-02-29 -0.074223  \n2000-03-31 -0.174575  \n2000-05-31 -0.288383  \n2000-06-30 -0.218396  ",
      "text/html": "<div>\n<style scoped>\n    .dataframe tbody tr th:only-of-type {\n        vertical-align: middle;\n    }\n\n    .dataframe tbody tr th {\n        vertical-align: top;\n    }\n\n    .dataframe thead th {\n        text-align: right;\n    }\n</style>\n<table border=\"1\" class=\"dataframe\">\n  <thead>\n    <tr style=\"text-align: right;\">\n      <th></th>\n      <th>Monthly Returns</th>\n      <th>Mkt-RF</th>\n      <th>SMB</th>\n      <th>HML</th>\n      <th>RF</th>\n      <th>Excess Return</th>\n      <th>ex_ret_1</th>\n    </tr>\n    <tr>\n      <th>Date</th>\n      <th></th>\n      <th></th>\n      <th></th>\n      <th></th>\n      <th></th>\n      <th></th>\n      <th></th>\n    </tr>\n  </thead>\n  <tbody>\n    <tr>\n      <th>2000-01-31</th>\n      <td>-0.984367</td>\n      <td>-0.0474</td>\n      <td>0.0577</td>\n      <td>-0.0188</td>\n      <td>0.041</td>\n      <td>-1.025367</td>\n      <td>0.023796</td>\n    </tr>\n    <tr>\n      <th>2000-02-29</th>\n      <td>0.066796</td>\n      <td>0.0245</td>\n      <td>0.2136</td>\n      <td>-0.0959</td>\n      <td>0.043</td>\n      <td>0.023796</td>\n      <td>-0.074223</td>\n    </tr>\n    <tr>\n      <th>2000-03-31</th>\n      <td>-0.027223</td>\n      <td>0.0520</td>\n      <td>-0.1720</td>\n      <td>0.0813</td>\n      <td>0.047</td>\n      <td>-0.074223</td>\n      <td>-0.174575</td>\n    </tr>\n    <tr>\n      <th>2000-05-31</th>\n      <td>-0.124575</td>\n      <td>-0.0442</td>\n      <td>-0.0605</td>\n      <td>0.0475</td>\n      <td>0.050</td>\n      <td>-0.174575</td>\n      <td>-0.288383</td>\n    </tr>\n    <tr>\n      <th>2000-06-30</th>\n      <td>-0.248383</td>\n      <td>0.0464</td>\n      <td>0.1284</td>\n      <td>-0.0842</td>\n      <td>0.040</td>\n      <td>-0.288383</td>\n      <td>-0.218396</td>\n    </tr>\n  </tbody>\n</table>\n</div>"
     },
     "execution_count": 67,
     "metadata": {},
     "output_type": "execute_result"
    }
   ],
   "source": [
    "data=data[data['Symbol']=='AMZN']\n",
    "data.drop(columns=['Symbol'], inplace=True)\n",
    "data.head()"
   ],
   "metadata": {
    "collapsed": false,
    "ExecuteTime": {
     "end_time": "2023-10-25T17:49:36.671531Z",
     "start_time": "2023-10-25T17:49:36.658459Z"
    }
   },
   "id": "632e9b84be1a75ef"
  },
  {
   "cell_type": "code",
   "execution_count": 65,
   "outputs": [],
   "source": [
    "import statsmodels.api as sm\n",
    "\n",
    "class LinearRegressionSM:\n",
    "    def __init__(self, left_hand_side, right_hand_side):\n",
    "        self.left_hand_side = left_hand_side\n",
    "        self.right_hand_side = right_hand_side\n",
    "        self._model = None\n",
    "\n",
    "    def fit(self):\n",
    "        X = sm.add_constant(self.right_hand_side)\n",
    "        model = sm.OLS(self.left_hand_side, X).fit()\n",
    "        self._model = model\n",
    "\n",
    "    def get_params(self):\n",
    "        beta_coefficients = self._model.params\n",
    "        return pd.Series(beta_coefficients, name='Beta coefficients')\n",
    "\n",
    "    def get_pvalues(self):\n",
    "        p_values = self._model.pvalues\n",
    "        return pd.Series(p_values, name='P-values for the corresponding coefficients')\n",
    "\n",
    "        def get_wald_test_result(self, constraints):\n",
    "        wald_test = self._model.wald_test(constraints)\n",
    "        f_value = float(wald_test.statistic)\n",
    "        p_value = float(wald_test.pvalue)\n",
    "        return f'F-value: {f_value:.3f}, p-value: {p_value:.3f}'\n",
    "\n",
    "    def get_model_goodness_values(self):\n",
    "        adjusted_r_squared = self._model.rsquared_adj\n",
    "        aic = self._model.aic\n",
    "        bic = self._model.bic\n",
    "        return f'Adjusted R-squared: {adjusted_r_squared:.3f}, Akaike IC: {aic:.3f}, Bayes IC: {bic:.3f}'\n",
    "\n",
    "    "
   ],
   "metadata": {
    "collapsed": false,
    "ExecuteTime": {
     "end_time": "2023-10-25T17:48:52.524790Z",
     "start_time": "2023-10-25T17:48:52.509282Z"
    }
   },
   "id": "404177f28853de31"
  },
  {
   "cell_type": "code",
   "execution_count": 68,
   "outputs": [
    {
     "data": {
      "text/plain": "1.33"
     },
     "execution_count": 68,
     "metadata": {},
     "output_type": "execute_result"
    }
   ],
   "source": [
    "round(1.333, 2)"
   ],
   "metadata": {
    "collapsed": false,
    "ExecuteTime": {
     "end_time": "2023-10-25T18:01:55.395815Z",
     "start_time": "2023-10-25T18:01:55.386885Z"
    }
   },
   "id": "d8b2a6052b6d9fbf"
  },
  {
   "cell_type": "code",
   "execution_count": null,
   "outputs": [],
   "source": [],
   "metadata": {
    "collapsed": false
   },
   "id": "2af51b1a85594c7c"
  }
 ],
 "metadata": {
  "kernelspec": {
   "display_name": "Python 3 (ipykernel)",
   "language": "python",
   "name": "python3"
  },
  "language_info": {
   "codemirror_mode": {
    "name": "ipython",
    "version": 3
   },
   "file_extension": ".py",
   "mimetype": "text/x-python",
   "name": "python",
   "nbconvert_exporter": "python",
   "pygments_lexer": "ipython3",
   "version": "3.10.4"
  }
 },
 "nbformat": 4,
 "nbformat_minor": 5
}
