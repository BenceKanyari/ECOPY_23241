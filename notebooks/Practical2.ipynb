{
 "cells": [
  {
   "cell_type": "markdown",
   "source": [
    "## A feladatok megoldása során csak a random, typing, math és pyerf modulok importálása elfogadott"
   ],
   "metadata": {
    "collapsed": false
   },
   "id": "d505d83ecd86220f"
  },
  {
   "cell_type": "markdown",
   "source": [
    "### A véletlenszám generálással kapcsolatos feladatok megoldását mentse src/utils modul-ba a **rand_wrappers.py** nevű fájlba"
   ],
   "metadata": {
    "collapsed": false
   },
   "id": "ea5dd5c989562edd"
  },
  {
   "cell_type": "markdown",
   "source": [
    "#### I. Véletlenszám generálás"
   ],
   "metadata": {
    "collapsed": false
   },
   "id": "2b075b97100da4f5"
  },
  {
   "cell_type": "code",
   "execution_count": 1,
   "outputs": [],
   "source": [
    "\"\"\"\n",
    "0. Importáld a random modult\n",
    "\"\"\"\n"
   ],
   "metadata": {
    "collapsed": false,
    "ExecuteTime": {
     "end_time": "2023-09-23T11:09:05.745005Z",
     "start_time": "2023-09-23T11:09:05.741086Z"
    }
   },
   "id": "cbd02be6fcc0366a"
  },
  {
   "cell_type": "code",
   "execution_count": 79,
   "outputs": [
    {
     "data": {
      "text/plain": "[1.8559096704220717,\n 1.8270963996684806,\n 1.8886841384323376,\n 2.701983725098863,\n 1.872411716217113,\n 0.5026465856590425,\n 2.332318344067715,\n 1.7326625215028317,\n 1.783041315854805,\n 2.115884786700855,\n 2.232297736906721,\n 3.163558686599143,\n 2.656636506798669,\n 2.1105071774438318,\n 1.2616783976551793,\n 0.9853376325122829,\n 2.246342195211202,\n 3.311080827204048,\n 2.041656863903384,\n 1.8936767062292157,\n 2.5317762204008694,\n 0.546454701991322,\n 1.6877226828554401,\n 2.4903625325935246,\n 2.873404385379447,\n 1.7593703273448646,\n 2.3765998586879102,\n 2.2482134493284143,\n 2.782326808703642,\n 0.8867777857518273,\n 2.568250687585386,\n 0.48547960827486025,\n -0.6199454222188518,\n 1.3931092718004974,\n 1.0841899536540052,\n 2.8760122430564063,\n 2.6642658996128947,\n 0.7809252587043047,\n 2.8473614233480005,\n 0.9977971757576503,\n 1.9137561536637158,\n 1.7061002220434678,\n 2.114419857460921,\n 2.818636311543767,\n 2.6384137907924434,\n 2.3498851018692086,\n 2.6499480978062984,\n 2.4784920376501183,\n 1.3730145347804,\n 1.2826289061834226,\n 1.5300317258639862,\n 2.4993264004767815,\n 1.7498844290026159,\n 4.335754222480547,\n 1.1807074578135066,\n 0.9011254000978417,\n 2.7684735154696964,\n 3.4218499813434655,\n 2.50569269083926,\n 2.835817345967673,\n 3.426344977442162,\n 1.9059725239836962,\n 0.5770410668610229,\n 1.4679234516812874,\n 2.9528957573165764,\n 0.5563215939217119,\n 2.033531320787261,\n 2.253237359342062,\n 1.6844078351863294,\n 2.7236319863680967,\n 2.580779741526566,\n 4.321408516900731,\n 2.6199677677731357,\n 1.3905965413569379,\n 1.4382024076659694,\n 1.1684188987579933,\n 2.9522735598158207,\n 1.433167165186299,\n 1.9297392262994024,\n 2.7493026192896752,\n 1.2765370093485933,\n 1.7063420363822814,\n 0.15871373439608405,\n 0.9175213809612868,\n 1.4322635878081502,\n 2.4157609885166718,\n 3.1934932724432974,\n 1.9815331868362884,\n 2.2613642791998028,\n 2.167969368547232,\n 3.084741113453604,\n 2.8933551987382065,\n 2.2736933154075425,\n 0.9890556965546882,\n 2.903385314344595,\n 2.3810471279557524,\n 3.22694154971422,\n 1.9700934073187866,\n 3.953100924483846,\n 1.6411236596781773,\n 3.593060414263043,\n 2.115118972607233,\n 1.4837309907544973,\n 0.8715521272076046]"
     },
     "execution_count": 79,
     "metadata": {},
     "output_type": "execute_result"
    }
   ],
   "source": [
    "import random"
   ],
   "metadata": {
    "collapsed": false,
    "ExecuteTime": {
     "end_time": "2023-09-25T15:08:14.404694Z",
     "start_time": "2023-09-25T15:08:14.358575Z"
    }
   },
   "id": "293149d5d3d7699c"
  },
  {
   "cell_type": "code",
   "execution_count": null,
   "outputs": [],
   "source": [
    "\"\"\"\n",
    " 1., Hívd meg a random szám generátort, és generálj egy 0 és 1 közötti véletlen számot\n",
    "\"\"\""
   ],
   "metadata": {
    "collapsed": false
   },
   "id": "eb4ecd4b7ce19422"
  },
  {
   "cell_type": "code",
   "execution_count": 2,
   "outputs": [
    {
     "name": "stdout",
     "output_type": "stream",
     "text": [
      "0.9677452944510946\n"
     ]
    }
   ],
   "source": [
    "print(random.random())"
   ],
   "metadata": {
    "collapsed": false,
    "ExecuteTime": {
     "end_time": "2023-09-23T11:09:19.276678Z",
     "start_time": "2023-09-23T11:09:19.238879Z"
    }
   },
   "id": "43b12980ba15149a"
  },
  {
   "cell_type": "code",
   "execution_count": null,
   "outputs": [],
   "source": [
    "\"\"\"\n",
    "2., Generálj 1 és 100 közötti egész véletlen számokat\n",
    "\"\"\""
   ],
   "metadata": {
    "collapsed": false
   },
   "id": "2256690fb4b1ec52"
  },
  {
   "cell_type": "code",
   "execution_count": 5,
   "outputs": [
    {
     "name": "stdout",
     "output_type": "stream",
     "text": [
      "52\n"
     ]
    }
   ],
   "source": [
    "print(random.randint(1,100))"
   ],
   "metadata": {
    "collapsed": false,
    "ExecuteTime": {
     "end_time": "2023-09-23T15:59:53.954662Z",
     "start_time": "2023-09-23T15:59:53.921153Z"
    }
   },
   "id": "a06c7bcdb2f0479c"
  },
  {
   "cell_type": "code",
   "execution_count": null,
   "outputs": [],
   "source": [
    "\"\"\"\n",
    "3. Generálj 1 és 100 közötti véletlen egész számot, olyan módon, hogy a random seed értéke 42 legyen\n",
    "\"\"\""
   ],
   "metadata": {
    "collapsed": false
   },
   "id": "2619e1f9970a541"
  },
  {
   "cell_type": "code",
   "execution_count": 19,
   "outputs": [
    {
     "name": "stdout",
     "output_type": "stream",
     "text": [
      "82\n"
     ]
    }
   ],
   "source": [
    "random.seed(42)\n",
    "print(random.randint(1,100))"
   ],
   "metadata": {
    "collapsed": false,
    "ExecuteTime": {
     "end_time": "2023-09-23T16:18:59.391972Z",
     "start_time": "2023-09-23T16:18:59.353195Z"
    }
   },
   "id": "32dc9cba11559ce6"
  },
  {
   "cell_type": "code",
   "execution_count": null,
   "outputs": [],
   "source": [
    "\"\"\"\n",
    "4., Készíts egy függvényt, ami visszaad egy véletlenül kiválasztott elemet egy egész számokat tartalmazó listából.\n",
    "    függvény neve: random_from_list\n",
    "    bemenet: input_list\n",
    "    kimenetí típus: int\n",
    "\"\"\""
   ],
   "metadata": {
    "collapsed": false
   },
   "id": "c51741266de0cdad"
  },
  {
   "cell_type": "code",
   "execution_count": 14,
   "outputs": [],
   "source": [
    "def random_from_list(input_list):\n",
    "    return random.choice(input_list)"
   ],
   "metadata": {
    "collapsed": false,
    "ExecuteTime": {
     "end_time": "2023-09-23T16:05:15.243721Z",
     "start_time": "2023-09-23T16:05:15.211038Z"
    }
   },
   "id": "72b0c99ffa3612ba"
  },
  {
   "cell_type": "code",
   "execution_count": 15,
   "outputs": [
    {
     "name": "stdout",
     "output_type": "stream",
     "text": [
      "3\n"
     ]
    }
   ],
   "source": [
    "print(random_from_list([1,2,3,2,3,5,1,5,1]))"
   ],
   "metadata": {
    "collapsed": false,
    "ExecuteTime": {
     "end_time": "2023-09-23T16:05:16.067008Z",
     "start_time": "2023-09-23T16:05:16.045255Z"
    }
   },
   "id": "cdde72ad03063a33"
  },
  {
   "cell_type": "markdown",
   "source": [],
   "metadata": {
    "collapsed": false
   },
   "id": "8cf2be8a393566b4"
  },
  {
   "cell_type": "code",
   "execution_count": null,
   "outputs": [],
   "source": [
    "\"\"\"\n",
    "5., Készíts egy függvényt, ami visszaad egy n darab véletlen számot tartalmazó listát egy egész számokat tartalmazó bemenenti listából.\n",
    "    függvény neve: random_sublist_from_list\n",
    "    bemenet: input_list, number_of_elements\n",
    "    kimenetí típus: List\n",
    "\"\"\""
   ],
   "metadata": {
    "collapsed": false
   },
   "id": "3c3b117c6945d95e"
  },
  {
   "cell_type": "code",
   "execution_count": 51,
   "outputs": [],
   "source": [
    "def random_sublist_from_list(input_list, number_of_elements):\n",
    "    return random.choices(input_list, k = number_of_elements)"
   ],
   "metadata": {
    "collapsed": false,
    "ExecuteTime": {
     "end_time": "2023-09-25T12:03:24.537634Z",
     "start_time": "2023-09-25T12:03:24.502533Z"
    }
   },
   "id": "ceac8cab2318777a"
  },
  {
   "cell_type": "code",
   "execution_count": 58,
   "outputs": [
    {
     "name": "stdout",
     "output_type": "stream",
     "text": [
      "[8, 5, 8, 4, 5, 1, 3, 3, 1, 3, 1, 3, 5, 3, 3, 3, 3, 8, 5, 5]\n"
     ]
    }
   ],
   "source": [
    "print(random_sublist_from_list([1, 1, 3, 3, 4, 4, 5, 5, 8, 8], 5))"
   ],
   "metadata": {
    "collapsed": false,
    "ExecuteTime": {
     "end_time": "2023-09-25T12:04:01.314298Z",
     "start_time": "2023-09-25T12:04:01.274481Z"
    }
   },
   "id": "fe7a3b2e5edeb6da"
  },
  {
   "cell_type": "code",
   "execution_count": null,
   "outputs": [],
   "source": [
    "\"\"\"\n",
    "6., Készíts egy függvényt, ami visszaad egy véletlenül kiválasztott elemet egy string-ből.\n",
    "    függvény neve: random_from_string\n",
    "    bemenet: input_string\n",
    "    kimeneti típus: string\n",
    "\"\"\""
   ],
   "metadata": {
    "collapsed": false
   },
   "id": "ed010e62624fc66b"
  },
  {
   "cell_type": "code",
   "execution_count": 30,
   "outputs": [],
   "source": [
    "def random_from_string(input_string):\n",
    "    return random.choice(input_string)"
   ],
   "metadata": {
    "collapsed": false,
    "ExecuteTime": {
     "end_time": "2023-09-23T16:25:14.313383Z",
     "start_time": "2023-09-23T16:25:14.263924Z"
    }
   },
   "id": "b80d5b96ab74845f"
  },
  {
   "cell_type": "code",
   "execution_count": 31,
   "outputs": [
    {
     "name": "stdout",
     "output_type": "stream",
     "text": [
      "l\n"
     ]
    }
   ],
   "source": [
    "print(random_from_string(\"almafa\"))"
   ],
   "metadata": {
    "collapsed": false,
    "ExecuteTime": {
     "end_time": "2023-09-23T16:25:15.318071Z",
     "start_time": "2023-09-23T16:25:15.267376Z"
    }
   },
   "id": "83a9b80d30f40573"
  },
  {
   "cell_type": "code",
   "execution_count": null,
   "outputs": [],
   "source": [
    "'''\n",
    "7., Készíts egy függvényt, amely visszaad egy 100 elemű, 0 és 1 közötti véletlen számokat tartalmazó listát\n",
    "    függvény név: hundred_small_random\n",
    "    bemenet: None\n",
    "    kimeneti típus: List\n",
    "'''"
   ],
   "metadata": {
    "collapsed": false
   },
   "id": "a18853a36629971e"
  },
  {
   "cell_type": "code",
   "execution_count": 32,
   "outputs": [],
   "source": [
    "def hundred_small_random():\n",
    "    return [random.random() for _ in range(100)]"
   ],
   "metadata": {
    "collapsed": false,
    "ExecuteTime": {
     "end_time": "2023-09-23T16:27:04.917345Z",
     "start_time": "2023-09-23T16:27:04.851895Z"
    }
   },
   "id": "7dbab89507762f1c"
  },
  {
   "cell_type": "code",
   "execution_count": 34,
   "outputs": [
    {
     "name": "stdout",
     "output_type": "stream",
     "text": [
      "100\n"
     ]
    }
   ],
   "source": [
    "print(len(hundred_small_random()))"
   ],
   "metadata": {
    "collapsed": false,
    "ExecuteTime": {
     "end_time": "2023-09-23T16:27:23.176815Z",
     "start_time": "2023-09-23T16:27:23.155364Z"
    }
   },
   "id": "30d4ef80cc42dd81"
  },
  {
   "cell_type": "code",
   "execution_count": null,
   "outputs": [],
   "source": [
    "\"\"\"\n",
    "8., Készíts egy függvényt, amely visszaad egy 100 elemű, 10 és 1000 közötti véletlen számokat tartalmazó listát\n",
    "    függvény név: hundred_large_random\n",
    "    bemenet: None\n",
    "    kimeneti típus: List\n",
    "\"\"\""
   ],
   "metadata": {
    "collapsed": false
   },
   "id": "bc12cbcfce92f383"
  },
  {
   "cell_type": "code",
   "execution_count": null,
   "outputs": [],
   "source": [
    "def hundred_large_random():\n",
    "    return [random.randint(10, 1000) for _ in range(100)]"
   ],
   "metadata": {
    "collapsed": false
   },
   "id": "586792b8f8ecd642"
  },
  {
   "cell_type": "code",
   "execution_count": null,
   "outputs": [],
   "source": [],
   "metadata": {
    "collapsed": false
   },
   "id": "fd4a6333ae377e15"
  },
  {
   "cell_type": "code",
   "execution_count": null,
   "outputs": [],
   "source": [
    "\"\"\"\n",
    "9., Készíts egy függvényt, amely visszaad 5 elemű, 9 és 1000 közötti, 3-al osztható egész számokat tartalmazó listát\n",
    "    függvény név: five_random_number_div_three\n",
    "    bemenet: None\n",
    "    kimeneti típus: List\n",
    "\n",
    "\"\"\""
   ],
   "metadata": {
    "collapsed": false
   },
   "id": "ce1496d7f237ab67"
  },
  {
   "cell_type": "code",
   "execution_count": 35,
   "outputs": [],
   "source": [
    "def five_random_number_div_three():\n",
    "    div_three_list = [x for x in range(9, 1000) if x % 3 == 0]\n",
    "    return random.sample(div_three_list, 5)"
   ],
   "metadata": {
    "collapsed": false,
    "ExecuteTime": {
     "end_time": "2023-09-23T16:33:41.543497Z",
     "start_time": "2023-09-23T16:33:41.505775Z"
    }
   },
   "id": "c9e3d1b8fe71de27"
  },
  {
   "cell_type": "code",
   "execution_count": 36,
   "outputs": [
    {
     "name": "stdout",
     "output_type": "stream",
     "text": [
      "[264, 633, 753, 747, 336]\n"
     ]
    }
   ],
   "source": [
    "print(five_random_number_div_three())"
   ],
   "metadata": {
    "collapsed": false,
    "ExecuteTime": {
     "end_time": "2023-09-23T16:33:50.507734Z",
     "start_time": "2023-09-23T16:33:50.468386Z"
    }
   },
   "id": "7f9d89c8ddc6ce59"
  },
  {
   "cell_type": "code",
   "execution_count": null,
   "outputs": [],
   "source": [
    "\"\"\"\n",
    "10., Készíts egy függvényt amely a bemeneti lista elemeit véletlenszerűen összekeveri\n",
    "    függvény név: random_reorder\n",
    "    bemenet: input_list\n",
    "    kimeneti típus: List\n",
    "\"\"\""
   ],
   "metadata": {
    "collapsed": false
   },
   "id": "6ad21e9a5d93bbfb"
  },
  {
   "cell_type": "code",
   "execution_count": 37,
   "outputs": [],
   "source": [
    "def random_reorder(input_list):\n",
    "    return random.sample(input_list, len(input_list))"
   ],
   "metadata": {
    "collapsed": false,
    "ExecuteTime": {
     "end_time": "2023-09-23T16:36:19.354321Z",
     "start_time": "2023-09-23T16:36:19.317332Z"
    }
   },
   "id": "6f0329d3744fca49"
  },
  {
   "cell_type": "code",
   "execution_count": null,
   "outputs": [],
   "source": [],
   "metadata": {
    "collapsed": false
   },
   "id": "af6e3bdb8199d9f2"
  },
  {
   "cell_type": "code",
   "execution_count": null,
   "outputs": [],
   "source": [
    "\"\"\"\n",
    "11., Készíts egy függvényt, amely 1 és 5 közötti egyenletes eloszlású valós véletlen számot ad vissza minden meghívás esetén.\n",
    "    függvény név: uniform_one_to_five\n",
    "    bemenet: None\n",
    "    kimeneti típus: float\n",
    "\"\"\""
   ],
   "metadata": {
    "collapsed": false
   },
   "id": "b346c5d2a2c56fb4"
  },
  {
   "cell_type": "code",
   "execution_count": 59,
   "outputs": [],
   "source": [
    "def uniform_one_to_five():\n",
    "    return random.uniform(1, 5)"
   ],
   "metadata": {
    "collapsed": false,
    "ExecuteTime": {
     "end_time": "2023-09-25T12:07:37.789378Z",
     "start_time": "2023-09-25T12:07:37.751222Z"
    }
   },
   "id": "67c7bbf849747c09"
  },
  {
   "cell_type": "code",
   "execution_count": 63,
   "outputs": [
    {
     "name": "stdout",
     "output_type": "stream",
     "text": [
      "[4.197133992289419, 1.1250537761133348, 2.3751465918455965, 2.116053690744114, 4.682356070820062, 4.383497437114556, 5.460897838524227, 1.4346941631470806, 3.1096090984263522, 1.1489860971903516, 2.093189874018017, 3.526776440516812, 1.1326798484193181, 1.9941882534332425, 4.249422188897616, 3.724707403016083, 2.1022031102034835, 3.946328419379544, 5.047152283389133, 1.032493798390305, 5.02909625916404, 4.490696974941134, 2.7012525825899596, 1.7773974990589076, 5.786065361033906, 2.682972725563134, 1.4637292169007394, 1.48358188416732, 5.237471831737299, 4.018630156834456]\n"
     ]
    }
   ],
   "source": [
    "random.seed(42)\n",
    "print(uniform_one_to_five())"
   ],
   "metadata": {
    "collapsed": false,
    "ExecuteTime": {
     "end_time": "2023-09-25T12:09:10.277752Z",
     "start_time": "2023-09-25T12:09:10.240139Z"
    }
   },
   "id": "fb8a56105b94f9ce"
  },
  {
   "cell_type": "markdown",
   "source": [
    "### Az eloszlásokkal kapcsolatos feladatok megoldását mentse src/utils modul-ba a distributions.py nevű fájlba"
   ],
   "metadata": {
    "collapsed": false
   },
   "id": "e1a6639d7cd229b"
  },
  {
   "cell_type": "markdown",
   "source": [
    "#### II. Eloszlások"
   ],
   "metadata": {
    "collapsed": false
   },
   "id": "5591376fe0ff73b3"
  },
  {
   "cell_type": "code",
   "execution_count": null,
   "outputs": [],
   "source": [
    "\"\"\"\n",
    "1., Hozz létre egy új osztályt, aminek a neve FirstClass\n",
    "    osztály név: FirstClass\n",
    "\"\"\""
   ],
   "metadata": {
    "collapsed": false
   },
   "id": "664df0ef9ac68a9f"
  },
  {
   "cell_type": "code",
   "execution_count": null,
   "outputs": [],
   "source": [
    "class FirstClass:\n",
    "    pass"
   ],
   "metadata": {
    "collapsed": false
   },
   "id": "6ba402a8cb789e1"
  },
  {
   "cell_type": "code",
   "execution_count": null,
   "outputs": [],
   "source": [
    "\"\"\"\n",
    "2., Hozz létre egy új osztályt, aminek a neve SecondClass, és definiáljon benne egy __init__ nevű függvényt, amely bead egy véletlenszám generátort a self.random adattagnak.\n",
    "    Osztály név: SecondClass\n",
    "    függvény név: __init__\n",
    "    bemenet: self, rand\n",
    "\"\"\""
   ],
   "metadata": {
    "collapsed": false
   },
   "id": "e34dccb1f71b37cd"
  },
  {
   "cell_type": "code",
   "execution_count": 48,
   "outputs": [],
   "source": [
    "class SecondClass:\n",
    "    def __init__(self, rand):\n",
    "        self.rand = rand"
   ],
   "metadata": {
    "collapsed": false,
    "ExecuteTime": {
     "end_time": "2023-09-23T23:08:37.882884Z",
     "start_time": "2023-09-23T23:08:37.821612Z"
    }
   },
   "id": "3ee80f24a29d2303"
  },
  {
   "cell_type": "code",
   "execution_count": 47,
   "outputs": [
    {
     "name": "stdout",
     "output_type": "stream",
     "text": [
      "0.025010755222666936\n"
     ]
    }
   ],
   "source": [],
   "metadata": {
    "collapsed": false,
    "ExecuteTime": {
     "end_time": "2023-09-23T18:23:18.010591Z",
     "start_time": "2023-09-23T18:23:17.972923Z"
    }
   },
   "id": "56451accf00c5828"
  },
  {
   "cell_type": "code",
   "execution_count": null,
   "outputs": [],
   "source": [
    "\"\"\"\n",
    "3., Hozzan létre egy új osztályt aminek a neve UniformDistribution. Definiáljon benne a __init__ nevű függvényt, amelynek bemenetként kap egy véletlenszám generátort, és az eloszlás alsó (a) és felső határát (b), amely értékeket adattagokba ment le.\n",
    "    Osztály név: UniformDistribution\n",
    "    függvény név: __init__\n",
    "    bemenet: self, rand, a, b\n",
    "\"\"\"\n",
    "\"\"\"\n",
    "4., Egészítse ki a UniformDistribution osztályt egy új függvénnyel, amely a és b pont közötti értékekhez a hozzájuk tartozó egyenletes eloszlás, eloszlás függvényében hozzárendelt értékét rendeli.\n",
    "    függvény név: pdf\n",
    "    bemenet: x\n",
    "    kimeneti típus: float\n",
    "    link: https://en.wikipedia.org/wiki/Continuous_uniform_distribution\n",
    "\"\"\"\n",
    "\"\"\"\n",
    "5., Egészítse ki a UniformDistribution osztályt egy új függvénnyel, amely megvalósítja az egyenletes eloszlás kumulatív eloszlás függvényét.\n",
    "    függvény név: cdf\n",
    "    bemenet: x\n",
    "    kimeneti típus: float\n",
    "    link: https://en.wikipedia.org/wiki/Continuous_uniform_distribution\n",
    "\"\"\"\n",
    "\"\"\"\n",
    "6., Egészítse ki a UniformDistribution osztályt egy új függvénnyel, amely implementálja az egyenletes eloszlás inverz kumulatív eloszlás függvényét. (percent-point function)\n",
    "    függvény név: ppf\n",
    "    bemenet: p\n",
    "    kimeneti típus: float\n",
    "    link: https://en.wikipedia.org/wiki/Continuous_uniform_distribution\n",
    "\"\"\"\n",
    "\"\"\"\n",
    "7., Egészítse ki a UniformDistribution osztályt egy új függvénnyel, amely az osztály létrehozásánál megadott paraméterek mellett, egyenletes eloszlású véletlen számokat generál minden meghívásnál.\n",
    "    függvény név: gen_random\n",
    "    bemenet: None\n",
    "    kimeneti típus: float\n",
    "    link: https://en.wikipedia.org/wiki/Continuous_uniform_distribution\n",
    "\n",
    "\"\"\"\n",
    "\"\"\"\n",
    "8., Egészítse ki a UniformDistribution osztályt egy új függvénnyel, amely visszaadja az eloszlás függvény átlagát.  Ha az eloszlásnak nincsen ilyen értéke, akkor return helyett hívja meg a raise Exception(\"Moment undefined\") parancsot.\n",
    "    függvény név: mean\n",
    "    bemenet: None\n",
    "    kimeneti típus: float\n",
    "    link: https://en.wikipedia.org/wiki/Continuous_uniform_distribution\n",
    "\"\"\"\n",
    "\"\"\"\n",
    "9., Egészítse ki a UniformDistribution osztályt egy új függvénnyel, amely visszaadja az eloszlás függvény mediánját.\n",
    "    függvény név: median\n",
    "    bemenet: None\n",
    "    kimeneti típus: float\n",
    "    link: https://en.wikipedia.org/wiki/Continuous_uniform_distribution\n",
    "\"\"\"\n",
    "\"\"\"\n",
    "10., Egészítse ki a UniformDistribution osztályt egy új függvénnyel, amely visszaadja az eloszlás függvény varianciáját.  Ha az eloszlásnak nincsen ilyen értéke, akkor return helyett hívja meg a raise Exception(\"Moment undefined\") parancsot.\n",
    "    függvény név: variance\n",
    "    bemenet: None\n",
    "    kimeneti típus: float\n",
    "    link: https://en.wikipedia.org/wiki/Continuous_uniform_distribution\n",
    "\"\"\"\n",
    "\"\"\"\n",
    "11., Egészítse ki a UniformDistribution osztályt egy új függvénnyel, amely visszaadja az eloszlás függvény ferdeségét.  Ha az eloszlásnak nincsen ilyen értéke, akkor return helyett hívja meg a raise Exception(\"Moment undefined\") parancsot.\n",
    "    függvény név: skewness\n",
    "    bemenet: None\n",
    "    kimeneti típus: float\n",
    "    link: https://en.wikipedia.org/wiki/Continuous_uniform_distribution\n",
    "\"\"\"\n",
    "\"\"\"\n",
    "12., Egészítse ki a UniformDistribution osztályt egy új függvénnyel, amely visszaadja az eloszlás függvény többlet csúcsosságát.  Ha az eloszlásnak nincsen ilyen értéke, akkor return helyett hívja meg a raise Exception(\"Moment undefined\") parancsot.\n",
    "    függvény név: ex_kurtosis\n",
    "    bemenet: None\n",
    "    kimeneti típus: float\n",
    "    link: https://en.wikipedia.org/wiki/Continuous_uniform_distribution\n",
    "\"\"\"\n",
    "\"\"\"\n",
    "13., Egészítse ki a UniformDistribution osztályt egy új függvénnyel, amely visszaadja az eloszlás függvény első 3 cetrális momentumát és a többlet csúcsosságot.  Ha az eloszlásnak nincsenek ilyen értékei, akkor return helyett hívja meg a raise Exception(\"Moments undefined\") parancsot.\n",
    "    függvény név: mvsk\n",
    "    bemenet: None\n",
    "    kimeneti típus: List\n",
    "    link: https://en.wikipedia.org/wiki/Continuous_uniform_distribution\n",
    "\"\"\""
   ],
   "metadata": {
    "collapsed": false
   },
   "id": "16a24cd8bbf27601"
  },
  {
   "cell_type": "code",
   "execution_count": null,
   "outputs": [],
   "source": [
    "\n",
    "class UniformDistribution:\n",
    "    def __init__(self, rand, a, b):\n",
    "        self.rand = rand\n",
    "        self.a = a\n",
    "        self.b = b\n",
    "\n",
    "    def pdf(self, x):\n",
    "        if self.a <= x <= self.b:\n",
    "            return 1 / (self.b - self.a)\n",
    "        else:\n",
    "            return 0.0\n",
    "\n",
    "    def cdf(self, x):\n",
    "        if x < self.a:\n",
    "            return 0.0\n",
    "        elif self.a <= x <= self.b:\n",
    "            return (x - self.a) / (self.b - self.a)\n",
    "        else:\n",
    "            return 1.0\n",
    "\n",
    "    def ppf(self, p):\n",
    "        if 0 <= p <= 1:\n",
    "            return self.a + p * (self.b - self.a)\n",
    "        else:\n",
    "            raise ValueError(\"p must be between 0 and 1\")\n",
    "\n",
    "    def gen_random(self):\n",
    "        return self.rand.uniform(self.a, self.b)\n",
    "\n",
    "    def mean(self):\n",
    "        return (self.a + self.b) / 2\n",
    "\n",
    "    def median(self):\n",
    "        return (self.a + self.b) / 2\n",
    "\n",
    "    def variance(self):\n",
    "        if self.a == self.b:\n",
    "            raise Exception(\"Moment undefined\")\n",
    "        \n",
    "        return (self.b - self.a) ** 2 / 12\n",
    "\n",
    "    def skewness(self):\n",
    "        if self.a == self.b:\n",
    "            raise Exception(\"Moment undefined\")\n",
    "        \n",
    "        return 0.0\n",
    "\n",
    "    def ex_kurtosis(self):\n",
    "        if self.a == self.b:\n",
    "            raise Exception(\"Moment undefined\")\n",
    "\n",
    "        ex_kurtosis = 9 / 5 - 3\n",
    "        return ex_kurtosis\n",
    "\n",
    "    def mvsk(self):\n",
    "        if self.a == self.b:\n",
    "            raise Exception(\"Moments undefined\")\n",
    "\n",
    "        moments = [self.mean(), self.variance(), self.skewness(), self.ex_kurtosis()]\n",
    "\n",
    "        return moments"
   ],
   "metadata": {
    "collapsed": false
   },
   "id": "bd08e6c93ec9bf3a"
  },
  {
   "cell_type": "code",
   "execution_count": null,
   "outputs": [],
   "source": [],
   "metadata": {
    "collapsed": false
   },
   "id": "316f42ca481d150b"
  },
  {
   "cell_type": "code",
   "execution_count": null,
   "outputs": [],
   "source": [
    "\"\"\"\n",
    "14., Hozzan létre egy új osztályt aminek a neve NormalDistribution. Definiáljon benne a __init__ nevű függvényt, amelynek bemenetként kap egy véletlenszám generátort, és az eloszlás várható értékét (location) és varianciáját (scale), amely értékeket adattagokba ment le.\n",
    "    Osztály név: NormalDistribution\n",
    "    függvény név: __init__\n",
    "    bemenet: self, rand, loc, scale\n",
    "\"\"\"\n",
    "\"\"\"\n",
    "15., Egészítse ki a NormalDistribution osztályt egy új függvénnyel, amely loc várható értékű és scale varianciájú normális eloszlás eloszlásfüggvényéből rendel valószínűségi értéket a bemeneti x valós számhoz.\n",
    "    függvény név: pdf\n",
    "    bemenet: x\n",
    "    kimeneti típus: float\n",
    "    link: https://en.wikipedia.org/wiki/Normal_distribution\n",
    "\"\"\"\n",
    "\"\"\"\n",
    "16., Egészítse ki a NormalDistribution osztályt egy új függvénnyel, amely megvalósítja az eloszlás kumulatív eloszlás függvényét.\n",
    "    függvény név: cdf\n",
    "    bemenet: x\n",
    "    kimeneti típus: float\n",
    "    link: https://en.wikipedia.org/wiki/Normal_distribution\n",
    "\"\"\"\n",
    "\"\"\"\n",
    "17., Egészítse ki a NormalDistribution osztályt egy új függvénnyel, amely implementálja az eloszlás inverz kumulatív eloszlás függvényét\n",
    "    függvény név: ppf\n",
    "    bemenet: p\n",
    "    kimeneti típus: float\n",
    "    link: https://en.wikipedia.org/wiki/Normal_distribution\n",
    "\"\"\"\n",
    "\"\"\"\n",
    "18., Egészítse ki a NormalDistribution osztályt egy új függvénnyel, amely az osztály létrehozásánál megadott paraméterek mellett, normális eloszlású véletlen számokat generál minden meghívásnál\n",
    "    függvény név: gen_random\n",
    "    bemenet: None\n",
    "    kimeneti típus: float\n",
    "    link: https://en.wikipedia.org/wiki/Normal_distribution\n",
    "\n",
    "\"\"\"\n",
    "\"\"\"\n",
    "19., Egészítse ki a NormalDistribution osztályt egy új függvénnyel, amely visszaadja az eloszlás függvény átlagát.  Ha az eloszlásnak nincsen ilyen értéke, akkor return helyett hívja meg a raise Exception(\"Moment undefined\") parancsot.\n",
    "    függvény név: mean\n",
    "    bemenet: None\n",
    "    kimeneti típus: float\n",
    "    link: https://en.wikipedia.org/wiki/Normal_distribution\n",
    "\"\"\"\n",
    "\"\"\"\n",
    "20., Egészítse ki a NormalDistribution osztályt egy új függvénnyel, amely visszaadja az eloszlás függvény mediánját\n",
    "    függvény név: median\n",
    "    bemenet: None\n",
    "    kimeneti típus: float\n",
    "    link: https://en.wikipedia.org/wiki/Normal_distribution\n",
    "\"\"\"\n",
    "\"\"\"\n",
    "21., Egészítse ki a NormalDistribution osztályt egy új függvénnyel, amely visszaadja az eloszlás függvény varianciáját.  Ha az eloszlásnak nincsen ilyen értéke, akkor return helyett hívja meg a raise Exception(\"Moment undefined\") parancsot.\n",
    "    függvény név: variance\n",
    "    bemenet: None\n",
    "    kimeneti típus: float\n",
    "    link: https://en.wikipedia.org/wiki/Normal_distribution\n",
    "\"\"\"\n",
    "\"\"\"\n",
    "22., Egészítse ki a NormalDistribution osztályt egy új függvénnyel, amely visszaadja az eloszlás függvény ferdeségét.  Ha az eloszlásnak nincsen ilyen értéke, akkor return helyett hívja meg a raise Exception(\"Moment undefined\") parancsot.\n",
    "    függvény név: skewness\n",
    "    bemenet: None\n",
    "    kimeneti típus: float\n",
    "    link: https://en.wikipedia.org/wiki/Normal_distribution\n",
    "\"\"\"\n",
    "\n",
    "\"\"\"\n",
    "23., Egészítse ki a NormalDistribution osztályt egy új függvénnyel, amely visszaadja az eloszlás függvény többlet csúcsosságát.  Ha az eloszlásnak nincsen ilyen értéke, akkor return helyett hívja meg a raise Exception(\"Moment undefined\") parancsot.\n",
    "    függvény név: ex_kurtosis\n",
    "    bemenet: None\n",
    "    kimeneti típus: float\n",
    "    link: https://en.wikipedia.org/wiki/Normal_distribution\n",
    "\"\"\"\n",
    "\n",
    "\"\"\"\n",
    "24., Egészítse ki a NormalDistribution osztályt egy új függvénnyel, amely visszaadja az eloszlás függvény első 3 cetrális momentumát és a többlet csúcsosságot.  Ha az eloszlásnak nincsenek ilyen értékei, akkor return helyett hívja meg a raise Exception(\"Moment undefined\") parancsot.\n",
    "    függvény név: mvsk\n",
    "    bemenet: None\n",
    "    kimeneti típus: List\n",
    "    link: https://en.wikipedia.org/wiki/Normal_distribution\n",
    "\"\"\""
   ],
   "metadata": {
    "collapsed": false
   },
   "id": "982e36a2889ff566"
  },
  {
   "cell_type": "code",
   "execution_count": 49,
   "outputs": [],
   "source": [
    "import math"
   ],
   "metadata": {
    "collapsed": false,
    "ExecuteTime": {
     "end_time": "2023-09-24T14:19:42.018759Z",
     "start_time": "2023-09-24T14:19:41.966561Z"
    }
   },
   "id": "27eb78cbb49e2061"
  },
  {
   "cell_type": "code",
   "execution_count": 50,
   "outputs": [],
   "source": [
    "import math\n",
    "import pyerf\n",
    "\n",
    "class NormalDistribution:\n",
    "    def __init__(self, rand, loc, scale):\n",
    "        self.rand = rand\n",
    "        self.loc = loc\n",
    "        self.scale = scale\n",
    "\n",
    "    def pdf(self, x):\n",
    "        exp_term = -0.5 * ((x - self.loc) / math.sqrt(self.scale)) ** 2\n",
    "        return (1 / math.sqrt((self.scale * 2 * math.pi))) * math.exp(exp_term)\n",
    "\n",
    "    def cdf(self, x):\n",
    "        z = (x - self.loc) / math.sqrt(self.scale)\n",
    "        return 0.5 * (1 + pyerf.erf(z / math.sqrt(2)))\n",
    "\n",
    "    def ppf(self, p):\n",
    "        if 0 <= p <= 1:\n",
    "            z = math.sqrt(2) * pyerf.erfinv(2 * p - 1)\n",
    "            return self.loc + z * math.sqrt(self.scale)\n",
    "        else:\n",
    "            raise ValueError(\"p must be between 0 and 1\")\n",
    "\n",
    "    def gen_random(self):\n",
    "        return self.rand.normal(self.loc, self.scale)\n",
    "\n",
    "    def mean(self):\n",
    "        return self.loc\n",
    "\n",
    "    def median(self):\n",
    "        return self.loc\n",
    "\n",
    "    def variance(self):\n",
    "        return self.scale\n",
    "\n",
    "    def skewness(self):\n",
    "        return 0.0\n",
    "\n",
    "    def ex_kurtosis(self):\n",
    "        return 0.0\n",
    "\n",
    "    def mvsk(self):\n",
    "        return [self.mean(), self.variance(), self.skewness(), self.ex_kurtosis()]\n"
   ],
   "metadata": {
    "collapsed": false,
    "ExecuteTime": {
     "end_time": "2023-09-24T14:22:53.134437Z",
     "start_time": "2023-09-24T14:22:53.096997Z"
    }
   },
   "id": "458acbe6ee93cd47"
  },
  {
   "cell_type": "code",
   "execution_count": null,
   "outputs": [],
   "source": [],
   "metadata": {
    "collapsed": false
   },
   "id": "33b2b698ad872fee"
  },
  {
   "cell_type": "code",
   "execution_count": null,
   "outputs": [],
   "source": [
    "\"\"\"\n",
    "25., Hozzan létre egy új osztályt aminek a neve CauchyDistribution. Definiáljon benne a __init__ nevű függvényt, amelynek bemenetként kap egy véletlenszám generátort, az x0 (location) és gamma (scale) értékeket, amelyeket adattagokba ment le.\n",
    "    Osztály név: CauchyDistribution\n",
    "    függvény név: __init__\n",
    "    bemenet: self, rand, loc, scale\n",
    "\"\"\"\n",
    "\n",
    "\"\"\"\n",
    "26., Egészítse ki a CauchyDistribution osztályt egy új függvénnyel, amely a bemeneti x értékhez hozzárendeli annak valószínűségi értékét\n",
    "    függvény név: pdf\n",
    "    bemenet: x\n",
    "    kimeneti típus: float\n",
    "    link: https://en.wikipedia.org/wiki/Cauchy_distribution\n",
    "\"\"\"\n",
    "\n",
    "\"\"\"\n",
    "27., Egészítse ki a CauchyDistribution osztályt egy új függvénnyel, amely megvalósítja az eloszlás kumulatív eloszlás függvényét.\n",
    "    függvény név: cdf\n",
    "    bemenet: x\n",
    "    kimeneti típus: float\n",
    "    link: https://en.wikipedia.org/wiki/Cauchy_distribution\n",
    "\"\"\"\n",
    "\n",
    "\"\"\"\n",
    "28., Egészítse ki a CauchyDistribution osztályt egy új függvénnyel, amely implementálja az eloszlás inverz kumulatív eloszlás függvényét\n",
    "    függvény név: ppf\n",
    "    bemenet: p\n",
    "    kimeneti típus: float\n",
    "    link: https://en.wikipedia.org/wiki/Cauchy_distribution\n",
    "\"\"\"\n",
    "\n",
    "\"\"\"\n",
    "29., Egészítse ki a CauchyDistribution osztályt egy új függvénnyel, amely az osztály létrehozásánál megadott paraméterek mellett, cauchy eloszlású véletlen számokat generál minden meghívásnál\n",
    "    függvény név: gen_random\n",
    "    bemenet: None\n",
    "    kimeneti típus: float\n",
    "    link: https://en.wikipedia.org/wiki/Cauchy_distribution\n",
    "\"\"\"\n",
    "\n",
    "\"\"\"\n",
    "30., Egészítse ki a CauchyDistribution osztályt egy új függvénnyel, amely visszaadja az eloszlás függvény átlagát. Ha az eloszlásnak nincsen ilyen értéke, akkor return helyett hívja meg a raise Exception(\"Moment undefined\") parancsot.\n",
    "    függvény név: mean\n",
    "    bemenet: None\n",
    "    kimeneti típus: float\n",
    "    link: https://en.wikipedia.org/wiki/Cauchy_distribution\n",
    "\"\"\"\n",
    "\n",
    "\"\"\"\n",
    "31., Egészítse ki a CauchyDistribution osztályt egy új függvénnyel, amely visszaadja az eloszlás függvény mediánját.\n",
    "    függvény név: median\n",
    "    bemenet: None\n",
    "    kimeneti típus: float\n",
    "    link: https://en.wikipedia.org/wiki/Cauchy_distribution\n",
    "\"\"\"\n",
    "\n",
    "\"\"\"\n",
    "32., Egészítse ki a CauchyDistribution osztályt egy új függvénnyel, amely visszaadja az eloszlás függvény varianciáját.  Ha az eloszlásnak nincsen ilyen értéke, akkor return helyett hívja meg a raise Exception(\"Moment undefined\") parancsot.\n",
    "    függvény név: variance\n",
    "    bemenet: None\n",
    "    kimeneti típus: float\n",
    "    link: https://en.wikipedia.org/wiki/Cauchy_distribution\n",
    "\"\"\"\n",
    "\n",
    "\"\"\"\n",
    "33., Egészítse ki a CauchyDistribution osztályt egy új függvénnyel, amely visszaadja az eloszlás függvény ferdeségét.  Ha az eloszlásnak nincsen ilyen értéke, akkor return helyett hívja meg a raise Exception(\"Moment undefined\") parancsot.\n",
    "    függvény név: skewness\n",
    "    bemenet: None\n",
    "    kimeneti típus: float\n",
    "    link: https://en.wikipedia.org/wiki/Cauchy_distribution\n",
    "\"\"\"\n",
    "\n",
    "\"\"\"\n",
    "34., Egészítse ki a CauchyDistribution osztályt egy új függvénnyel, amely visszaadja az eloszlás függvény többlet csúcsosságát.  Ha az eloszlásnak nincsen ilyen értéke, akkor return helyett hívja meg a raise Exception(\"Moment undefined\") parancsot.\n",
    "    függvény név: ex_kurtosis\n",
    "    bemenet: None\n",
    "    kimeneti típus: float\n",
    "    link: https://en.wikipedia.org/wiki/Cauchy_distribution\n",
    "\"\"\"\n",
    "\n",
    "\"\"\"\n",
    "35., Egészítse ki a CauchyDistribution osztályt egy új függvénnyel, amely visszaadja az eloszlás függvény első 3 cetrális momentumát és a többlet csúcsosságot.  Ha az eloszlásnak nincsenek ilyen értékei, akkor return helyett hívja meg a raise Exception(\"Moments undefined\") parancsot.\n",
    "    függvény név: mvsk\n",
    "    bemenet: None\n",
    "    kimeneti típus: List\n",
    "    link: https://en.wikipedia.org/wiki/Cauchy_distribution\n",
    "\"\"\""
   ],
   "metadata": {
    "collapsed": false
   },
   "id": "4cf53dd0ca6be7bf"
  },
  {
   "cell_type": "code",
   "execution_count": null,
   "outputs": [],
   "source": [
    "import math\n",
    "\n",
    "class CauchyDistribution:\n",
    "    def __init__(self, rand, loc, scale):\n",
    "        self.rand = rand\n",
    "        self.loc = loc\n",
    "        self.scale = scale\n",
    "\n",
    "    def pdf(self, x):\n",
    "        return (1 / (math.pi * self.scale)) * (self.scale ** 2 / ((x - self.loc) ** 2 + self.scale ** 2))\n",
    "\n",
    "    def cdf(self, x):\n",
    "        return 0.5 + (1 / math.pi) * math.atan((x - self.loc) / self.scale)\n",
    "\n",
    "    def ppf(self, p):\n",
    "        if 0 <= p <= 1:\n",
    "            return self.loc + self.scale * math.tan(math.pi * (p - 0.5))\n",
    "        else:\n",
    "            raise ValueError(\"p must be between 0 and 1\")\n",
    "\n",
    "    def gen_random(self):\n",
    "        return self.rand.paretovariate(1) * self.scale + self.loc\n",
    "\n",
    "    def mean(self):\n",
    "        raise Exception(\"Moment undefined\")\n",
    "\n",
    "    def median(self):\n",
    "        return self.loc\n",
    "\n",
    "    def variance(self):\n",
    "        raise Exception(\"Moment undefined\")\n",
    "\n",
    "    def skewness(self):\n",
    "        raise Exception(\"Moment undefined\")\n",
    "\n",
    "    def ex_kurtosis(self):\n",
    "        raise Exception(\"Moment undefined\")\n",
    "\n",
    "    def mvsk(self):\n",
    "        raise Exception(\"Moments undefined\")\n"
   ],
   "metadata": {
    "collapsed": false
   },
   "id": "e945447dfe21a612"
  },
  {
   "cell_type": "code",
   "execution_count": null,
   "outputs": [],
   "source": [],
   "metadata": {
    "collapsed": false
   },
   "id": "435dfed4191c324"
  }
 ],
 "metadata": {
  "kernelspec": {
   "display_name": "Python 3",
   "language": "python",
   "name": "python3"
  },
  "language_info": {
   "codemirror_mode": {
    "name": "ipython",
    "version": 2
   },
   "file_extension": ".py",
   "mimetype": "text/x-python",
   "name": "python",
   "nbconvert_exporter": "python",
   "pygments_lexer": "ipython2",
   "version": "2.7.6"
  }
 },
 "nbformat": 4,
 "nbformat_minor": 5
}
