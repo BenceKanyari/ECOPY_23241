{
 "cells": [
  {
   "cell_type": "markdown",
   "id": "de9d9737616514b8",
   "metadata": {
    "collapsed": false
   },
   "source": [
    "Az osztály(oka)t mentsd a __src/linear_regression__ modul __LinearRegressions.py__ fájljába\n",
    "Használható modulok: _pathlib, pandas, typing, str, numpy_, valamint a _scipy.stats t_ és _f_ osztályai"
   ]
  },
  {
   "cell_type": "code",
   "execution_count": null,
   "outputs": [],
   "source": [
    "%load_ext autoreload\n",
    "%autoreload 2"
   ],
   "metadata": {
    "collapsed": false
   },
   "id": "7066ec7a2294843b"
  },
  {
   "cell_type": "code",
   "execution_count": null,
   "id": "dfea6e648868022e",
   "metadata": {
    "collapsed": false
   },
   "outputs": [],
   "source": [
    "from pathlib import Path\n"
   ]
  },
  {
   "cell_type": "code",
   "execution_count": null,
   "outputs": [],
   "source": [
    "datalib = Path.cwd().parent.joinpath('data')"
   ],
   "metadata": {
    "collapsed": false
   },
   "id": "b0b5dd4685315eda"
  },
  {
   "cell_type": "markdown",
   "source": [
    "### Adatelőkészítés (0 pont)\n",
    "1., Olvasd be a data mappa __sp500.parquet__ nevű fájlját egy DataFrame-be. A betöltéshez használt engine paramétere legyen <u>fastparquet</u>\n",
    "2., Olvasd be az __ff_factors.parquet__ fájlt egy DataFrame-be. A betöltéshez használt engine paramétere legyen <u>fastparquet</u>\n",
    "3., Kapcsold össze a két DataFrame-t egy új DataFrame-be. Az összekapcsolás módja, hogy a hozam adatokra balról kapcsoljuk rá a factor adatokat a __'Date' elsődleges kulcs__ alapján.\n",
    "4., Készíts egy új __'Excess Return'__ nevű oszlopot, ami a havi hozamok és a kockázat mentes hozam (RF) különbsége\n",
    "5., <u>Rendezd sorba dátum szerint az adatokat</u>, majd generálj egy új oszlopot (__'ex_ret_1'__), amely minden ticker ('Symbol') esetén 1-el eltolja az Excess Return értékeit olyan módon, hogy minden sorban szerepeljen a <u>következő időszaki Excess Return</u> érték. \n",
    "6., A meglévő adathalmazt írd felül olyan módon, hogy egyszer <u>törlöd az össze olyan sort</u>, amely az __'ex_ret_1' oszlopban hiányos__, majd ezt követően, törlöd az összes olyan sort, ami a __'HML' oszlopban hiányos__.\n"
   ],
   "metadata": {
    "collapsed": false
   },
   "id": "dad5a013c358987e"
  },
  {
   "cell_type": "markdown",
   "source": [
    "3. feladat segítség\n",
    "![Joined data](../resources/weekly6/joined_data.jpg)"
   ],
   "metadata": {
    "collapsed": false
   },
   "id": "cf54c6765186a23e"
  },
  {
   "cell_type": "markdown",
   "source": [
    "5. feladat segítség\n",
    "![new column](../resources/weekly6/ex_ret_1.jpg)"
   ],
   "metadata": {
    "collapsed": false
   },
   "id": "a6be746933376572"
  },
  {
   "cell_type": "code",
   "execution_count": null,
   "id": "44865d1982f4fe17",
   "metadata": {
    "collapsed": false
   },
   "outputs": [],
   "source": []
  },
  {
   "cell_type": "markdown",
   "source": [
    "### Modell összeállítás (7 pont)\n",
    "\n",
    "A meglévő adatokból válaszd ki a __Amazon részvényhez tartozó sorokat (AMZN)__ és töröld a tickereket tartalmazó oszlopot.\n",
    " <u>Ebben a blokkban önellenőrzésre használhatod a legutóbbi zárthelyin írt osztályodat.</u>\n",
    "\n",
    "7., Készíts egy új __LinearRegressionNP__ elnevezésű osztályt. Definiáld benne a __\\_\\_init\\_\\___ nevű függvényt, amely bemenetként 2 DataFrame-t kap amelyeket ments le a left_hand_side és right_hand_side elnevezésű változókba. Az egyik DataFrame fogja tartalmazni a következő hónap többlet hozamait (__left_hand_side__), a másik a piaci hozamokat (Mkt-RF), az SMB és a HML értékeket (__right_hand_side__).\n",
    "\n",
    "8., Egésztsd ki az osztályt egy __fit__ metódussal, ami OLS elvű becslést hajt végre. Figyelj oda, hogy a regresszió futtatása során konstans (alfa / béta_0) is szerepeljen a predictor változók között. <u>__(numpy.linalg.lstsq() nem használható)__</u>\n",
    "\n",
    "9., Egészítsd ki az osztályt egy __get_params__ metódussal, ami visszaadja a becsült modell béta paramétereinek értékeit. A visszakapott pandas Series típusú adatban az oszlop neve legyen __Beta coefficients__. \n",
    "\n",
    "10., Egészítsd ki az osztályt egy __get_pvalues__ metódussal, ami visszaadja a becsült modell paraméterekhez tartozó p értékeket. A visszakapott pandas Series típusú adatban az oszlop neve legyen: __P-values for the corresponding coefficients__. A p értéket t-statisztika alapján számold ki. A p-érték kiszámításánál figyelj alkalmazd a <u>min(value, 1-value) * 2</u> képletet.\n",
    "\n",
    "11., Egészítsd ki az osztályt egy __get_wald_test_result__ metódussal, ami visszaadja a bemeneti restrikciós mátrix alapján számolt F és p értékeket. A visszatérési típus string legyen, a visszaadandó szöveg: __Wald: wald_value, p-value: p_value__, ahol az wald_value és p_value helyére 3 tizedesjegyre kerekítve (__:.3f__) add meg a hozzájuk tartozó értékeket. A függvény bemenete során feltételezzük, hogy r minden eleme 0, R-t listák listája formában adjuk át. A Wald statisztika p értékét az előző feladathoz hasonlóan számold ki, de figyelj, hogy a <u>teszt 1 oldalú</u>.\n",
    "\n",
    "12., Egészítse ki az osztályt egy __get_model_goodness_values__ metódussal, ami visszadja a centrált és a módosított R-négyzet értékeket. A visszatérési típus string legyen, a visszaadandó szöveg: __Centered R-squared: crs, Adjusted R-squared: ars__, ahol crs és ars helyére 3 tizedesjegyre kerekítve (__:.3f__) add meg a hozzájuk tartozó értékeket. <u>Ha a regresszorok számába eredetileg beleszámítottad a konstanst is, akkor a módosított R-négyzet számítás nevezőjében nincs szükség a __-1__-es tagra</u>."
   ],
   "metadata": {
    "collapsed": false
   },
   "id": "1888d0ef54d4b2c3"
  },
  {
   "cell_type": "code",
   "execution_count": 1,
   "outputs": [],
   "source": [
    "import pandas as pd\n",
    "import scipy.stats as stats\n",
    "import numpy as np\n",
    "\n",
    "sp500=pd.read_parquet('../data/sp500.parquet')\n",
    "\n",
    "ff_factors=pd.read_parquet('../data/ff_factors.parquet')\n",
    "\n",
    "data=pd.merge(sp500, ff_factors, on='Date', how='left')\n",
    "\n",
    "data['Excess Return']=data['Monthly Returns'] - data['RF']\n",
    "\n",
    "data.sort_index(inplace=True)\n",
    "data['ex_ret_1']=data.groupby('Symbol')['Excess Return'].shift(-1)\n",
    "data.sort_values(['Symbol', 'Date'], ascending=[True, True], inplace=True)\n",
    "\n",
    "data.dropna(subset=['ex_ret_1'], inplace=True)\n",
    "data.dropna(subset=['HML'], inplace=True)\n",
    "\n",
    "data=data[data['Symbol']=='AMZN']\n",
    "data.drop(columns=['Symbol'], inplace=True)"
   ],
   "metadata": {
    "collapsed": false,
    "ExecuteTime": {
     "end_time": "2023-11-08T18:34:05.194346Z",
     "start_time": "2023-11-08T18:33:53.824176Z"
    }
   },
   "id": "220975d29160a84e"
  },
  {
   "cell_type": "code",
   "execution_count": 3,
   "outputs": [],
   "source": [
    "class LinearRegressionNP:\n",
    "    def __init__(self, left_hand_side, right_hand_side):\n",
    "        self.left_hand_side = left_hand_side\n",
    "        self.right_hand_side = right_hand_side\n",
    "        self.coefficients = None\n",
    "        self.residuals = None\n",
    "        self.p_values = None\n",
    "        self.crs = None\n",
    "        self.ars = None\n",
    "\n",
    "    def fit(self):\n",
    "        X = np.column_stack((np.ones(len(self.right_hand_side)), self.right_hand_side))\n",
    "        y = self.left_hand_side\n",
    "        self.coefficients = np.linalg.inv(X.T @ X) @ X.T @ y\n",
    "\n",
    "        n, k = X.shape\n",
    "        self.residuals = y - X @ self.coefficients\n",
    "        sigma_squared = np.sum(self.residuals ** 2) / (n - k)\n",
    "        var_beta = np.linalg.inv(X.T @ X) * sigma_squared\n",
    "        t_statistic = self.coefficients / np.sqrt(np.diag(var_beta))\n",
    "        self.p_values = 2 * (1 - stats.t.cdf(np.abs(t_statistic), df=n-k))\n",
    "\n",
    "        rss = np.sum(self.residuals ** 2)\n",
    "        tss = np.sum((y - np.mean(y)) ** 2)\n",
    "\n",
    "        self.crs = 1 - rss / tss\n",
    "        self.ars = 1 - (rss / (n - k)) / (tss / (n - 1))\n",
    "    def get_params(self):\n",
    "        return pd.Series(self.coefficients, name='Beta coefficients')\n",
    "\n",
    "    def get_pvalues(self):\n",
    "        return pd.Series(self.p_values, name='P-values for the corresponding coefficients')\n",
    "\n",
    "    def get_wald_test_result(self, constraints):\n",
    "        constraints = np.array(constraints)\n",
    "        n = len(self.left_hand_side)\n",
    "        m, k = constraints.shape\n",
    "        sigma_squared = np.sum(self.residuals ** 2) / (n - k)\n",
    "        X = np.column_stack((np.ones(len(self.right_hand_side)), self.right_hand_side))\n",
    "\n",
    "        H = constraints @ np.linalg.inv(X.T @ X) @ constraints.T\n",
    "        wald = (constraints @ self.coefficients).T @ np.linalg.inv(H) @ (constraints @ self.coefficients)\n",
    "        wald = wald / m / sigma_squared\n",
    "        p_value = 1 - stats.f.cdf(wald, dfn=m, dfd=n - k)\n",
    "\n",
    "        return f'Wald: {wald:.3f}, p-value: {p_value:.3f}'\n",
    "\n",
    "    def get_model_goodness_values(self):\n",
    "        crs = self.crs\n",
    "        ars = self.ars\n",
    "\n",
    "        return f'Centered R-squared: {crs:.3f}, Adjusted R-squared: {ars:.3f}'\n"
   ],
   "metadata": {
    "collapsed": false,
    "ExecuteTime": {
     "end_time": "2023-11-08T18:35:09.820356Z",
     "start_time": "2023-11-08T18:35:09.814566Z"
    }
   },
   "id": "b9457f7880e8b7da"
  },
  {
   "cell_type": "code",
   "execution_count": 4,
   "outputs": [
    {
     "name": "stdout",
     "output_type": "stream",
     "text": [
      "0    0.015820\n",
      "1   -0.471831\n",
      "2    0.411126\n",
      "3   -0.054560\n",
      "Name: Beta coefficients, dtype: float64\n",
      "0    0.104176\n",
      "1    0.026106\n",
      "2    0.173041\n",
      "3    0.846058\n",
      "Name: P-values for the corresponding coefficients, dtype: float64\n",
      "Wald: 1.979, p-value: 0.119\n",
      "Centered R-squared: 0.030, Adjusted R-squared: 0.015\n"
     ]
    }
   ],
   "source": [
    "model = LinearRegressionNP(data[\"ex_ret_1\"], data[[\"Mkt-RF\", \"SMB\", \"HML\"]])\n",
    "model.fit()\n",
    "print(model.get_params())\n",
    "print(model.get_pvalues())\n",
    "print(model.get_wald_test_result([[0, 1, 0, 0], [0, 0, 1, 0], [0, 0, 0, 1]]))\n",
    "print(model.get_model_goodness_values())"
   ],
   "metadata": {
    "collapsed": false,
    "ExecuteTime": {
     "end_time": "2023-11-08T18:35:36.567079Z",
     "start_time": "2023-11-08T18:35:36.541166Z"
    }
   },
   "id": "3612dabb0b44e28d"
  },
  {
   "cell_type": "code",
   "execution_count": null,
   "outputs": [],
   "source": [],
   "metadata": {
    "collapsed": false
   },
   "id": "49bf5ef1e06805a9"
  }
 ],
 "metadata": {
  "kernelspec": {
   "display_name": "Python 3 (ipykernel)",
   "language": "python",
   "name": "python3"
  },
  "language_info": {
   "codemirror_mode": {
    "name": "ipython",
    "version": 3
   },
   "file_extension": ".py",
   "mimetype": "text/x-python",
   "name": "python",
   "nbconvert_exporter": "python",
   "pygments_lexer": "ipython3",
   "version": "3.10.4"
  }
 },
 "nbformat": 4,
 "nbformat_minor": 5
}
